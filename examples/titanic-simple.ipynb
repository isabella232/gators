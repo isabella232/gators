{
 "cells": [
  {
   "cell_type": "markdown",
   "metadata": {},
   "source": [
    "# binary classification example - titanic dataset"
   ]
  },
  {
   "cell_type": "code",
   "execution_count": 1,
   "metadata": {},
   "outputs": [],
   "source": [
    "import warnings\n",
    "warnings.filterwarnings('ignore')"
   ]
  },
  {
   "cell_type": "code",
   "execution_count": 2,
   "metadata": {},
   "outputs": [],
   "source": [
    "%load_ext autoreload\n",
    "%autoreload 2"
   ]
  },
  {
   "cell_type": "code",
   "execution_count": 3,
   "metadata": {},
   "outputs": [
    {
     "name": "stderr",
     "output_type": "stream",
     "text": [
      "WARNING:root:Found pyspark version \"3.2.0\" installed. The pyspark version 3.2 and above has a built-in \"pandas APIs on Spark\" module ported from Koalas. Try `import pyspark.pandas as ps` instead. \n",
      "WARNING:root:'PYARROW_IGNORE_TIMEZONE' environment variable was not set. It is required to set this environment variable to '1' in both driver and executor sides if you use pyarrow>=2.0.0. Koalas will set it for you but it does not work if there is a Spark context already launched.\n"
     ]
    }
   ],
   "source": [
    "import copy\n",
    "import numpy as np\n",
    "import pandas as pd\n",
    "import databricks.koalas as ks\n",
    "from pandas.testing import assert_frame_equal\n",
    "from pandas.testing import assert_series_equal\n",
    "from xgboost import XGBClassifier\n",
    "import treelite\n",
    "import treelite_runtime\n",
    "import dill\n",
    "from sklearn.metrics import make_scorer\n",
    "from sklearn.model_selection import StratifiedKFold\n",
    "from xgboost import XGBClassifier\n",
    "from hyperopt import hp\n",
    "from hyperopt import tpe"
   ]
  },
  {
   "cell_type": "code",
   "execution_count": 4,
   "metadata": {},
   "outputs": [
    {
     "name": "stderr",
     "output_type": "stream",
     "text": [
      "WARNING: An illegal reflective access operation has occurred\n",
      "WARNING: Illegal reflective access by org.apache.spark.unsafe.Platform (file:/Users/cpoli/gators38/lib/python3.8/site-packages/pyspark/jars/spark-unsafe_2.12-3.2.0.jar) to constructor java.nio.DirectByteBuffer(long,int)\n",
      "WARNING: Please consider reporting this to the maintainers of org.apache.spark.unsafe.Platform\n",
      "WARNING: Use --illegal-access=warn to enable warnings of further illegal reflective access operations\n",
      "WARNING: All illegal access operations will be denied in a future release\n",
      "Using Spark's default log4j profile: org/apache/spark/log4j-defaults.properties\n",
      "Setting default log level to \"WARN\".\n",
      "To adjust logging level use sc.setLogLevel(newLevel). For SparkR, use setLogLevel(newLevel).\n",
      "21/11/29 08:52:49 WARN NativeCodeLoader: Unable to load native-hadoop library for your platform... using builtin-java classes where applicable\n",
      "21/11/29 08:52:49 WARN Utils: Service 'SparkUI' could not bind on port 4040. Attempting port 4041.\n"
     ]
    }
   ],
   "source": [
    "from pyspark import SparkConf, SparkContext\n",
    "conf = SparkConf()\n",
    "conf.set('spark.executor.memory', '2g')\n",
    "SparkContext(conf=conf)\n",
    "ks.set_option('compute.default_index_type', 'distributed-sequence')"
   ]
  },
  {
   "cell_type": "code",
   "execution_count": 5,
   "metadata": {},
   "outputs": [],
   "source": [
    "from gators.util import util\n",
    "# data cleaning\n",
    "from gators.data_cleaning import (\n",
    "    DropHighNaNRatio,\n",
    "    DropLowCardinality,\n",
    "    DropHighCardinality,\n",
    "    DropDatatypeColumns,\n",
    "    DropColumns,\n",
    "    KeepColumns,\n",
    "    Replace,\n",
    ")\n",
    "# imputers\n",
    "from gators.imputers import (\n",
    "    NumericsImputer, \n",
    "    ObjectImputer,\n",
    ")\n",
    "# encoders\n",
    "from gators.encoders import (\n",
    "    OrdinalEncoder, \n",
    "    WOEEncoder,\n",
    "    OneHotEncoder\n",
    ")\n",
    "# binning\n",
    "from gators.binning import (\n",
    "    BinRareCategories,\n",
    "    Binning,\n",
    "    CustomBinning,\n",
    "    QuantileBinning,\n",
    "    TreeBinning,\n",
    ")\n",
    "# feature generation\n",
    "from gators.feature_generation import (\n",
    "    PolynomialFeatures,\n",
    "    ElementaryArithmetics,\n",
    "    PolynomialObjectFeatures,\n",
    ")\n",
    "from gators.feature_generation_str import (\n",
    "    StringContains,\n",
    "    StringLength,\n",
    "    Extract,\n",
    "    SplitExtract,\n",
    ")\n",
    "# feature selection\n",
    "from gators.feature_selection import (\n",
    "    SelectFromModel,\n",
    "    InformationValue\n",
    ")\n",
    "# model building\n",
    "from gators.model_building import (\n",
    "    TrainTestSplit,\n",
    "    HyperOpt,\n",
    "    XGBBoosterBuilder,\n",
    "    XGBTreeliteDumper,\n",
    ")\n",
    "# pipeline\n",
    "from gators.pipeline import Pipeline"
   ]
  },
  {
   "cell_type": "markdown",
   "metadata": {},
   "source": [
    "## offline pipeline - feature selection"
   ]
  },
  {
   "cell_type": "markdown",
   "metadata": {},
   "source": [
    "### with pandas"
   ]
  },
  {
   "cell_type": "code",
   "execution_count": 6,
   "metadata": {},
   "outputs": [],
   "source": [
    "data = pd.read_parquet('data/titanic.parquet')\n",
    "data = data.reset_index(drop=True)\n",
    "y = data['Survived']\n",
    "X = data.drop('Survived', axis=1)\n",
    "train_test_split = TrainTestSplit(test_ratio=0.3, strategy='ordered')\n",
    "X_train, X_test, y_train, y_test = train_test_split.transform(X, y)"
   ]
  },
  {
   "cell_type": "code",
   "execution_count": 8,
   "metadata": {},
   "outputs": [
    {
     "data": {
      "image/png": "[encoded data removed]",
      "text/plain": [
       "<Figure size 288x216 with 1 Axes>"
      ]
     },
     "metadata": {
      "needs_background": "light"
     },
     "output_type": "display_data"
    }
   ],
   "source": [
    "label_counts = data['Survived'].value_counts(normalize=True).sort_values().iloc[::-1]\n",
    "label_counts.plot(\n",
    "    kind='barh', \n",
    "    figsize=(4, 3), \n",
    "    title='Label Distribution',\n",
    ");"
   ]
  },
  {
   "cell_type": "markdown",
   "metadata": {},
   "source": [
    "### offline pipeline - data preprocessing & feature selection"
   ]
  },
  {
   "cell_type": "code",
   "execution_count": 9,
   "metadata": {},
   "outputs": [],
   "source": [
    "k = 13\n",
    "model = XGBClassifier(\n",
    "    random_state=0, \n",
    "    eval_metric='logloss', \n",
    ")\n",
    "offline_steps = [\n",
    "    SplitExtract(['Name'], [', '], [1], ['Dummy']),\n",
    "    SplitExtract(['Dummy'], ['.'], [0], ['Title']),\n",
    "    DropColumns(['Ticket', 'Name', 'Dummy']),\n",
    "    ObjectImputer(strategy='constant', value='MISSING'),\n",
    "    Replace(\n",
    "        to_replace_dict={'Title': {'Ms': 'Miss', 'Mme': 'Mrs', 'Mlle': 'Miss'}}\n",
    "    ),\n",
    "    NumericsImputer(columns=['Age', 'Fare'], strategy='mean'),\n",
    "    NumericsImputer(columns=['SibSp', 'Parch'], strategy='most_frequent'),\n",
    "    ElementaryArithmetics(\n",
    "        operator='+',\n",
    "        columns_a=['SibSp'], \n",
    "        columns_b=['Parch'], \n",
    "        column_names=['FamilitySize']),\n",
    "    InformationValue(binning=TreeBinning(max_depth=3, inplace=True), k=k)\n",
    "]\n",
    "offline_pipe = Pipeline(steps=offline_steps)\n",
    "X_train_prepro = offline_pipe.fit_transform(X_train, y_train)\n",
    "features = list(X_train_prepro.columns)"
   ]
  },
  {
   "cell_type": "code",
   "execution_count": 10,
   "metadata": {
    "scrolled": true
   },
   "outputs": [
    {
     "data": {
      "image/png": "[encoded data removed]",
      "text/plain": [
       "<Figure size 504x360 with 1 Axes>"
      ]
     },
     "metadata": {
      "needs_background": "light"
     },
     "output_type": "display_data"
    }
   ],
   "source": [
    "offline_pipe.get_feature_importances(k=15)[::-1].plot(\n",
    "    kind='barh', \n",
    "    figsize=(7, 5), \n",
    "    title='Feature Importance',\n",
    ");"
   ]
  },
  {
   "cell_type": "markdown",
   "metadata": {},
   "source": [
    "### koalas"
   ]
  },
  {
   "cell_type": "code",
   "execution_count": 11,
   "metadata": {
    "scrolled": true
   },
   "outputs": [
    {
     "name": "stderr",
     "output_type": "stream",
     "text": [
      "WARNING:root:Found pyspark version \"3.2.0\" installed. The pyspark version 3.2 and above has a built-in \"pandas APIs on Spark\" module ported from Koalas. Try `import pyspark.pandas as ps` instead. \n",
      "WARNING:root:Found pyspark version \"3.2.0\" installed. The pyspark version 3.2 and above has a built-in \"pandas APIs on Spark\" module ported from Koalas. Try `import pyspark.pandas as ps` instead. \n",
      "                                                                                \r"
     ]
    }
   ],
   "source": [
    "data_ks = ks.read_parquet('data/titanic.parquet', index_col='PassengerId')\n",
    "data_ks = data_ks.reset_index().drop('PassengerId', axis=1)  # important!\n",
    "y_ks = data_ks['Survived']\n",
    "X_ks = data_ks.drop('Survived', axis=1)\n",
    "\n",
    "\n",
    "train_test_split = TrainTestSplit(test_ratio=0.3, strategy='ordered')\n",
    "X_train_ks, X_test_ks, y_train_ks, y_test_ks = train_test_split.transform(X_ks, y_ks)\n",
    "\n",
    "\n",
    "offline_pipe_ks = Pipeline(steps=offline_steps)\n",
    "X_train_prepro_ks = offline_pipe_ks.fit_transform(\n",
    "    X_train_ks, y_train_ks)"
   ]
  },
  {
   "cell_type": "markdown",
   "metadata": {},
   "source": [
    "#### check pandas and koalas results match - offline pipeline"
   ]
  },
  {
   "cell_type": "code",
   "execution_count": 12,
   "metadata": {},
   "outputs": [],
   "source": [
    "assert_frame_equal(\n",
    "    X_train_prepro, \n",
    "    X_train_prepro_ks.to_pandas()\n",
    ")"
   ]
  },
  {
   "cell_type": "markdown",
   "metadata": {},
   "source": [
    "## production pipeline"
   ]
  },
  {
   "cell_type": "code",
   "execution_count": 13,
   "metadata": {},
   "outputs": [],
   "source": [
    "prod_steps = offline_steps = [\n",
    "    SplitExtract(['Name'], [', '], [1], ['Dummy']),\n",
    "    SplitExtract(['Dummy'], ['.'], [0], ['Title']),\n",
    "    DropColumns(['Ticket', 'Name', 'Dummy']),\n",
    "    ObjectImputer(strategy='constant', value='MISSING'),\n",
    "    Replace(\n",
    "        to_replace_dict={'Title': {'Ms': 'Miss', 'Mme': 'Mrs', 'Mlle': 'Miss'}}\n",
    "    ),\n",
    "    NumericsImputer(columns=['Age', 'Fare'], strategy='mean'),\n",
    "    NumericsImputer(columns=['SibSp', 'Parch'], strategy='most_frequent'),\n",
    "    ElementaryArithmetics(\n",
    "        operator='+',\n",
    "        columns_a=['SibSp'], \n",
    "        columns_b=['Parch'], \n",
    "        column_names=['FamilitySize']),\n",
    "    KeepColumns(columns_to_keep=features),\n",
    "    BinRareCategories(min_ratio=0.),\n",
    "    WOEEncoder(),\n",
    "]"
   ]
  },
  {
   "cell_type": "markdown",
   "metadata": {},
   "source": [
    "### pandas"
   ]
  },
  {
   "cell_type": "code",
   "execution_count": 14,
   "metadata": {},
   "outputs": [],
   "source": [
    "X_train_prod = X_train.copy()\n",
    "X_train_prod_np = X_train_prod.to_numpy()\n",
    "\n",
    "prod_pipe = Pipeline(steps=prod_steps)\n",
    "_ = prod_pipe.fit(X_train_prod, y_train)\n",
    "X_train_prod_prepro = prod_pipe.transform(X_train_prod)\n",
    "X_train_prod_prepro_np = prod_pipe.transform_numpy(\n",
    "    X_train_prod.to_numpy())"
   ]
  },
  {
   "cell_type": "code",
   "execution_count": 15,
   "metadata": {},
   "outputs": [],
   "source": [
    "assert_frame_equal(\n",
    "    pd.DataFrame(X_train_prod_prepro_np),\n",
    "    pd.DataFrame(X_train_prod_prepro.to_numpy())\n",
    ")"
   ]
  },
  {
   "cell_type": "markdown",
   "metadata": {},
   "source": [
    "### koalas"
   ]
  },
  {
   "cell_type": "code",
   "execution_count": 16,
   "metadata": {},
   "outputs": [
    {
     "name": "stderr",
     "output_type": "stream",
     "text": [
      "WARNING:root:Found pyspark version \"3.2.0\" installed. The pyspark version 3.2 and above has a built-in \"pandas APIs on Spark\" module ported from Koalas. Try `import pyspark.pandas as ps` instead. \n",
      "WARNING:root:Found pyspark version \"3.2.0\" installed. The pyspark version 3.2 and above has a built-in \"pandas APIs on Spark\" module ported from Koalas. Try `import pyspark.pandas as ps` instead. \n",
      "WARNING:root:Found pyspark version \"3.2.0\" installed. The pyspark version 3.2 and above has a built-in \"pandas APIs on Spark\" module ported from Koalas. Try `import pyspark.pandas as ps` instead. \n",
      "                                                                                \r"
     ]
    }
   ],
   "source": [
    "X_train_prod_ks = X_train_ks.copy()\n",
    "X_train_prod_ks_np = X_train_prod.to_numpy()\n",
    "\n",
    "prod_pipe = Pipeline(steps=prod_steps)\n",
    "_ = prod_pipe.fit(X_train_prod_ks, y_train_ks)\n",
    "X_train_prod_prepro_ks = prod_pipe.transform(X_train_prod_ks)\n",
    "X_train_prod_prepro_ks_np = prod_pipe.transform_numpy(\n",
    "    X_train_prod_ks.to_numpy())"
   ]
  },
  {
   "cell_type": "markdown",
   "metadata": {},
   "source": [
    "#### check pandas and koalas results match - production pipeline"
   ]
  },
  {
   "cell_type": "code",
   "execution_count": 17,
   "metadata": {},
   "outputs": [],
   "source": [
    "assert np.allclose(\n",
    "    X_train_prod_prepro_np,\n",
    "    X_train_prod_prepro_ks_np)\n",
    "assert_frame_equal(\n",
    "    X_train_prod_prepro, \n",
    "    X_train_prod_prepro_ks.to_pandas()\n",
    ")\n",
    "assert np.allclose(\n",
    "    X_train_prod_prepro_np,\n",
    "    X_train_prod_prepro_ks_np)\n"
   ]
  },
  {
   "cell_type": "markdown",
   "metadata": {},
   "source": [
    "## model building"
   ]
  },
  {
   "cell_type": "markdown",
   "metadata": {},
   "source": [
    "### numpy"
   ]
  },
  {
   "cell_type": "code",
   "execution_count": 18,
   "metadata": {},
   "outputs": [
    {
     "name": "stdout",
     "output_type": "stream",
     "text": [
      "100%|██████| 100/100 [00:19<00:00,  5.07trial/s, best loss: -0.8343716063037453]\n"
     ]
    }
   ],
   "source": [
    "def f1_score(y_true, y_pred):\n",
    "    p = y_true[y_pred == 1].mean()\n",
    "    r = y_pred[y_true == 1].mean()\n",
    "    if (p == 0) | (r == 0):\n",
    "        return 0\n",
    "    return 2 * p * r / (p + r)\n",
    "f1_scoring = make_scorer(f1_score)\n",
    "\n",
    "y_train_np = y_train.to_numpy()\n",
    "n_splits = 10\n",
    "max_evals = 100\n",
    "kfold = StratifiedKFold(n_splits=n_splits)\n",
    "space = {\n",
    "    'n_estimators': hp.quniform('n_estimators', 100, 200, 25),\n",
    "    'max_depth': hp.quniform('max_depth', 2, 3, 1),\n",
    "    'learning_rate': hp.loguniform('learning_rate', -4, -1),\n",
    "    'subsample': hp.uniform('subsample', 0.2, 1),\n",
    "    'colsample_bytree': hp.uniform('colsample_bytree', 0.2, 1),\n",
    " }\n",
    "model = XGBClassifier(\n",
    "    random_state=0, \n",
    "    use_label_encoder=False,\n",
    ")\n",
    "hyper = HyperOpt(\n",
    "    model=model,\n",
    "    algo=tpe.suggest,\n",
    "    scoring=f1_scoring,\n",
    "    space=space,\n",
    "    max_evals=max_evals, \n",
    "    kfold=kfold,\n",
    "    features=features,\n",
    "    )\n",
    "_ = hyper.fit(X_train_prod_prepro_np, y_train.to_numpy())"
   ]
  },
  {
   "cell_type": "code",
   "execution_count": 19,
   "metadata": {},
   "outputs": [
    {
     "data": {
      "image/png": "[encoded data removed]",
      "text/plain": [
       "<Figure size 648x648 with 1 Axes>"
      ]
     },
     "metadata": {
      "needs_background": "light"
     },
     "output_type": "display_data"
    }
   ],
   "source": [
    "hyper.get_feature_importances().iloc[::-1].plot(\n",
    "    kind='barh', \n",
    "    figsize=(9, 9), \n",
    "    title='Most important features',\n",
    ");"
   ]
  },
  {
   "cell_type": "code",
   "execution_count": 20,
   "metadata": {},
   "outputs": [
    {
     "data": {
      "text/html": [
       "<div>\n",
       "<style scoped>\n",
       "    .dataframe tbody tr th:only-of-type {\n",
       "        vertical-align: middle;\n",
       "    }\n",
       "\n",
       "    .dataframe tbody tr th {\n",
       "        vertical-align: top;\n",
       "    }\n",
       "\n",
       "    .dataframe thead th {\n",
       "        text-align: right;\n",
       "    }\n",
       "</style>\n",
       "<table border=\"1\" class=\"dataframe\">\n",
       "  <thead>\n",
       "    <tr style=\"text-align: right;\">\n",
       "      <th></th>\n",
       "      <th>colsample_bytree</th>\n",
       "      <th>learning_rate</th>\n",
       "      <th>max_depth</th>\n",
       "      <th>n_estimators</th>\n",
       "      <th>subsample</th>\n",
       "      <th>loss</th>\n",
       "      <th>status</th>\n",
       "      <th>id</th>\n",
       "    </tr>\n",
       "  </thead>\n",
       "  <tbody>\n",
       "    <tr>\n",
       "      <th>66</th>\n",
       "      <td>0.546189</td>\n",
       "      <td>0.146771</td>\n",
       "      <td>3.0</td>\n",
       "      <td>175.0</td>\n",
       "      <td>0.263410</td>\n",
       "      <td>-0.834372</td>\n",
       "      <td>ok</td>\n",
       "      <td>66</td>\n",
       "    </tr>\n",
       "    <tr>\n",
       "      <th>78</th>\n",
       "      <td>0.411612</td>\n",
       "      <td>0.040889</td>\n",
       "      <td>3.0</td>\n",
       "      <td>150.0</td>\n",
       "      <td>0.901137</td>\n",
       "      <td>-0.831638</td>\n",
       "      <td>ok</td>\n",
       "      <td>78</td>\n",
       "    </tr>\n",
       "    <tr>\n",
       "      <th>52</th>\n",
       "      <td>0.508003</td>\n",
       "      <td>0.047284</td>\n",
       "      <td>3.0</td>\n",
       "      <td>175.0</td>\n",
       "      <td>0.384912</td>\n",
       "      <td>-0.830676</td>\n",
       "      <td>ok</td>\n",
       "      <td>52</td>\n",
       "    </tr>\n",
       "    <tr>\n",
       "      <th>37</th>\n",
       "      <td>0.696621</td>\n",
       "      <td>0.038157</td>\n",
       "      <td>3.0</td>\n",
       "      <td>200.0</td>\n",
       "      <td>0.559684</td>\n",
       "      <td>-0.830222</td>\n",
       "      <td>ok</td>\n",
       "      <td>37</td>\n",
       "    </tr>\n",
       "    <tr>\n",
       "      <th>62</th>\n",
       "      <td>0.661958</td>\n",
       "      <td>0.135223</td>\n",
       "      <td>3.0</td>\n",
       "      <td>175.0</td>\n",
       "      <td>0.269649</td>\n",
       "      <td>-0.830093</td>\n",
       "      <td>ok</td>\n",
       "      <td>62</td>\n",
       "    </tr>\n",
       "    <tr>\n",
       "      <th>...</th>\n",
       "      <td>...</td>\n",
       "      <td>...</td>\n",
       "      <td>...</td>\n",
       "      <td>...</td>\n",
       "      <td>...</td>\n",
       "      <td>...</td>\n",
       "      <td>...</td>\n",
       "      <td>...</td>\n",
       "    </tr>\n",
       "    <tr>\n",
       "      <th>5</th>\n",
       "      <td>0.344877</td>\n",
       "      <td>0.043136</td>\n",
       "      <td>3.0</td>\n",
       "      <td>125.0</td>\n",
       "      <td>0.386011</td>\n",
       "      <td>-0.807088</td>\n",
       "      <td>ok</td>\n",
       "      <td>5</td>\n",
       "    </tr>\n",
       "    <tr>\n",
       "      <th>90</th>\n",
       "      <td>0.237578</td>\n",
       "      <td>0.041055</td>\n",
       "      <td>2.0</td>\n",
       "      <td>175.0</td>\n",
       "      <td>0.437772</td>\n",
       "      <td>-0.803582</td>\n",
       "      <td>ok</td>\n",
       "      <td>90</td>\n",
       "    </tr>\n",
       "    <tr>\n",
       "      <th>8</th>\n",
       "      <td>0.242181</td>\n",
       "      <td>0.019879</td>\n",
       "      <td>3.0</td>\n",
       "      <td>150.0</td>\n",
       "      <td>0.608391</td>\n",
       "      <td>-0.801888</td>\n",
       "      <td>ok</td>\n",
       "      <td>8</td>\n",
       "    </tr>\n",
       "    <tr>\n",
       "      <th>60</th>\n",
       "      <td>0.267951</td>\n",
       "      <td>0.052637</td>\n",
       "      <td>3.0</td>\n",
       "      <td>175.0</td>\n",
       "      <td>0.201090</td>\n",
       "      <td>-0.801483</td>\n",
       "      <td>ok</td>\n",
       "      <td>60</td>\n",
       "    </tr>\n",
       "    <tr>\n",
       "      <th>9</th>\n",
       "      <td>0.558879</td>\n",
       "      <td>0.301286</td>\n",
       "      <td>3.0</td>\n",
       "      <td>200.0</td>\n",
       "      <td>0.273644</td>\n",
       "      <td>-0.790087</td>\n",
       "      <td>ok</td>\n",
       "      <td>9</td>\n",
       "    </tr>\n",
       "  </tbody>\n",
       "</table>\n",
       "<p>100 rows × 8 columns</p>\n",
       "</div>"
      ],
      "text/plain": [
       "    colsample_bytree  learning_rate  max_depth  n_estimators  subsample  \\\n",
       "66          0.546189       0.146771        3.0         175.0   0.263410   \n",
       "78          0.411612       0.040889        3.0         150.0   0.901137   \n",
       "52          0.508003       0.047284        3.0         175.0   0.384912   \n",
       "37          0.696621       0.038157        3.0         200.0   0.559684   \n",
       "62          0.661958       0.135223        3.0         175.0   0.269649   \n",
       "..               ...            ...        ...           ...        ...   \n",
       "5           0.344877       0.043136        3.0         125.0   0.386011   \n",
       "90          0.237578       0.041055        2.0         175.0   0.437772   \n",
       "8           0.242181       0.019879        3.0         150.0   0.608391   \n",
       "60          0.267951       0.052637        3.0         175.0   0.201090   \n",
       "9           0.558879       0.301286        3.0         200.0   0.273644   \n",
       "\n",
       "        loss status  id  \n",
       "66 -0.834372     ok  66  \n",
       "78 -0.831638     ok  78  \n",
       "52 -0.830676     ok  52  \n",
       "37 -0.830222     ok  37  \n",
       "62 -0.830093     ok  62  \n",
       "..       ...    ...  ..  \n",
       "5  -0.807088     ok   5  \n",
       "90 -0.803582     ok  90  \n",
       "8  -0.801888     ok   8  \n",
       "60 -0.801483     ok  60  \n",
       "9  -0.790087     ok   9  \n",
       "\n",
       "[100 rows x 8 columns]"
      ]
     },
     "execution_count": 20,
     "metadata": {},
     "output_type": "execute_result"
    }
   ],
   "source": [
    "hyper.history.sort_values('loss')"
   ]
  },
  {
   "cell_type": "code",
   "execution_count": 21,
   "metadata": {},
   "outputs": [],
   "source": [
    "model_np = copy.copy(hyper.model)\n",
    "model_path = 'models/model_titanic.dill'\n",
    "with open(model_path, 'wb') as file:\n",
    "    dill.dump(model_np, file)"
   ]
  },
  {
   "cell_type": "markdown",
   "metadata": {},
   "source": [
    "### pandas"
   ]
  },
  {
   "cell_type": "code",
   "execution_count": 22,
   "metadata": {},
   "outputs": [],
   "source": [
    "model_pd = copy.copy(model_np)\n",
    "_ = model_pd.fit(X_train_prod_prepro, y_train)"
   ]
  },
  {
   "cell_type": "markdown",
   "metadata": {},
   "source": [
    "### treelite"
   ]
  },
  {
   "cell_type": "code",
   "execution_count": 23,
   "metadata": {},
   "outputs": [
    {
     "name": "stdout",
     "output_type": "stream",
     "text": [
      "[08:54:02] /Users/travis/build/dmlc/treelite/src/compiler/ast_native.cc:703: Using ASTNativeCompiler\n",
      "[08:54:02] /Users/travis/build/dmlc/treelite/src/compiler/ast/split.cc:29: Parallel compilation enabled; member trees will be divided into 4 translation units.\n",
      "[08:54:02] /Users/travis/build/dmlc/treelite/src/c_api/c_api.cc:92: Code generation finished. Writing code to files...\n",
      "[08:54:02] /Users/travis/build/dmlc/treelite/src/c_api/c_api.cc:97: Writing file recipe.json...\n",
      "[08:54:02] /Users/travis/build/dmlc/treelite/src/c_api/c_api.cc:97: Writing file tu3.c...\n",
      "[08:54:02] /Users/travis/build/dmlc/treelite/src/c_api/c_api.cc:97: Writing file tu2.c...\n",
      "[08:54:02] /Users/travis/build/dmlc/treelite/src/c_api/c_api.cc:97: Writing file tu1.c...\n",
      "[08:54:02] /Users/travis/build/dmlc/treelite/src/c_api/c_api.cc:97: Writing file tu0.c...\n",
      "[08:54:02] /Users/travis/build/dmlc/treelite/src/c_api/c_api.cc:97: Writing file header.h...\n",
      "[08:54:02] /Users/travis/build/dmlc/treelite/src/c_api/c_api.cc:97: Writing file main.c...\n",
      "[08:54:02] /Users/cpoli/gators38/lib/python3.8/site-packages/treelite/contrib/util.py:105: Compiling sources files in directory ./models/tmpewwjar_e into object files (*.o)...\n",
      "[08:54:02] /Users/cpoli/gators38/lib/python3.8/site-packages/treelite/contrib/util.py:135: Generating dynamic shared library ./models/tmpewwjar_e/predictor.dylib...\n",
      "[08:54:02] /Users/cpoli/gators38/lib/python3.8/site-packages/treelite/contrib/__init__.py:282: Generated shared library in 0.68 seconds\n"
     ]
    }
   ],
   "source": [
    "xgb_booster = XGBBoosterBuilder.train(\n",
    "    model=hyper.model, \n",
    "    X_train=X_train_prod_prepro_np, \n",
    "    y_train=y_train_np,\n",
    ")\n",
    "\n",
    "treelite_model = treelite.Model.from_xgboost(xgb_booster)\n",
    "treelite_model.export_lib(\n",
    "    toolchain='gcc', \n",
    "    libpath='./models/treelite_xgb_titanic.so', \n",
    "    params={'parallel_comp': 4},\n",
    "    verbose=True\n",
    ")\n",
    "model_tl = treelite_runtime.Predictor(\n",
    "    './models/treelite_xgb_titanic.so', verbose=False)"
   ]
  },
  {
   "cell_type": "markdown",
   "metadata": {},
   "source": [
    "#### check the models prediction match"
   ]
  },
  {
   "cell_type": "code",
   "execution_count": 24,
   "metadata": {},
   "outputs": [],
   "source": [
    "X_test_prod = X_test.copy()\n",
    "X_test_prod_np = X_test_prod.to_numpy()\n",
    "y_pred_pd = model_pd.predict_proba(\n",
    "    prod_pipe.transform(X_test_prod))[:, 1]\n",
    "y_pred_np = model.predict_proba(\n",
    "    prod_pipe.transform_numpy(X_test_prod_np.copy()))[:, 1]\n",
    "y_pred_tl = model_tl.predict(\n",
    "    treelite_runtime.DMatrix(\n",
    "        prod_pipe.transform_numpy(\n",
    "            X_test_prod_np.copy()\n",
    "        )\n",
    "    )\n",
    ")\n",
    "assert np.allclose(y_pred_np, y_pred_pd)\n",
    "assert np.allclose(y_pred_np, y_pred_tl)"
   ]
  },
  {
   "cell_type": "markdown",
   "metadata": {},
   "source": [
    "## model evaluation"
   ]
  },
  {
   "cell_type": "code",
   "execution_count": 25,
   "metadata": {},
   "outputs": [
    {
     "data": {
      "text/plain": [
       "'f1 score: 0.71'"
      ]
     },
     "execution_count": 25,
     "metadata": {},
     "output_type": "execute_result"
    }
   ],
   "source": [
    "model_np = copy.copy(hyper.model)\n",
    "X_test_prod = X_test.copy()\n",
    "X_test_prod_np = X_test_prod.to_numpy()\n",
    "X_test_prod_prepro_np = prod_pipe.transform(X_test_prod).to_numpy()\n",
    "y_test_pred = model_np.predict(X_test_prod_prepro_np)\n",
    "f'f1 score: {f1_score(y_test, y_test_pred):.2f}'"
   ]
  },
  {
   "cell_type": "markdown",
   "metadata": {},
   "source": [
    "## per-sample bechmarking"
   ]
  },
  {
   "cell_type": "markdown",
   "metadata": {},
   "source": [
    "### pipeline only"
   ]
  },
  {
   "cell_type": "code",
   "execution_count": 26,
   "metadata": {},
   "outputs": [
    {
     "name": "stdout",
     "output_type": "stream",
     "text": [
      "11.9 ms ± 96.9 µs per loop (mean ± std. dev. of 7 runs, 100 loops each)\n",
      "47.1 µs ± 2.01 µs per loop (mean ± std. dev. of 7 runs, 10000 loops each)\n"
     ]
    }
   ],
   "source": [
    "x = X_test_prod.iloc[[0]]\n",
    "x_np = x.to_numpy()\n",
    "stats_pd = %timeit -o prod_pipe.transform(x)\n",
    "stats_np = %timeit -o prod_pipe.transform_numpy(x_np.copy())"
   ]
  },
  {
   "cell_type": "code",
   "execution_count": 27,
   "metadata": {},
   "outputs": [
    {
     "data": {
      "text/plain": [
       "'Speed-up Pandas VS Numpy x253'"
      ]
     },
     "execution_count": 27,
     "metadata": {},
     "output_type": "execute_result"
    }
   ],
   "source": [
    "speedup = 1e3 * float(str(stats_pd).split(' ')[0]) / float(str(stats_np).split(' ')[0])\n",
    "f'Speed-up Pandas VS Numpy x{round(speedup)}'"
   ]
  },
  {
   "cell_type": "markdown",
   "metadata": {},
   "source": [
    "### pipeline & model"
   ]
  },
  {
   "cell_type": "code",
   "execution_count": 28,
   "metadata": {},
   "outputs": [
    {
     "name": "stdout",
     "output_type": "stream",
     "text": [
      "12.3 ms ± 82.4 µs per loop (mean ± std. dev. of 7 runs, 100 loops each)\n",
      "195 µs ± 2 µs per loop (mean ± std. dev. of 7 runs, 10000 loops each)\n",
      "98.6 µs ± 1.89 µs per loop (mean ± std. dev. of 7 runs, 10000 loops each)\n"
     ]
    }
   ],
   "source": [
    "stats_pd = %timeit -o model_pd.predict(prod_pipe.transform(x))[0]\n",
    "stats_np = %timeit -o model.predict(prod_pipe.transform_numpy(x_np.copy()))[0]\n",
    "stats_tl = %timeit -o  model_tl.predict(treelite_runtime.DMatrix(prod_pipe.transform_numpy(x_np.copy())))"
   ]
  },
  {
   "cell_type": "code",
   "execution_count": 29,
   "metadata": {},
   "outputs": [
    {
     "data": {
      "text/plain": [
       "'Speed-up Pandas VS Numpy x63'"
      ]
     },
     "execution_count": 29,
     "metadata": {},
     "output_type": "execute_result"
    }
   ],
   "source": [
    "speedup = 1e3 * float(str(stats_pd).split(' ')[0]) / float(str(stats_np).split(' ')[0])\n",
    "f'Speed-up Pandas VS Numpy x{round(speedup)}'"
   ]
  },
  {
   "cell_type": "code",
   "execution_count": 30,
   "metadata": {},
   "outputs": [
    {
     "data": {
      "text/plain": [
       "'Speed-up Pandas VS Numpy&Treelite x125'"
      ]
     },
     "execution_count": 30,
     "metadata": {},
     "output_type": "execute_result"
    }
   ],
   "source": [
    "speedup = 1e3 * float(str(stats_pd).split(' ')[0]) / float(str(stats_tl).split(' ')[0])\n",
    "f'Speed-up Pandas VS Numpy&Treelite x{round(speedup)}'"
   ]
  },
  {
   "cell_type": "code",
   "execution_count": null,
   "metadata": {},
   "outputs": [],
   "source": []
  }
 ],
 "metadata": {
  "kernelspec": {
   "display_name": "gators38",
   "language": "python",
   "name": "gators38"
  },
  "language_info": {
   "codemirror_mode": {
    "name": "ipython",
    "version": 3
   },
   "file_extension": ".py",
   "mimetype": "text/x-python",
   "name": "python",
   "nbconvert_exporter": "python",
   "pygments_lexer": "ipython3",
   "version": "3.8.10"
  }
 },
 "nbformat": 4,
 "nbformat_minor": 2
}
