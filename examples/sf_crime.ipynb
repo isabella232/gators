{
 "cells": [
  {
   "cell_type": "markdown",
   "id": "df65377d",
   "metadata": {},
   "source": [
    "# multiclass classification example - SF crime dataset"
   ]
  },
  {
   "cell_type": "code",
   "execution_count": 1,
   "id": "2a612a42",
   "metadata": {},
   "outputs": [],
   "source": [
    "import warnings\n",
    "warnings.filterwarnings('ignore')"
   ]
  },
  {
   "cell_type": "code",
   "execution_count": 2,
   "id": "04e99725",
   "metadata": {},
   "outputs": [],
   "source": [
    "%load_ext autoreload\n",
    "%autoreload 2"
   ]
  },
  {
   "cell_type": "code",
   "execution_count": 3,
   "id": "3eb44a1b",
   "metadata": {},
   "outputs": [
    {
     "name": "stderr",
     "output_type": "stream",
     "text": [
      "WARNING:root:Found pyspark version \"3.2.0\" installed. The pyspark version 3.2 and above has a built-in \"pandas APIs on Spark\" module ported from Koalas. Try `import pyspark.pandas as ps` instead. \n",
      "WARNING:root:'PYARROW_IGNORE_TIMEZONE' environment variable was not set. It is required to set this environment variable to '1' in both driver and executor sides if you use pyarrow>=2.0.0. Koalas will set it for you but it does not work if there is a Spark context already launched.\n"
     ]
    }
   ],
   "source": [
    "import copy\n",
    "import numpy as np\n",
    "import pandas as pd\n",
    "import databricks.koalas as ks\n",
    "from pandas.testing import assert_frame_equal\n",
    "from lightgbm import LGBMClassifier\n",
    "from xgboost import XGBClassifier\n",
    "from sklearn.model_selection import StratifiedKFold\n",
    "from sklearn.metrics import f1_score\n",
    "from hyperopt import hp\n",
    "from hyperopt import tpe"
   ]
  },
  {
   "cell_type": "code",
   "execution_count": 4,
   "id": "510b8daa",
   "metadata": {},
   "outputs": [
    {
     "name": "stderr",
     "output_type": "stream",
     "text": [
      "WARNING: An illegal reflective access operation has occurred\n",
      "WARNING: Illegal reflective access by org.apache.spark.unsafe.Platform (file:/Users/cpoli/gators38/lib/python3.8/site-packages/pyspark/jars/spark-unsafe_2.12-3.2.0.jar) to constructor java.nio.DirectByteBuffer(long,int)\n",
      "WARNING: Please consider reporting this to the maintainers of org.apache.spark.unsafe.Platform\n",
      "WARNING: Use --illegal-access=warn to enable warnings of further illegal reflective access operations\n",
      "WARNING: All illegal access operations will be denied in a future release\n",
      "Using Spark's default log4j profile: org/apache/spark/log4j-defaults.properties\n",
      "Setting default log level to \"WARN\".\n",
      "To adjust logging level use sc.setLogLevel(newLevel). For SparkR, use setLogLevel(newLevel).\n",
      "21/11/30 11:36:05 WARN NativeCodeLoader: Unable to load native-hadoop library for your platform... using builtin-java classes where applicable\n",
      "21/11/30 11:36:06 WARN Utils: Service 'SparkUI' could not bind on port 4040. Attempting port 4041.\n",
      "21/11/30 11:36:06 WARN Utils: Service 'SparkUI' could not bind on port 4041. Attempting port 4042.\n",
      "21/11/30 11:36:06 WARN Utils: Service 'SparkUI' could not bind on port 4042. Attempting port 4043.\n",
      "21/11/30 11:36:06 WARN Utils: Service 'SparkUI' could not bind on port 4043. Attempting port 4044.\n"
     ]
    }
   ],
   "source": [
    "from pyspark import SparkConf, SparkContext\n",
    "conf = SparkConf()\n",
    "conf.set('spark.executor.memory', '2g')\n",
    "SparkContext(conf=conf)\n",
    "ks.set_option('compute.default_index_type', 'distributed-sequence')"
   ]
  },
  {
   "cell_type": "code",
   "execution_count": 32,
   "id": "750c7885",
   "metadata": {
    "scrolled": true
   },
   "outputs": [],
   "source": [
    "from gators.util import util\n",
    "# data cleaning\n",
    "from gators.data_cleaning import (\n",
    "    ConvertColumnDatatype,\n",
    "    DropHighNaNRatio,\n",
    "    DropLowCardinality,\n",
    "    DropHighCardinality,\n",
    "    DropDatatypeColumns,\n",
    "    DropColumns,\n",
    "    KeepColumns\n",
    ")\n",
    "# imputers\n",
    "from gators.imputers import (\n",
    "    NumericsImputer, \n",
    "    ObjectImputer,\n",
    ")\n",
    "# encoders\n",
    "from gators.encoders import (\n",
    "    WOEEncoder, \n",
    "    MultiClassEncoder, \n",
    "    TargetEncoder,\n",
    "    OrdinalEncoder,\n",
    ")\n",
    "# binning\n",
    "from gators.binning import (\n",
    "    BinRareCategories,\n",
    "    TreeBinning,\n",
    ")\n",
    "# feature generation\n",
    "from gators.feature_generation import (\n",
    "    ClusterStatistics,\n",
    "    PolynomialObjectFeatures,\n",
    "    PolynomialFeatures\n",
    ")\n",
    "from gators.feature_generation_str import (\n",
    "    StringContains,\n",
    "    StringLength,\n",
    "    Extract,\n",
    "    SplitExtract,\n",
    ")\n",
    "from gators.feature_generation_dt import (\n",
    "    CyclicHourOfDay,\n",
    "    CyclicDayOfMonth,\n",
    "    CyclicDayOfWeek,\n",
    "    CyclicMonthOfYear,\n",
    "    OrdinalDayOfMonth,\n",
    "    OrdinalMonthOfYear,\n",
    "    OrdinalDayOfWeek,\n",
    "    OrdinalHourOfDay,\n",
    ")\n",
    "# feature selection\n",
    "from gators.feature_selection import (\n",
    "    MultiClassInformationValue,\n",
    "    SelectFromModel,\n",
    ")\n",
    "# feature generation\n",
    "from gators.feature_generation import PlaneRotation\n",
    "# model building\n",
    "from gators.model_building import (\n",
    "    TrainTestSplit,\n",
    "    HyperOpt,\n",
    "    XGBBoosterBuilder,\n",
    "    XGBTreeliteDumper,\n",
    "    LGBMTreeliteDumper,\n",
    ")\n",
    "# pipeline\n",
    "from gators.pipeline import Pipeline"
   ]
  },
  {
   "cell_type": "markdown",
   "id": "94fcc94a",
   "metadata": {},
   "source": [
    "## offline pipeline - feature selection"
   ]
  },
  {
   "cell_type": "code",
   "execution_count": 130,
   "id": "d589fc1d",
   "metadata": {},
   "outputs": [],
   "source": [
    "model = LGBMClassifier(random_state=0, n_jobs=-1)\n",
    "k = 60\n",
    "\n",
    "offline_steps = [\n",
    "    ConvertColumnDatatype(columns=['Dates'], datatype='datetime64[ns]'),\n",
    "    OrdinalHourOfDay(columns=['Dates']),\n",
    "    OrdinalDayOfWeek(columns=['Dates']),\n",
    "    OrdinalDayOfMonth(columns=['Dates']),\n",
    "    CyclicHourOfDay(columns=['Dates']),\n",
    "    CyclicDayOfWeek(columns=['Dates']),\n",
    "    CyclicDayOfMonth(columns=['Dates']),\n",
    "    StringContains(\n",
    "        columns=['Address', 'Address', 'Address', 'Address'], \n",
    "        contains_vec=['/', 'AV', 'ST', 'Block'], \n",
    "        column_names=['IsIntersection', 'IsAvenue', 'IsStreet', 'IsBlock']),\n",
    "    DropColumns(columns=['Dates', 'Address']),\n",
    "    PlaneRotation(\n",
    "        columns= [['X','Y']], \n",
    "        theta_vec= np.arange(5, 46, 5).tolist()),\n",
    "    MultiClassEncoder(OrdinalEncoder()),\n",
    "    MultiClassInformationValue(\n",
    "        binning=TreeBinning(max_depth=2, inplace=True), \n",
    "        k=10),\n",
    "]\n",
    "offline_pipe = Pipeline(steps=offline_steps)\n"
   ]
  },
  {
   "cell_type": "markdown",
   "id": "da9783a0",
   "metadata": {},
   "source": [
    "### pandas"
   ]
  },
  {
   "cell_type": "code",
   "execution_count": 131,
   "id": "1547018b",
   "metadata": {},
   "outputs": [],
   "source": [
    "data = pd.read_parquet('data/sf_crime.parquet')\n",
    "data = data.reset_index(drop=True)\n",
    "y = data['Category'].copy()\n",
    "X = data.drop(['Category'], axis=1)\n",
    "\n",
    "base_columns = list(X.columns)\n",
    "classes = y.unique()\n",
    "mapping = dict(zip(classes, range(len(classes))))\n",
    "y = y.replace(mapping)\n",
    "\n",
    "train_test_split = TrainTestSplit(test_ratio=0.3, strategy='ordered')\n",
    "X_train, X_test, y_train, y_test = train_test_split.transform(X, y)"
   ]
  },
  {
   "cell_type": "code",
   "execution_count": 132,
   "id": "679f15ad",
   "metadata": {},
   "outputs": [
    {
     "data": {
      "image/png": "[encoded data removed]",
      "text/plain": [
       "<Figure size 432x288 with 1 Axes>"
      ]
     },
     "metadata": {
      "needs_background": "light"
     },
     "output_type": "display_data"
    }
   ],
   "source": [
    "# target analysis\n",
    "data['Category'].value_counts().iloc[::-1].plot(kind='barh');"
   ]
  },
  {
   "cell_type": "code",
   "execution_count": 137,
   "id": "c8b05bd7",
   "metadata": {},
   "outputs": [
    {
     "name": "stdout",
     "output_type": "stream",
     "text": [
      "(7056, 19)\n",
      "111 (7056, 37)\n",
      "binning.output_columns []\n",
      "binning.output_columns []\n",
      "columns []\n",
      "333 (7056, 37)\n",
      "000 (7056, 0)\n",
      "222 Empty DataFrame\n",
      "Columns: []\n",
      "Index: [0, 1, 2, 3, 4, 5, 6, 7, 8, 9, 10, 11, 12, 13, 14, 15, 16, 17, 18, 19, 20, 21, 22, 23, 24, 25, 26, 27, 28, 29, 30, 31, 32, 33, 34, 35, 36, 37, 38, 39, 40, 41, 42, 43, 44, 45, 46, 47, 48, 49, 50, 51, 52, 53, 54, 55, 56, 57, 58, 59, 60, 61, 62, 63, 64, 65, 66, 67, 68, 69, 70, 71, 72, 73, 74, 75, 76, 77, 78, 79, 80, 81, 82, 83, 84, 85, 86, 87, 88, 89, 90, 91, 92, 93, 94, 95, 96, 97, 98, 99, ...]\n",
      "\n",
      "[7056 rows x 0 columns]\n",
      "Series([], dtype: object)\n",
      "object_columns []\n",
      "numerical_columns []\n",
      "HERE []\n",
      "Series([], dtype: int64)\n",
      "Series([], dtype: int64)\n",
      "000 (7056, 0)\n",
      "222 Empty DataFrame\n",
      "Columns: []\n",
      "Index: [0, 1, 2, 3, 4, 5, 6, 7, 8, 9, 10, 11, 12, 13, 14, 15, 16, 17, 18, 19, 20, 21, 22, 23, 24, 25, 26, 27, 28, 29, 30, 31, 32, 33, 34, 35, 36, 37, 38, 39, 40, 41, 42, 43, 44, 45, 46, 47, 48, 49, 50, 51, 52, 53, 54, 55, 56, 57, 58, 59, 60, 61, 62, 63, 64, 65, 66, 67, 68, 69, 70, 71, 72, 73, 74, 75, 76, 77, 78, 79, 80, 81, 82, 83, 84, 85, 86, 87, 88, 89, 90, 91, 92, 93, 94, 95, 96, 97, 98, 99, ...]\n",
      "\n",
      "[7056 rows x 0 columns]\n",
      "Series([], dtype: object)\n",
      "object_columns []\n",
      "numerical_columns []\n",
      "HERE []\n",
      "Series([], dtype: int64)\n",
      "Series([], dtype: int64)\n"
     ]
    }
   ],
   "source": [
    "print(X_train.shape)\n",
    "_ = offline_pipe.fit(X_train, y_train)\n",
    "features = list(X_train_prepro.columns)"
   ]
  },
  {
   "cell_type": "code",
   "execution_count": 134,
   "id": "c6660c41",
   "metadata": {},
   "outputs": [
    {
     "data": {
      "text/html": [
       "<div>\n",
       "<style scoped>\n",
       "    .dataframe tbody tr th:only-of-type {\n",
       "        vertical-align: middle;\n",
       "    }\n",
       "\n",
       "    .dataframe tbody tr th {\n",
       "        vertical-align: top;\n",
       "    }\n",
       "\n",
       "    .dataframe thead th {\n",
       "        text-align: right;\n",
       "    }\n",
       "</style>\n",
       "<table border=\"1\" class=\"dataframe\">\n",
       "  <thead>\n",
       "    <tr style=\"text-align: right;\">\n",
       "      <th></th>\n",
       "      <th>Unnamed: 0</th>\n",
       "      <th>X</th>\n",
       "      <th>Y</th>\n",
       "      <th>Dates__hour_of_day</th>\n",
       "      <th>Dates__day_of_week</th>\n",
       "      <th>Dates__day_of_month</th>\n",
       "      <th>Dates__hour_of_day_cos</th>\n",
       "      <th>Dates__hour_of_day_sin</th>\n",
       "      <th>Dates__day_of_week_cos</th>\n",
       "      <th>Dates__day_of_week_sin</th>\n",
       "    </tr>\n",
       "  </thead>\n",
       "  <tbody>\n",
       "    <tr>\n",
       "      <th>0</th>\n",
       "      <td>0.0</td>\n",
       "      <td>-122.412929</td>\n",
       "      <td>37.789687</td>\n",
       "      <td>19.0</td>\n",
       "      <td>2.0</td>\n",
       "      <td>13.0</td>\n",
       "      <td>0.460065</td>\n",
       "      <td>-0.887885</td>\n",
       "      <td>-0.5</td>\n",
       "      <td>0.866025</td>\n",
       "    </tr>\n",
       "    <tr>\n",
       "      <th>1</th>\n",
       "      <td>1.0</td>\n",
       "      <td>-122.424348</td>\n",
       "      <td>37.745046</td>\n",
       "      <td>12.0</td>\n",
       "      <td>2.0</td>\n",
       "      <td>13.0</td>\n",
       "      <td>-0.990686</td>\n",
       "      <td>-0.136167</td>\n",
       "      <td>-0.5</td>\n",
       "      <td>0.866025</td>\n",
       "    </tr>\n",
       "    <tr>\n",
       "      <th>2</th>\n",
       "      <td>2.0</td>\n",
       "      <td>-122.449675</td>\n",
       "      <td>37.709763</td>\n",
       "      <td>9.0</td>\n",
       "      <td>2.0</td>\n",
       "      <td>13.0</td>\n",
       "      <td>-0.775711</td>\n",
       "      <td>0.631088</td>\n",
       "      <td>-0.5</td>\n",
       "      <td>0.866025</td>\n",
       "    </tr>\n",
       "    <tr>\n",
       "      <th>3</th>\n",
       "      <td>3.0</td>\n",
       "      <td>-122.419667</td>\n",
       "      <td>37.774682</td>\n",
       "      <td>4.0</td>\n",
       "      <td>2.0</td>\n",
       "      <td>13.0</td>\n",
       "      <td>0.460065</td>\n",
       "      <td>0.887885</td>\n",
       "      <td>-0.5</td>\n",
       "      <td>0.866025</td>\n",
       "    </tr>\n",
       "    <tr>\n",
       "      <th>4</th>\n",
       "      <td>4.0</td>\n",
       "      <td>-122.403916</td>\n",
       "      <td>37.790539</td>\n",
       "      <td>22.0</td>\n",
       "      <td>1.0</td>\n",
       "      <td>12.0</td>\n",
       "      <td>0.962917</td>\n",
       "      <td>-0.269797</td>\n",
       "      <td>0.5</td>\n",
       "      <td>0.866025</td>\n",
       "    </tr>\n",
       "    <tr>\n",
       "      <th>...</th>\n",
       "      <td>...</td>\n",
       "      <td>...</td>\n",
       "      <td>...</td>\n",
       "      <td>...</td>\n",
       "      <td>...</td>\n",
       "      <td>...</td>\n",
       "      <td>...</td>\n",
       "      <td>...</td>\n",
       "      <td>...</td>\n",
       "      <td>...</td>\n",
       "    </tr>\n",
       "    <tr>\n",
       "      <th>7051</th>\n",
       "      <td>7051.0</td>\n",
       "      <td>-122.444995</td>\n",
       "      <td>37.777440</td>\n",
       "      <td>12.0</td>\n",
       "      <td>4.0</td>\n",
       "      <td>6.0</td>\n",
       "      <td>-0.990686</td>\n",
       "      <td>-0.136167</td>\n",
       "      <td>-0.5</td>\n",
       "      <td>-0.866025</td>\n",
       "    </tr>\n",
       "    <tr>\n",
       "      <th>7052</th>\n",
       "      <td>7052.0</td>\n",
       "      <td>-122.422614</td>\n",
       "      <td>37.792643</td>\n",
       "      <td>8.0</td>\n",
       "      <td>4.0</td>\n",
       "      <td>6.0</td>\n",
       "      <td>-0.576680</td>\n",
       "      <td>0.816970</td>\n",
       "      <td>-0.5</td>\n",
       "      <td>-0.866025</td>\n",
       "    </tr>\n",
       "    <tr>\n",
       "      <th>7053</th>\n",
       "      <td>7053.0</td>\n",
       "      <td>-122.422614</td>\n",
       "      <td>37.792643</td>\n",
       "      <td>8.0</td>\n",
       "      <td>4.0</td>\n",
       "      <td>6.0</td>\n",
       "      <td>-0.576680</td>\n",
       "      <td>0.816970</td>\n",
       "      <td>-0.5</td>\n",
       "      <td>-0.866025</td>\n",
       "    </tr>\n",
       "    <tr>\n",
       "      <th>7054</th>\n",
       "      <td>7054.0</td>\n",
       "      <td>-122.403405</td>\n",
       "      <td>37.775421</td>\n",
       "      <td>6.0</td>\n",
       "      <td>4.0</td>\n",
       "      <td>6.0</td>\n",
       "      <td>-0.068242</td>\n",
       "      <td>0.997669</td>\n",
       "      <td>-0.5</td>\n",
       "      <td>-0.866025</td>\n",
       "    </tr>\n",
       "    <tr>\n",
       "      <th>7055</th>\n",
       "      <td>7055.0</td>\n",
       "      <td>-122.377652</td>\n",
       "      <td>37.733072</td>\n",
       "      <td>5.0</td>\n",
       "      <td>4.0</td>\n",
       "      <td>6.0</td>\n",
       "      <td>0.203456</td>\n",
       "      <td>0.979084</td>\n",
       "      <td>-0.5</td>\n",
       "      <td>-0.866025</td>\n",
       "    </tr>\n",
       "  </tbody>\n",
       "</table>\n",
       "<p>7056 rows × 10 columns</p>\n",
       "</div>"
      ],
      "text/plain": [
       "      Unnamed: 0           X          Y  Dates__hour_of_day  \\\n",
       "0            0.0 -122.412929  37.789687                19.0   \n",
       "1            1.0 -122.424348  37.745046                12.0   \n",
       "2            2.0 -122.449675  37.709763                 9.0   \n",
       "3            3.0 -122.419667  37.774682                 4.0   \n",
       "4            4.0 -122.403916  37.790539                22.0   \n",
       "...          ...         ...        ...                 ...   \n",
       "7051      7051.0 -122.444995  37.777440                12.0   \n",
       "7052      7052.0 -122.422614  37.792643                 8.0   \n",
       "7053      7053.0 -122.422614  37.792643                 8.0   \n",
       "7054      7054.0 -122.403405  37.775421                 6.0   \n",
       "7055      7055.0 -122.377652  37.733072                 5.0   \n",
       "\n",
       "      Dates__day_of_week  Dates__day_of_month  Dates__hour_of_day_cos  \\\n",
       "0                    2.0                 13.0                0.460065   \n",
       "1                    2.0                 13.0               -0.990686   \n",
       "2                    2.0                 13.0               -0.775711   \n",
       "3                    2.0                 13.0                0.460065   \n",
       "4                    1.0                 12.0                0.962917   \n",
       "...                  ...                  ...                     ...   \n",
       "7051                 4.0                  6.0               -0.990686   \n",
       "7052                 4.0                  6.0               -0.576680   \n",
       "7053                 4.0                  6.0               -0.576680   \n",
       "7054                 4.0                  6.0               -0.068242   \n",
       "7055                 4.0                  6.0                0.203456   \n",
       "\n",
       "      Dates__hour_of_day_sin  Dates__day_of_week_cos  Dates__day_of_week_sin  \n",
       "0                  -0.887885                    -0.5                0.866025  \n",
       "1                  -0.136167                    -0.5                0.866025  \n",
       "2                   0.631088                    -0.5                0.866025  \n",
       "3                   0.887885                    -0.5                0.866025  \n",
       "4                  -0.269797                     0.5                0.866025  \n",
       "...                      ...                     ...                     ...  \n",
       "7051               -0.136167                    -0.5               -0.866025  \n",
       "7052                0.816970                    -0.5               -0.866025  \n",
       "7053                0.816970                    -0.5               -0.866025  \n",
       "7054                0.997669                    -0.5               -0.866025  \n",
       "7055                0.979084                    -0.5               -0.866025  \n",
       "\n",
       "[7056 rows x 10 columns]"
      ]
     },
     "execution_count": 134,
     "metadata": {},
     "output_type": "execute_result"
    }
   ],
   "source": [
    "offline_pipe.transform(X_train)"
   ]
  },
  {
   "cell_type": "code",
   "execution_count": null,
   "id": "607c78b8",
   "metadata": {},
   "outputs": [],
   "source": []
  },
  {
   "cell_type": "code",
   "execution_count": null,
   "id": "78bc5bb8",
   "metadata": {},
   "outputs": [],
   "source": []
  },
  {
   "cell_type": "code",
   "execution_count": 55,
   "id": "06bd2f6f",
   "metadata": {},
   "outputs": [
    {
     "ename": "AttributeError",
     "evalue": "The last step of the pipeline should have\n                 the attribute `feature_importances_`",
     "output_type": "error",
     "traceback": [
      "\u001b[0;31m---------------------------------------------------------------------------\u001b[0m",
      "\u001b[0;31mAttributeError\u001b[0m                            Traceback (most recent call last)",
      "\u001b[0;32m/var/folders/68/_95hrz854zx_sxf_t6vzxtc80000gq/T/ipykernel_82557/783743200.py\u001b[0m in \u001b[0;36m<module>\u001b[0;34m\u001b[0m\n\u001b[0;32m----> 1\u001b[0;31m offline_pipe.get_feature_importances(60)[::-1].plot(\n\u001b[0m\u001b[1;32m      2\u001b[0m     \u001b[0mkind\u001b[0m\u001b[0;34m=\u001b[0m\u001b[0;34m'barh'\u001b[0m\u001b[0;34m,\u001b[0m\u001b[0;34m\u001b[0m\u001b[0;34m\u001b[0m\u001b[0m\n\u001b[1;32m      3\u001b[0m     \u001b[0mfigsize\u001b[0m\u001b[0;34m=\u001b[0m\u001b[0;34m(\u001b[0m\u001b[0;36m14\u001b[0m\u001b[0;34m,\u001b[0m\u001b[0;36m9\u001b[0m\u001b[0;34m)\u001b[0m\u001b[0;34m,\u001b[0m\u001b[0;34m\u001b[0m\u001b[0;34m\u001b[0m\u001b[0m\n\u001b[1;32m      4\u001b[0m     \u001b[0mtitle\u001b[0m\u001b[0;34m=\u001b[0m\u001b[0;34m'Feature Importance'\u001b[0m\u001b[0;34m,\u001b[0m\u001b[0;34m\u001b[0m\u001b[0;34m\u001b[0m\u001b[0m\n\u001b[1;32m      5\u001b[0m );\n",
      "\u001b[0;32m~/opensource/gators/gators/pipeline/pipeline.py\u001b[0m in \u001b[0;36mget_feature_importances\u001b[0;34m(self, k)\u001b[0m\n\u001b[1;32m    254\u001b[0m         \"\"\"\n\u001b[1;32m    255\u001b[0m         \u001b[0;32mif\u001b[0m \u001b[0;32mnot\u001b[0m \u001b[0mhasattr\u001b[0m\u001b[0;34m(\u001b[0m\u001b[0mself\u001b[0m\u001b[0;34m.\u001b[0m\u001b[0msteps\u001b[0m\u001b[0;34m[\u001b[0m\u001b[0;34m-\u001b[0m\u001b[0;36m1\u001b[0m\u001b[0;34m]\u001b[0m\u001b[0;34m,\u001b[0m \u001b[0;34m\"feature_importances_\"\u001b[0m\u001b[0;34m)\u001b[0m\u001b[0;34m:\u001b[0m\u001b[0;34m\u001b[0m\u001b[0;34m\u001b[0m\u001b[0m\n\u001b[0;32m--> 256\u001b[0;31m             raise AttributeError(\n\u001b[0m\u001b[1;32m    257\u001b[0m                 \"\"\"The last step of the pipeline should have\n\u001b[1;32m    258\u001b[0m                  the attribute `feature_importances_`\"\"\"\n",
      "\u001b[0;31mAttributeError\u001b[0m: The last step of the pipeline should have\n                 the attribute `feature_importances_`"
     ]
    }
   ],
   "source": [
    "offline_pipe.get_feature_importances(60)[::-1].plot(\n",
    "    kind='barh', \n",
    "    figsize=(14,9), \n",
    "    title='Feature Importance',\n",
    ");"
   ]
  },
  {
   "cell_type": "markdown",
   "id": "1f18fa03",
   "metadata": {},
   "source": [
    "### koalas"
   ]
  },
  {
   "cell_type": "code",
   "execution_count": 11,
   "id": "bfbd13cb",
   "metadata": {},
   "outputs": [
    {
     "name": "stderr",
     "output_type": "stream",
     "text": [
      "                                                                                \r"
     ]
    }
   ],
   "source": [
    "data = ks.read_parquet('data/sf_crime.parquet', index_col='Id')\n",
    "y_ks = data['Category']\n",
    "X_ks = data.drop(\n",
    "    ['Resolution', 'Descript', 'DayOfWeek', 'Category'], axis=1)\n",
    "X_ks.index.name = None\n",
    "y_ks = y_ks.replace(mapping).astype(int)\n",
    "\n",
    "train_test_split = TrainTestSplit(test_ratio=0.3, strategy='ordered')\n",
    "X_train_ks, X_test_ks, y_train_ks, y_test_ks = \\\n",
    "    train_test_split.transform(X_ks, y_ks)"
   ]
  },
  {
   "cell_type": "code",
   "execution_count": 12,
   "id": "b7a6994c",
   "metadata": {},
   "outputs": [
    {
     "name": "stderr",
     "output_type": "stream",
     "text": [
      "21/09/30 11:18:41 WARN package: Truncated the string representation of a plan since it was too large. This behavior can be adjusted by setting 'spark.sql.debug.maxToStringFields'.\n"
     ]
    }
   ],
   "source": [
    "offline_pipe = Pipeline(steps=offline_steps)\n",
    "X_train_prepro_ks = offline_pipe.fit_transform(X_train_ks, y_train_ks)\n",
    "X_train_prepro_ks_np = offline_pipe.transform_numpy(X_train_ks.to_numpy())"
   ]
  },
  {
   "cell_type": "markdown",
   "id": "095015bc",
   "metadata": {},
   "source": [
    "#### check pandas and koalas results match - offline pipeline"
   ]
  },
  {
   "cell_type": "code",
   "execution_count": 13,
   "id": "4a9708e2",
   "metadata": {},
   "outputs": [],
   "source": [
    "assert_frame_equal(\n",
    "    X_train_prepro, \n",
    "    X_train_prepro_ks.to_pandas()\n",
    ")\n",
    "assert np.allclose(\n",
    "    X_train_prepro_np,\n",
    "    X_train_prepro_ks_np)"
   ]
  },
  {
   "cell_type": "markdown",
   "id": "0885ac6e",
   "metadata": {},
   "source": [
    "## production pipeline"
   ]
  },
  {
   "cell_type": "code",
   "execution_count": 16,
   "id": "a056b877",
   "metadata": {},
   "outputs": [],
   "source": [
    "\n",
    "prod_steps = [\n",
    "    ConvertColumnDatatype(columns=['Dates'], datatype='datetime64[ns]'),\n",
    "    OrdinalHourOfDay(columns=['Dates']),\n",
    "    OrdinalDayOfWeek(columns=['Dates']),\n",
    "    OrdinalDayOfMonth(columns=['Dates']),\n",
    "    CyclicHourOfDay(columns=['Dates']),\n",
    "    CyclicDayOfWeek(columns=['Dates']),\n",
    "    CyclicDayOfMonth(columns=['Dates']),\n",
    "    StringContains(\n",
    "        columns=['Address', 'Address', 'Address', 'Address'], \n",
    "        contains_vec=['/', 'AV', 'ST', 'Block'], \n",
    "        column_names=['IsIntersection', 'IsAvenue', 'IsStreet', 'IsBlock']),\n",
    "    DropColumns(columns=['Dates', 'Address']),\n",
    "    PlaneRotation(\n",
    "        columns= [['X','Y']], \n",
    "        theta_vec= np.arange(5, 46, 5).tolist()),\n",
    "    TreeBinning(max_depth=1, inplace=True),\n",
    "    PolynomialObjectFeatures(columns=['PdDistrict', 'Dates__hour_of_day',\n",
    "       'Dates__day_of_week', 'Dates__day_of_month', 'Dates__hour_of_day_cos',\n",
    "       'Dates__day_of_week_cos', 'Dates__day_of_month_cos']),\n",
    "    MultiClassEncoder(WOEEncoder()),\n",
    "    KeepColumns(columns_to_keep=features)\n",
    "]"
   ]
  },
  {
   "cell_type": "markdown",
   "id": "45f204a1",
   "metadata": {},
   "source": [
    "### pandas"
   ]
  },
  {
   "cell_type": "code",
   "execution_count": 17,
   "id": "6addb5d6",
   "metadata": {},
   "outputs": [],
   "source": [
    "X_train_prod = X_train.copy()\n",
    "X_train_prod_np = X_train_prod.to_numpy()\n",
    "X_test_prod = X_test.copy()\n",
    "X_test_prod_np = X_test_prod.to_numpy()\n",
    "\n",
    "prod_pipe = Pipeline(steps=prod_steps)\n",
    "_ = prod_pipe.fit(X_train_prod, y_train)\n",
    "X_train_prod_prepro = prod_pipe.transform(X_train_prod)\n",
    "X_train_prod_prepro_np = prod_pipe.transform_numpy(\n",
    "    X_train_prod.to_numpy())\n",
    "X_test_prod_prepro = prod_pipe.transform(X_test_prod)\n",
    "X_test_prod_prepro_np = prod_pipe.transform_numpy(\n",
    "    X_test_prod.to_numpy())"
   ]
  },
  {
   "cell_type": "markdown",
   "id": "241cd473",
   "metadata": {},
   "source": [
    "### koalas"
   ]
  },
  {
   "cell_type": "code",
   "execution_count": 17,
   "id": "6f6f1f06",
   "metadata": {},
   "outputs": [
    {
     "name": "stderr",
     "output_type": "stream",
     "text": [
      "                                                                                \r"
     ]
    }
   ],
   "source": [
    "X_train_prod_ks = X_train_ks[base_columns]\n",
    "X_test_prod_ks = X_test_ks[base_columns]\n",
    "X_train_prod_ks_np = X_train_prod_ks.to_numpy()\n",
    "X_test_prod_ks_np = X_test_prod_ks.to_numpy()\n",
    "\n",
    "prod_pipe = Pipeline(steps=prod_steps)\n",
    "_ = prod_pipe.fit(X_train_prod_ks, y_train_ks)\n",
    "X_train_prod_prepro_ks = prod_pipe.transform(X_train_prod_ks)\n",
    "X_test_prod_prepro_ks = prod_pipe.transform(X_test_prod_ks)\n",
    "X_train_prod_prepro_ks_np = prod_pipe.transform_numpy(\n",
    "    X_train_prod_ks.to_numpy())\n",
    "X_test_prod_prepro_ks_np = prod_pipe.transform_numpy(\n",
    "    X_test_prod_ks.to_numpy())"
   ]
  },
  {
   "cell_type": "markdown",
   "id": "2f48e136",
   "metadata": {},
   "source": [
    "#### check offline pipeline and production pipeline match"
   ]
  },
  {
   "cell_type": "code",
   "execution_count": 18,
   "id": "e07725b2",
   "metadata": {},
   "outputs": [],
   "source": [
    "assert_frame_equal(\n",
    "    X_train_prepro, \n",
    "    X_train_prod_prepro\n",
    ")\n",
    "assert_frame_equal(\n",
    "    X_train_prepro_ks.to_pandas(), \n",
    "    X_train_prod_prepro_ks.to_pandas()\n",
    ")"
   ]
  },
  {
   "cell_type": "markdown",
   "id": "24ed232b",
   "metadata": {},
   "source": [
    "#### check pandas and koalas results match "
   ]
  },
  {
   "cell_type": "code",
   "execution_count": 19,
   "id": "6bcb0d80",
   "metadata": {},
   "outputs": [],
   "source": [
    "assert_frame_equal(\n",
    "    X_train_prod_prepro, \n",
    "    X_train_prod_prepro_ks.to_pandas()\n",
    ")\n",
    "assert np.allclose(\n",
    "    X_train_prod_prepro_np,\n",
    "    X_train_prod_prepro_ks_np)\n",
    "assert_frame_equal(\n",
    "    X_test_prod_prepro, \n",
    "    X_test_prod_prepro_ks.to_pandas()\n",
    ")\n",
    "assert np.allclose(\n",
    "    X_test_prod_prepro_np,\n",
    "    X_test_prod_prepro_ks_np)"
   ]
  },
  {
   "cell_type": "markdown",
   "id": "c0b8e042",
   "metadata": {},
   "source": [
    "## model building"
   ]
  },
  {
   "cell_type": "markdown",
   "id": "282aae53",
   "metadata": {},
   "source": [
    "### numpy"
   ]
  },
  {
   "cell_type": "code",
   "execution_count": 19,
   "id": "bb10fe8b",
   "metadata": {},
   "outputs": [
    {
     "name": "stdout",
     "output_type": "stream",
     "text": [
      "100%|█████| 100/100 [01:43<00:00,  1.03s/trial, best loss: -0.45128632673539093]\n"
     ]
    }
   ],
   "source": [
    "features = list(X_train_prod_prepro.columns)\n",
    "n_splits = 10\n",
    "max_evals = 100\n",
    "kfold = StratifiedKFold(n_splits=n_splits)\n",
    "space = {\n",
    "    'max_depth': hp.quniform('max_depth', 1, 2, 1),\n",
    "    'learning_rate': hp.loguniform('learning_rate', -3, 0),\n",
    "    'subsample': hp.uniform('subsample', 0.2, 1),\n",
    "    'colsample_bytree': hp.uniform('colsample_bytree', 0.2, 1),\n",
    " }\n",
    "model = LGBMClassifier(random_state=0, n_estimators=200, n_jobs=-1)\n",
    "hyper = HyperOpt(\n",
    "    model=model,\n",
    "    scoring='f1_macro',\n",
    "    algo=tpe.suggest,\n",
    "    space=space,\n",
    "    max_evals=max_evals, \n",
    "    kfold=kfold,\n",
    "    features=features,\n",
    "    )\n",
    "y_train_np = y_train.to_numpy()\n",
    "_ = hyper.fit(X_train_prod_prepro_np, y_train.to_numpy())"
   ]
  },
  {
   "cell_type": "code",
   "execution_count": 21,
   "id": "7c477858",
   "metadata": {},
   "outputs": [
    {
     "data": {
      "text/plain": [
       "'f1 score: 0.55'"
      ]
     },
     "execution_count": 21,
     "metadata": {},
     "output_type": "execute_result"
    }
   ],
   "source": [
    "model_np = copy.copy(hyper.model)\n",
    "X_test_prod = X_test.copy()\n",
    "X_test_prod_prepro_np = prod_pipe.transform(X_test_prod).to_numpy()\n",
    "y_test_pred = model_np.predict(X_test_prod_prepro_np)\n",
    "f'f1 score: {f1_score(y_test, y_test_pred, average=\"micro\"):.2f}'"
   ]
  },
  {
   "cell_type": "code",
   "execution_count": 20,
   "id": "c93d9945",
   "metadata": {},
   "outputs": [
    {
     "data": {
      "image/png": "[encoded data removed]",
      "text/plain": [
       "<Figure size 648x1008 with 1 Axes>"
      ]
     },
     "metadata": {
      "needs_background": "light"
     },
     "output_type": "display_data"
    }
   ],
   "source": [
    "hyper.get_feature_importances().iloc[::-1].plot(\n",
    "    kind='barh', \n",
    "    figsize=(9, 14), \n",
    "    title='Most important features',\n",
    ");"
   ]
  },
  {
   "cell_type": "code",
   "execution_count": 429,
   "id": "b1be9007",
   "metadata": {},
   "outputs": [
    {
     "data": {
      "text/html": [
       "<div>\n",
       "<style scoped>\n",
       "    .dataframe tbody tr th:only-of-type {\n",
       "        vertical-align: middle;\n",
       "    }\n",
       "\n",
       "    .dataframe tbody tr th {\n",
       "        vertical-align: top;\n",
       "    }\n",
       "\n",
       "    .dataframe thead th {\n",
       "        text-align: right;\n",
       "    }\n",
       "</style>\n",
       "<table border=\"1\" class=\"dataframe\">\n",
       "  <thead>\n",
       "    <tr style=\"text-align: right;\">\n",
       "      <th></th>\n",
       "      <th>colsample_bytree</th>\n",
       "      <th>learning_rate</th>\n",
       "      <th>max_depth</th>\n",
       "      <th>subsample</th>\n",
       "      <th>loss</th>\n",
       "      <th>status</th>\n",
       "      <th>id</th>\n",
       "    </tr>\n",
       "  </thead>\n",
       "  <tbody>\n",
       "    <tr>\n",
       "      <th>6</th>\n",
       "      <td>0.588938</td>\n",
       "      <td>0.449428</td>\n",
       "      <td>2.0</td>\n",
       "      <td>0.870533</td>\n",
       "      <td>-0.471062</td>\n",
       "      <td>ok</td>\n",
       "      <td>6</td>\n",
       "    </tr>\n",
       "    <tr>\n",
       "      <th>65</th>\n",
       "      <td>0.850499</td>\n",
       "      <td>0.421657</td>\n",
       "      <td>2.0</td>\n",
       "      <td>0.998417</td>\n",
       "      <td>-0.470783</td>\n",
       "      <td>ok</td>\n",
       "      <td>65</td>\n",
       "    </tr>\n",
       "    <tr>\n",
       "      <th>80</th>\n",
       "      <td>0.817765</td>\n",
       "      <td>0.272677</td>\n",
       "      <td>2.0</td>\n",
       "      <td>0.966880</td>\n",
       "      <td>-0.470758</td>\n",
       "      <td>ok</td>\n",
       "      <td>80</td>\n",
       "    </tr>\n",
       "    <tr>\n",
       "      <th>88</th>\n",
       "      <td>0.711390</td>\n",
       "      <td>0.219398</td>\n",
       "      <td>2.0</td>\n",
       "      <td>0.832755</td>\n",
       "      <td>-0.470647</td>\n",
       "      <td>ok</td>\n",
       "      <td>88</td>\n",
       "    </tr>\n",
       "    <tr>\n",
       "      <th>1</th>\n",
       "      <td>0.717344</td>\n",
       "      <td>0.322430</td>\n",
       "      <td>2.0</td>\n",
       "      <td>0.624771</td>\n",
       "      <td>-0.470250</td>\n",
       "      <td>ok</td>\n",
       "      <td>1</td>\n",
       "    </tr>\n",
       "    <tr>\n",
       "      <th>...</th>\n",
       "      <td>...</td>\n",
       "      <td>...</td>\n",
       "      <td>...</td>\n",
       "      <td>...</td>\n",
       "      <td>...</td>\n",
       "      <td>...</td>\n",
       "      <td>...</td>\n",
       "    </tr>\n",
       "    <tr>\n",
       "      <th>37</th>\n",
       "      <td>0.393774</td>\n",
       "      <td>0.175517</td>\n",
       "      <td>1.0</td>\n",
       "      <td>0.511602</td>\n",
       "      <td>-0.433332</td>\n",
       "      <td>ok</td>\n",
       "      <td>37</td>\n",
       "    </tr>\n",
       "    <tr>\n",
       "      <th>49</th>\n",
       "      <td>0.566618</td>\n",
       "      <td>0.156329</td>\n",
       "      <td>1.0</td>\n",
       "      <td>0.623764</td>\n",
       "      <td>-0.432785</td>\n",
       "      <td>ok</td>\n",
       "      <td>49</td>\n",
       "    </tr>\n",
       "    <tr>\n",
       "      <th>3</th>\n",
       "      <td>0.353173</td>\n",
       "      <td>0.139018</td>\n",
       "      <td>1.0</td>\n",
       "      <td>0.622953</td>\n",
       "      <td>-0.430232</td>\n",
       "      <td>ok</td>\n",
       "      <td>3</td>\n",
       "    </tr>\n",
       "    <tr>\n",
       "      <th>10</th>\n",
       "      <td>0.838495</td>\n",
       "      <td>0.109177</td>\n",
       "      <td>1.0</td>\n",
       "      <td>0.495630</td>\n",
       "      <td>-0.419301</td>\n",
       "      <td>ok</td>\n",
       "      <td>10</td>\n",
       "    </tr>\n",
       "    <tr>\n",
       "      <th>18</th>\n",
       "      <td>0.870962</td>\n",
       "      <td>0.086478</td>\n",
       "      <td>1.0</td>\n",
       "      <td>0.443880</td>\n",
       "      <td>-0.418163</td>\n",
       "      <td>ok</td>\n",
       "      <td>18</td>\n",
       "    </tr>\n",
       "  </tbody>\n",
       "</table>\n",
       "<p>100 rows × 7 columns</p>\n",
       "</div>"
      ],
      "text/plain": [
       "    colsample_bytree  learning_rate  max_depth  subsample      loss status  id\n",
       "6           0.588938       0.449428        2.0   0.870533 -0.471062     ok   6\n",
       "65          0.850499       0.421657        2.0   0.998417 -0.470783     ok  65\n",
       "80          0.817765       0.272677        2.0   0.966880 -0.470758     ok  80\n",
       "88          0.711390       0.219398        2.0   0.832755 -0.470647     ok  88\n",
       "1           0.717344       0.322430        2.0   0.624771 -0.470250     ok   1\n",
       "..               ...            ...        ...        ...       ...    ...  ..\n",
       "37          0.393774       0.175517        1.0   0.511602 -0.433332     ok  37\n",
       "49          0.566618       0.156329        1.0   0.623764 -0.432785     ok  49\n",
       "3           0.353173       0.139018        1.0   0.622953 -0.430232     ok   3\n",
       "10          0.838495       0.109177        1.0   0.495630 -0.419301     ok  10\n",
       "18          0.870962       0.086478        1.0   0.443880 -0.418163     ok  18\n",
       "\n",
       "[100 rows x 7 columns]"
      ]
     },
     "execution_count": 429,
     "metadata": {},
     "output_type": "execute_result"
    }
   ],
   "source": [
    "hyper.history.sort_values('loss')"
   ]
  },
  {
   "cell_type": "code",
   "execution_count": 430,
   "id": "e0aa3700",
   "metadata": {},
   "outputs": [],
   "source": [
    "import dill\n",
    "model_np = copy.copy(hyper.model)\n",
    "model_path = 'models/model_xgb_sfcrime.dill'\n",
    "with open(model_path, 'wb') as file:\n",
    "    dill.dump(model_np, file)"
   ]
  },
  {
   "cell_type": "markdown",
   "id": "95d84df1",
   "metadata": {},
   "source": [
    "### pandas"
   ]
  },
  {
   "cell_type": "code",
   "execution_count": 431,
   "id": "8056007d",
   "metadata": {},
   "outputs": [],
   "source": [
    "model_pd = copy.copy(model_np)\n",
    "_ = model_pd.fit(X_train_prod_prepro, y_train)"
   ]
  },
  {
   "cell_type": "markdown",
   "id": "d77bde60",
   "metadata": {},
   "source": [
    "### treelite"
   ]
  },
  {
   "cell_type": "code",
   "execution_count": 432,
   "id": "4a1f0b47",
   "metadata": {},
   "outputs": [
    {
     "name": "stdout",
     "output_type": "stream",
     "text": [
      "[11:53:50] /Users/travis/build/dmlc/treelite/src/compiler/ast/split.cc:29: Parallel compilation enabled; member trees will be divided into 6 translation units.\n",
      "[11:53:55] /Users/travis/build/dmlc/treelite/src/compiler/ast_native.cc:703: Using ASTNativeCompiler\n",
      "[11:53:55] /Users/travis/build/dmlc/treelite/src/compiler/ast/split.cc:29: Parallel compilation enabled; member trees will be divided into 6 translation units.\n",
      "[11:53:55] /Users/travis/build/dmlc/treelite/src/c_api/c_api.cc:92: Code generation finished. Writing code to files...\n",
      "[11:53:55] /Users/travis/build/dmlc/treelite/src/c_api/c_api.cc:97: Writing file recipe.json...\n",
      "[11:53:55] /Users/travis/build/dmlc/treelite/src/c_api/c_api.cc:97: Writing file tu4.c...\n",
      "[11:53:55] /Users/travis/build/dmlc/treelite/src/c_api/c_api.cc:97: Writing file tu3.c...\n",
      "[11:53:55] /Users/travis/build/dmlc/treelite/src/c_api/c_api.cc:97: Writing file tu2.c...\n",
      "[11:53:55] /Users/travis/build/dmlc/treelite/src/c_api/c_api.cc:97: Writing file tu1.c...\n",
      "[11:53:55] /Users/travis/build/dmlc/treelite/src/c_api/c_api.cc:97: Writing file tu0.c...\n",
      "[11:53:55] /Users/travis/build/dmlc/treelite/src/c_api/c_api.cc:97: Writing file tu5.c...\n",
      "[11:53:55] /Users/travis/build/dmlc/treelite/src/c_api/c_api.cc:97: Writing file header.h...\n",
      "[11:53:55] /Users/travis/build/dmlc/treelite/src/c_api/c_api.cc:97: Writing file main.c...\n"
     ]
    }
   ],
   "source": [
    "LGBMTreeliteDumper.dump(\n",
    "    model=model_np,\n",
    "    toolchain='gcc',\n",
    "    parallel_comp=6,\n",
    "    model_path='models/',\n",
    "    model_name='treelite_lgbm_sfcrime'\n",
    ")"
   ]
  },
  {
   "cell_type": "code",
   "execution_count": 433,
   "id": "a2764a14",
   "metadata": {},
   "outputs": [],
   "source": [
    "import treelite_runtime\n",
    "model_tl = treelite_runtime.Predictor(\n",
    "    './models/treelite_lgbm_sfcrime.so', verbose=False)"
   ]
  },
  {
   "cell_type": "markdown",
   "id": "a5a61a04",
   "metadata": {},
   "source": [
    "#### check the models prediction match"
   ]
  },
  {
   "cell_type": "code",
   "execution_count": 434,
   "id": "0f077259",
   "metadata": {},
   "outputs": [
    {
     "ename": "AssertionError",
     "evalue": "",
     "output_type": "error",
     "traceback": [
      "\u001b[0;31m---------------------------------------------------------------------------\u001b[0m",
      "\u001b[0;31mAssertionError\u001b[0m                            Traceback (most recent call last)",
      "\u001b[0;32m/var/folders/68/_95hrz854zx_sxf_t6vzxtc80000gq/T/ipykernel_52484/3150983679.py\u001b[0m in \u001b[0;36m<module>\u001b[0;34m\u001b[0m\n\u001b[1;32m     12\u001b[0m )\n\u001b[1;32m     13\u001b[0m \u001b[0;32massert\u001b[0m \u001b[0mnp\u001b[0m\u001b[0;34m.\u001b[0m\u001b[0mallclose\u001b[0m\u001b[0;34m(\u001b[0m\u001b[0my_pred_np\u001b[0m\u001b[0;34m,\u001b[0m \u001b[0my_pred_pd\u001b[0m\u001b[0;34m)\u001b[0m\u001b[0;34m\u001b[0m\u001b[0;34m\u001b[0m\u001b[0m\n\u001b[0;32m---> 14\u001b[0;31m \u001b[0;32massert\u001b[0m \u001b[0mnp\u001b[0m\u001b[0;34m.\u001b[0m\u001b[0mallclose\u001b[0m\u001b[0;34m(\u001b[0m\u001b[0my_pred_np\u001b[0m\u001b[0;34m,\u001b[0m \u001b[0mnp\u001b[0m\u001b[0;34m.\u001b[0m\u001b[0margmax\u001b[0m\u001b[0;34m(\u001b[0m\u001b[0my_pred_tl\u001b[0m\u001b[0;34m,\u001b[0m \u001b[0maxis\u001b[0m\u001b[0;34m=\u001b[0m\u001b[0;36m1\u001b[0m\u001b[0;34m)\u001b[0m\u001b[0;34m)\u001b[0m\u001b[0;34m\u001b[0m\u001b[0;34m\u001b[0m\u001b[0m\n\u001b[0m",
      "\u001b[0;31mAssertionError\u001b[0m: "
     ]
    }
   ],
   "source": [
    "X_train_np = X_train.to_numpy()\n",
    "y_pred_pd = model_pd.predict(\n",
    "    prod_pipe.transform(X_train_prod))\n",
    "y_pred_np = model.predict(\n",
    "    prod_pipe.transform_numpy(X_train_prod_np.copy()))\n",
    "y_pred_tl = model_tl.predict(\n",
    "    treelite_runtime.DMatrix(\n",
    "        prod_pipe.transform_numpy(\n",
    "            X_train_prod_np.copy()\n",
    "        )\n",
    "    )\n",
    ")\n",
    "assert np.allclose(y_pred_np, y_pred_pd)\n",
    "assert np.allclose(y_pred_np, np.argmax(y_pred_tl, axis=1))"
   ]
  },
  {
   "cell_type": "markdown",
   "id": "0d81deff",
   "metadata": {},
   "source": [
    "## model evaluation"
   ]
  },
  {
   "cell_type": "code",
   "execution_count": 435,
   "id": "dc3672fb",
   "metadata": {},
   "outputs": [
    {
     "data": {
      "text/plain": [
       "'f1 score: 0.56'"
      ]
     },
     "execution_count": 435,
     "metadata": {},
     "output_type": "execute_result"
    }
   ],
   "source": [
    "model_np = copy.copy(hyper.model)\n",
    "X_test_prod = X_test.copy()\n",
    "X_test_prod_prepro_np = prod_pipe.transform(X_test_prod).to_numpy()\n",
    "y_test_pred = model_np.predict(X_test_prod_prepro_np)\n",
    "f'f1 score: {f1_score(y_test, y_test_pred, average=\"micro\"):.2f}'"
   ]
  },
  {
   "cell_type": "markdown",
   "id": "1ff6a9fb",
   "metadata": {},
   "source": [
    "## per-sample bechmarking"
   ]
  },
  {
   "cell_type": "markdown",
   "id": "b9a2df1f",
   "metadata": {},
   "source": [
    "### pipeline only"
   ]
  },
  {
   "cell_type": "code",
   "execution_count": 409,
   "id": "85586dd3",
   "metadata": {},
   "outputs": [
    {
     "name": "stdout",
     "output_type": "stream",
     "text": [
      "198 ms ± 8.26 ms per loop (mean ± std. dev. of 7 runs, 1 loop each)\n",
      "126 µs ± 2.92 µs per loop (mean ± std. dev. of 7 runs, 10000 loops each)\n"
     ]
    }
   ],
   "source": [
    "x = X_train_prod.iloc[[0]]\n",
    "xnp = x.to_numpy()\n",
    "stats_pd = %timeit -o prod_pipe.transform(x)\n",
    "stats_np = %timeit -o prod_pipe.transform_numpy(xnp.copy())"
   ]
  },
  {
   "cell_type": "code",
   "execution_count": 410,
   "id": "43d9fcad",
   "metadata": {},
   "outputs": [
    {
     "data": {
      "text/plain": [
       "'Speed-up Pandas VS Numpy x1571'"
      ]
     },
     "execution_count": 410,
     "metadata": {},
     "output_type": "execute_result"
    }
   ],
   "source": [
    "speedup = 1e3 * float(str(stats_pd).split(' ')[0]) / float(str(stats_np).split(' ')[0])\n",
    "f'Speed-up Pandas VS Numpy x{round(speedup)}'"
   ]
  },
  {
   "cell_type": "markdown",
   "id": "2ba66748",
   "metadata": {},
   "source": [
    "### pipeline & model"
   ]
  },
  {
   "cell_type": "code",
   "execution_count": 411,
   "id": "77d53170",
   "metadata": {},
   "outputs": [
    {
     "name": "stdout",
     "output_type": "stream",
     "text": [
      "243 ms ± 5.26 ms per loop (mean ± std. dev. of 7 runs, 1 loop each)\n",
      "477 µs ± 5.24 µs per loop (mean ± std. dev. of 7 runs, 1000 loops each)\n",
      "205 µs ± 8.05 µs per loop (mean ± std. dev. of 7 runs, 1000 loops each)\n"
     ]
    }
   ],
   "source": [
    "stats_pd = %timeit -o model_pd.predict(prod_pipe.transform(x))[0]\n",
    "stats_np = %timeit -o model.predict(prod_pipe.transform_numpy(xnp.copy()))[0]\n",
    "stats_tl = %timeit -o model_tl.predict(treelite_runtime.DMatrix(prod_pipe.transform_numpy(xnp.copy())))"
   ]
  },
  {
   "cell_type": "code",
   "execution_count": 412,
   "id": "91634c93",
   "metadata": {},
   "outputs": [
    {
     "data": {
      "text/plain": [
       "'Speed-up Pandas VS Numpy x509'"
      ]
     },
     "execution_count": 412,
     "metadata": {},
     "output_type": "execute_result"
    }
   ],
   "source": [
    "speedup = 1000 * float(str(stats_pd).split(' ')[0]) / float(str(stats_np).split(' ')[0])\n",
    "f'Speed-up Pandas VS Numpy x{round(speedup)}'"
   ]
  },
  {
   "cell_type": "code",
   "execution_count": 413,
   "id": "3259620d",
   "metadata": {},
   "outputs": [
    {
     "data": {
      "text/plain": [
       "'Speed-up Pandas VS Numpy&Treelite x1185'"
      ]
     },
     "execution_count": 413,
     "metadata": {},
     "output_type": "execute_result"
    }
   ],
   "source": [
    "speedup = 1000 * float(str(stats_pd).split(' ')[0]) / float(str(stats_tl).split(' ')[0])\n",
    "f'Speed-up Pandas VS Numpy&Treelite x{round(speedup)}'"
   ]
  },
  {
   "cell_type": "code",
   "execution_count": null,
   "id": "46aa8e7a",
   "metadata": {},
   "outputs": [],
   "source": []
  }
 ],
 "metadata": {
  "kernelspec": {
   "display_name": "gators38",
   "language": "python",
   "name": "gators38"
  },
  "language_info": {
   "codemirror_mode": {
    "name": "ipython",
    "version": 3
   },
   "file_extension": ".py",
   "mimetype": "text/x-python",
   "name": "python",
   "nbconvert_exporter": "python",
   "pygments_lexer": "ipython3",
   "version": "3.8.10"
  }
 },
 "nbformat": 4,
 "nbformat_minor": 5
}
