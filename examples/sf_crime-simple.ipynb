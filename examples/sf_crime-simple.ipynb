{
 "cells": [
  {
   "cell_type": "markdown",
   "id": "df65377d",
   "metadata": {},
   "source": [
    "# multiclass classification example - SF crime dataset"
   ]
  },
  {
   "cell_type": "code",
   "execution_count": 1,
   "id": "2a612a42",
   "metadata": {},
   "outputs": [],
   "source": [
    "import warnings\n",
    "warnings.filterwarnings('ignore')"
   ]
  },
  {
   "cell_type": "code",
   "execution_count": 2,
   "id": "04e99725",
   "metadata": {},
   "outputs": [],
   "source": [
    "%load_ext autoreload\n",
    "%autoreload 2"
   ]
  },
  {
   "cell_type": "code",
   "execution_count": 3,
   "id": "3eb44a1b",
   "metadata": {},
   "outputs": [
    {
     "name": "stderr",
     "output_type": "stream",
     "text": [
      "WARNING:root:Found pyspark version \"3.2.0\" installed. The pyspark version 3.2 and above has a built-in \"pandas APIs on Spark\" module ported from Koalas. Try `import pyspark.pandas as ps` instead. \n",
      "WARNING:root:'PYARROW_IGNORE_TIMEZONE' environment variable was not set. It is required to set this environment variable to '1' in both driver and executor sides if you use pyarrow>=2.0.0. Koalas will set it for you but it does not work if there is a Spark context already launched.\n"
     ]
    }
   ],
   "source": [
    "import copy\n",
    "import numpy as np\n",
    "import pandas as pd\n",
    "import databricks.koalas as ks\n",
    "from pandas.testing import assert_frame_equal\n",
    "from lightgbm import LGBMClassifier\n",
    "from xgboost import XGBClassifier\n",
    "from sklearn.model_selection import StratifiedKFold\n",
    "from sklearn.metrics import f1_score\n",
    "from sklearn.multiclass import OneVsRestClassifier\n",
    "from sklearn.tree import DecisionTreeClassifier"
   ]
  },
  {
   "cell_type": "markdown",
   "id": "83885d4a",
   "metadata": {},
   "source": [
    "**Gators** imports"
   ]
  },
  {
   "cell_type": "code",
   "execution_count": 4,
   "id": "750c7885",
   "metadata": {
    "scrolled": true
   },
   "outputs": [],
   "source": [
    "from gators.util import util\n",
    "# data cleaning\n",
    "from gators.data_cleaning import (\n",
    "    ConvertColumnDatatype,\n",
    "    DropHighNaNRatio,\n",
    "    DropLowCardinality,\n",
    "    DropHighCardinality,\n",
    "    DropDatatypeColumns,\n",
    "    DropColumns,\n",
    "    KeepColumns\n",
    ")\n",
    "# imputers\n",
    "from gators.imputers import (\n",
    "    NumericsImputer, \n",
    "    ObjectImputer,\n",
    ")\n",
    "# encoders\n",
    "from gators.encoders import (\n",
    "    WOEEncoder, \n",
    "    TargetEncoder,\n",
    "    OrdinalEncoder,\n",
    ")\n",
    "# binning\n",
    "from gators.binning import (\n",
    "    BinRareCategories,\n",
    "    TreeBinning,\n",
    ")\n",
    "# feature generation\n",
    "from gators.feature_generation import (\n",
    "    ClusterStatistics,\n",
    "    PolynomialObjectFeatures,\n",
    ")\n",
    "from gators.feature_generation_str import (\n",
    "    StringContains,\n",
    "    StringLength,\n",
    "    Extract,\n",
    "    SplitExtract,\n",
    ")\n",
    "from gators.feature_generation_dt import (\n",
    "    CyclicHourOfDay,\n",
    "    CyclicDayOfMonth,\n",
    "    CyclicDayOfWeek,\n",
    "    CyclicMonthOfYear,\n",
    "    OrdinalDayOfMonth,\n",
    "    OrdinalMonthOfYear,\n",
    "    OrdinalDayOfWeek,\n",
    "    OrdinalHourOfDay,\n",
    ")\n",
    "# feature selection\n",
    "from gators.feature_selection import (\n",
    "    SelectFromModel,\n",
    ")\n",
    "# feature generation\n",
    "from gators.feature_generation import PlaneRotation\n",
    "# model building\n",
    "from gators.model_building import (\n",
    "    TrainTestSplit,\n",
    "    XGBBoosterBuilder,\n",
    "    XGBTreeliteDumper,\n",
    "    LGBMTreeliteDumper,\n",
    ")\n",
    "# pipeline\n",
    "from gators.pipeline import Pipeline"
   ]
  },
  {
   "cell_type": "markdown",
   "id": "94fcc94a",
   "metadata": {},
   "source": [
    "## offline pipeline - feature selection"
   ]
  },
  {
   "cell_type": "markdown",
   "id": "b5109fe0",
   "metadata": {},
   "source": [
    "#### Pipeline composed of\n",
    "* Datetime features - cyclic & ordinal\n",
    "* String features\n",
    "* Ordinal encoder\n",
    "* Plane roration"
   ]
  },
  {
   "cell_type": "markdown",
   "id": "da9783a0",
   "metadata": {},
   "source": [
    "### with pandas"
   ]
  },
  {
   "cell_type": "code",
   "execution_count": 84,
   "id": "1547018b",
   "metadata": {},
   "outputs": [],
   "source": [
    "data = pd.read_parquet('data/sf_crime.parquet')\n",
    "data = data.reset_index(drop=True)\n",
    "y = data['Category']\n",
    "X = data.drop(['Category'], axis=1)\n",
    "\n",
    "base_columns = list(X.columns)\n",
    "classes = y.unique()\n",
    "mapping = dict(zip(classes, range(len(classes))))\n",
    "y = y.replace(mapping)\n",
    "\n",
    "train_test_split = TrainTestSplit(test_ratio=0.3, strategy='ordered')\n",
    "X_train, X_test, y_train, y_test = train_test_split.transform(X, y)\n",
    "X_train_np = X_train.to_numpy()\n",
    "X_test_np = X_test.to_numpy()"
   ]
  },
  {
   "cell_type": "code",
   "execution_count": 85,
   "id": "51158cc8",
   "metadata": {},
   "outputs": [
    {
     "data": {
      "text/html": [
       "<div>\n",
       "<style scoped>\n",
       "    .dataframe tbody tr th:only-of-type {\n",
       "        vertical-align: middle;\n",
       "    }\n",
       "\n",
       "    .dataframe tbody tr th {\n",
       "        vertical-align: top;\n",
       "    }\n",
       "\n",
       "    .dataframe thead th {\n",
       "        text-align: right;\n",
       "    }\n",
       "</style>\n",
       "<table border=\"1\" class=\"dataframe\">\n",
       "  <thead>\n",
       "    <tr style=\"text-align: right;\">\n",
       "      <th></th>\n",
       "      <th>Dates</th>\n",
       "      <th>PdDistrict</th>\n",
       "      <th>Address</th>\n",
       "      <th>X</th>\n",
       "      <th>Y</th>\n",
       "    </tr>\n",
       "  </thead>\n",
       "  <tbody>\n",
       "    <tr>\n",
       "      <th>0</th>\n",
       "      <td>2015-05-13 19:26:00</td>\n",
       "      <td>CENTRAL</td>\n",
       "      <td>900 Block of BUSH ST</td>\n",
       "      <td>-122.412929</td>\n",
       "      <td>37.789687</td>\n",
       "    </tr>\n",
       "    <tr>\n",
       "      <th>1</th>\n",
       "      <td>2015-05-13 12:21:00</td>\n",
       "      <td>INGLESIDE</td>\n",
       "      <td>1500 Block of DOLORES ST</td>\n",
       "      <td>-122.424348</td>\n",
       "      <td>37.745046</td>\n",
       "    </tr>\n",
       "  </tbody>\n",
       "</table>\n",
       "</div>"
      ],
      "text/plain": [
       "                 Dates PdDistrict                   Address           X  \\\n",
       "0  2015-05-13 19:26:00    CENTRAL      900 Block of BUSH ST -122.412929   \n",
       "1  2015-05-13 12:21:00  INGLESIDE  1500 Block of DOLORES ST -122.424348   \n",
       "\n",
       "           Y  \n",
       "0  37.789687  \n",
       "1  37.745046  "
      ]
     },
     "execution_count": 85,
     "metadata": {},
     "output_type": "execute_result"
    }
   ],
   "source": [
    "X_train.head(2)"
   ]
  },
  {
   "cell_type": "code",
   "execution_count": 86,
   "id": "679f15ad",
   "metadata": {},
   "outputs": [
    {
     "data": {
      "image/png": "[encoded data removed]",
      "text/plain": [
       "<Figure size 432x288 with 1 Axes>"
      ]
     },
     "metadata": {
      "needs_background": "light"
     },
     "output_type": "display_data"
    }
   ],
   "source": [
    "# target analysis\n",
    "data['Category'].value_counts().iloc[::-1].plot(kind='barh');"
   ]
  },
  {
   "cell_type": "code",
   "execution_count": 132,
   "id": "7fceebff",
   "metadata": {},
   "outputs": [],
   "source": [
    "model = XGBClassifier(random_state=0, n_jobs=-1)\n",
    "k = 28\n",
    "\n",
    "offline_steps = [\n",
    "    ('ConvertColumnDatatype', ConvertColumnDatatype(columns=['Dates'], datatype='datetime64[ns]')),\n",
    "    ('OrdinalHourOfDay', OrdinalHourOfDay(columns=['Dates'])),\n",
    "    ('OrdinalDayOfWeek', OrdinalDayOfWeek(columns=['Dates'])),\n",
    "    ('OrdinalDayOfMonth', OrdinalDayOfMonth(columns=['Dates'])),\n",
    "    ('CyclicHourOfDay', CyclicHourOfDay(columns=['Dates'])),\n",
    "    ('CyclicDayOfWeek', CyclicDayOfWeek(columns=['Dates'])),\n",
    "    ('CyclicDayOfMonth', CyclicDayOfMonth(columns=['Dates'])),\n",
    "    ('StringContains', StringContains(\n",
    "        columns=['Address', 'Address', 'Address', 'Address'], \n",
    "        contains_vec=['/', 'AV', 'ST', 'Block'], \n",
    "        column_names=['IsIntersection', 'IsAvenue', 'IsStreet', 'IsBlock'])),\n",
    "    ('DropColumns', DropColumns(columns=['Dates', 'Address'])),\n",
    "    ('OrdinalEncoder', OrdinalEncoder()),\n",
    "    ('PlaneRotation', PlaneRotation(\n",
    "        columns= [['X','Y']], \n",
    "        theta_vec= [15, 30, 45])),\n",
    "    ('ESTIMATOR', model)\n",
    "]\n",
    "offline_pipe = Pipeline(steps=offline_steps)\n",
    "_ = offline_pipe.fit(X_train[base_columns], y_train)\n",
    "y_train_pred = offline_pipe.predict(X_train[base_columns])\n",
    "y_test_pred = offline_pipe.predict(X_test[base_columns])\n",
    "# features = list(X_train_prepro.columns)"
   ]
  },
  {
   "cell_type": "code",
   "execution_count": 135,
   "id": "8478bf08",
   "metadata": {},
   "outputs": [
    {
     "data": {
      "text/plain": [
       "(0.6451475595913735, 0.6052980132450331)"
      ]
     },
     "execution_count": 135,
     "metadata": {},
     "output_type": "execute_result"
    }
   ],
   "source": [
    "(y_train.astype(float) == y_train_pred).mean(), (y_test.astype(float) == y_test_pred).mean()"
   ]
  },
  {
   "cell_type": "code",
   "execution_count": 115,
   "id": "06bd2f6f",
   "metadata": {
    "scrolled": true
   },
   "outputs": [
    {
     "data": {
      "text/plain": [
       "Y                          1054\n",
       "XY_y_30deg                  926\n",
       "XY_x_45deg                  916\n",
       "X                           910\n",
       "XY_y_45deg                  835\n",
       "XY_y_15deg                  834\n",
       "Dates__day_of_month_sin     801\n",
       "Dates__day_of_month_cos     747\n",
       "XY_x_30deg                  716\n",
       "XY_x_15deg                  702\n",
       "Dates__hour_of_day          576\n",
       "Dates__hour_of_day_sin      563\n",
       "Dates__day_of_month         490\n",
       "Dates__hour_of_day_cos      480\n",
       "Dates__day_of_week          369\n",
       "Dates__day_of_week_cos      296\n",
       "Dates__day_of_week_sin      243\n",
       "PdDistrict                  173\n",
       "IsIntersection              136\n",
       "IsAvenue                    121\n",
       "IsStreet                     92\n",
       "IsBlock                      20\n",
       "dtype: int32"
      ]
     },
     "execution_count": 115,
     "metadata": {},
     "output_type": "execute_result"
    }
   ],
   "source": [
    "pd.Series(\n",
    "    offline_pipe.steps[-1][1].feature_importances_,\n",
    "    index=offline_pipe.steps[-2][1].columns_\n",
    ").sort_values(ascending=False)"
   ]
  },
  {
   "cell_type": "code",
   "execution_count": 236,
   "id": "a313cdd0",
   "metadata": {},
   "outputs": [],
   "source": [
    "onevsall_steps = [\n",
    "    ('ConvertColumnDatatype', ConvertColumnDatatype(columns=['Dates'], datatype='datetime64[ns]')),\n",
    "    ('OrdinalHourOfDay', OrdinalHourOfDay(columns=['Dates'])),\n",
    "    ('OrdinalDayOfWeek', OrdinalDayOfWeek(columns=['Dates'])),\n",
    "    ('OrdinalDayOfMonth', OrdinalDayOfMonth(columns=['Dates'])),\n",
    "    ('CyclicHourOfDay', CyclicHourOfDay(columns=['Dates'])),\n",
    "    ('CyclicDayOfWeek', CyclicDayOfWeek(columns=['Dates'])),\n",
    "    ('CyclicDayOfMonth', CyclicDayOfMonth(columns=['Dates'])),\n",
    "    ('StringContains', StringContains(\n",
    "        columns=['Address', 'Address', 'Address', 'Address'], \n",
    "        contains_vec=['/', 'AV', 'ST', 'Block'], \n",
    "        column_names=['IsIntersection', 'IsAvenue', 'IsStreet', 'IsBlock'])),\n",
    "    ('DropColumns', DropColumns(columns=['Dates', 'Address'])),\n",
    "\n",
    "    ('PlaneRotation', PlaneRotation(\n",
    "        columns= [['X','Y']], \n",
    "        theta_vec= [15, 30, 45])),\n",
    "    ('TreeBinning', TreeBinning(\n",
    "        tree=DecisionTreeClassifier(max_depth=4, min_samples_leaf=50),\n",
    "        inplace=True)),\n",
    "    ('PolynomialObjectFeatures', PolynomialObjectFeatures(\n",
    "        columns=[\n",
    "            'PdDistrict', 'X', 'Y', 'Dates__hour_of_day', 'Dates__day_of_week', \n",
    "            'Dates__day_of_month'],\n",
    "        degree=2)),\n",
    "    ('BinRareCategories', BinRareCategories(min_ratio=0.)),\n",
    "    ('WOEEncoder', WOEEncoder()),\n",
    "    ('ESTIMATOR', XGBClassifier(max_depth=2, random_state=0))\n",
    "]\n",
    "onevsall_pipe = Pipeline(steps=onevsall_steps)\n"
   ]
  },
  {
   "cell_type": "code",
   "execution_count": 237,
   "id": "677121b0",
   "metadata": {},
   "outputs": [
    {
     "data": {
      "text/plain": [
       "(0.6336549375709422, 0.616225165562914)"
      ]
     },
     "execution_count": 237,
     "metadata": {},
     "output_type": "execute_result"
    }
   ],
   "source": [
    "y_train_dummies = pd.get_dummies(y_train)\n",
    "y_train_dummies.columns =  [str(i) for i in y_train_dummies.columns]\n",
    "model_dummies = {}\n",
    "for i in y_train_dummies.columns:\n",
    "    model = onevsall_pipe.fit(X_train.copy(), y_train_dummies[i])\n",
    "    model_dummies[i] = copy.deepcopy(model)\n",
    "y_train_pred = pd.DataFrame(columns=y_train_dummies.columns, index=y_train.index)\n",
    "y_test_pred = pd.DataFrame(columns=y_train_dummies.columns, index=y_test.index)\n",
    "for i in y_train_dummies.columns:\n",
    "    y_train_pred[i] = model_dummies[i].predict_proba(X_train.copy())[:, 1]\n",
    "    y_test_pred[i] = model_dummies[i].predict_proba(X_test.copy())[:, 1]\n",
    "(y_train.astype(float) == y_train_pred.idxmax(1).astype(float)).mean(), (y_test.astype(float) == y_test_pred.idxmax(1).astype(float)).mean()"
   ]
  },
  {
   "cell_type": "code",
   "execution_count": 233,
   "id": "d61770eb",
   "metadata": {},
   "outputs": [
    {
     "data": {
      "text/plain": [
       "(0.637627695800227, 0.6115894039735099)"
      ]
     },
     "execution_count": 233,
     "metadata": {},
     "output_type": "execute_result"
    }
   ],
   "source": []
  },
  {
   "cell_type": "code",
   "execution_count": 230,
   "id": "8d98d102",
   "metadata": {},
   "outputs": [
    {
     "data": {
      "text/plain": [
       "(0.6411748013620885, 0.6112582781456953)"
      ]
     },
     "execution_count": 230,
     "metadata": {},
     "output_type": "execute_result"
    }
   ],
   "source": []
  },
  {
   "cell_type": "markdown",
   "id": "dd7b28f6",
   "metadata": {},
   "source": [
    "### with dask"
   ]
  },
  {
   "cell_type": "code",
   "execution_count": null,
   "id": "af974857",
   "metadata": {},
   "outputs": [],
   "source": [
    "import dask.dataframe as dd\n",
    "import dask.distributed\n",
    "client = dask.distributed.Client()"
   ]
  },
  {
   "cell_type": "code",
   "execution_count": null,
   "id": "df8d4b17",
   "metadata": {},
   "outputs": [],
   "source": [
    "data_dd = dd.read_parquet('data/sf_crime.parquet')\n",
    "y_dd = data_dd['Category']\n",
    "X_dd = data_dd.drop(['Category'], axis=1)\n",
    "\n",
    "base_columns = list(X_dd.columns)\n",
    "classes = y.unique()\n",
    "mapping = dict(zip(classes, range(len(classes))))\n",
    "y_dd = y_dd.replace(mapping)\n",
    "\n",
    "train_test_split = TrainTestSplit(test_ratio=0.3, strategy='ordered')\n",
    "X_train_dd, X_test_dd, y_train_dd, y_test_dd = \\\n",
    "    train_test_split.transform(X_dd, y_dd)"
   ]
  },
  {
   "cell_type": "code",
   "execution_count": null,
   "id": "18ffec7c",
   "metadata": {},
   "outputs": [],
   "source": [
    "X_train_dd.compute().shape, X_test_dd.compute().shape"
   ]
  },
  {
   "cell_type": "code",
   "execution_count": null,
   "id": "f2a4265a",
   "metadata": {},
   "outputs": [],
   "source": [
    "X_train_dd = client.persist(X_train_dd)\n",
    "X_test_dd = client.persist(X_test_dd)\n",
    "y_train_dd = client.persist(y_train_dd)\n",
    "y_test_dd = client.persist(y_test_dd)\n",
    "\n",
    "offline_pipe_dd = Pipeline(steps=offline_steps)\n",
    "X_train_prepro_dd = offline_pipe_dd.fit_transform(\n",
    "    X_train_dd[base_columns], y_train_dd)\n",
    "features_dd = list(X_train_prepro_dd.columns)"
   ]
  },
  {
   "cell_type": "code",
   "execution_count": null,
   "id": "57de6187",
   "metadata": {
    "scrolled": true
   },
   "outputs": [],
   "source": [
    "offline_pipe_dd.get_feature_importances(k)[::-1].plot(\n",
    "    kind='barh', \n",
    "    figsize=(14,9), \n",
    "    title='Feature Importance',\n",
    ");"
   ]
  },
  {
   "cell_type": "markdown",
   "id": "1f18fa03",
   "metadata": {},
   "source": [
    "### with koalas"
   ]
  },
  {
   "cell_type": "code",
   "execution_count": null,
   "id": "ac6d994a",
   "metadata": {},
   "outputs": [],
   "source": [
    "from pyspark import SparkConf, SparkContext\n",
    "conf = SparkConf()\n",
    "conf.set('spark.executor.memory', '2g')\n",
    "sc = SparkContext(conf=conf)\n",
    "sc.setLogLevel(\"OFF\")\n",
    "ks.set_option('compute.default_index_type', 'distributed-sequence')\n",
    "from pyspark.ml.classification import RandomForestClassifier as RFCSpark"
   ]
  },
  {
   "cell_type": "code",
   "execution_count": null,
   "id": "bfbd13cb",
   "metadata": {},
   "outputs": [],
   "source": [
    "data_ks = ks.read_parquet('data/sf_crime.parquet')\n",
    "y_ks = data_ks['Category']\n",
    "X_ks = data_ks.drop(['Category'], axis=1)\n",
    "base_columns = list(X_ks.columns)\n",
    "classes = y_ks.unique().to_numpy()\n",
    "mapping = dict(zip(classes, range(len(classes))))\n",
    "y_ks = y_ks.replace(mapping).astype(int)\n",
    "\n",
    "train_test_split = TrainTestSplit(test_ratio=0.3, strategy='ordered')\n",
    "X_train_ks, X_test_ks, y_train_ks, y_test_ks = \\\n",
    "    train_test_split.transform(X_ks, y_ks)"
   ]
  },
  {
   "cell_type": "code",
   "execution_count": null,
   "id": "2dce256a",
   "metadata": {},
   "outputs": [],
   "source": [
    "model = RFCSpark(numTrees=20, maxDepth=4, labelCol=y_train.name, seed=0)\n",
    "k = 28\n",
    "\n",
    "offline_steps = [\n",
    "    ConvertColumnDatatype(columns=['Dates'], datatype='datetime64[ns]'),\n",
    "    OrdinalHourOfDay(columns=['Dates']),\n",
    "    OrdinalDayOfWeek(columns=['Dates']),\n",
    "    OrdinalDayOfMonth(columns=['Dates']),\n",
    "    CyclicHourOfDay(columns=['Dates']),\n",
    "    CyclicDayOfWeek(columns=['Dates']),\n",
    "    CyclicDayOfMonth(columns=['Dates']),\n",
    "    StringContains(\n",
    "        columns=['Address', 'Address', 'Address', 'Address'], \n",
    "        contains_vec=['/', 'AV', 'ST', 'Block'], \n",
    "        column_names=['IsIntersection', 'IsAvenue', 'IsStreet', 'IsBlock']),\n",
    "    DropColumns(columns=['Dates', 'Address']),\n",
    "    OrdinalEncoder(),\n",
    "    PlaneRotation(\n",
    "        columns= [['X','Y']], \n",
    "        theta_vec= [15, 30, 45]),\n",
    "    SelectFromModel(model=model, k=k)\n",
    "]\n",
    "offline_pipe_ks = Pipeline(steps=offline_steps)"
   ]
  },
  {
   "cell_type": "code",
   "execution_count": null,
   "id": "b7a6994c",
   "metadata": {},
   "outputs": [],
   "source": [
    "offline_pipe_ks = Pipeline(steps=offline_steps)\n",
    "X_train_prepro_ks = offline_pipe_ks.fit_transform(X_train_ks, y_train_ks)"
   ]
  },
  {
   "cell_type": "code",
   "execution_count": null,
   "id": "6fca16f8",
   "metadata": {},
   "outputs": [],
   "source": [
    "offline_pipe_ks.get_feature_importances(k)[::-1].plot(\n",
    "    kind='barh', \n",
    "    figsize=(14,9), \n",
    "    title='Feature Importance',\n",
    ");"
   ]
  },
  {
   "cell_type": "markdown",
   "id": "0885ac6e",
   "metadata": {},
   "source": [
    "## production pipeline"
   ]
  },
  {
   "cell_type": "markdown",
   "id": "7a345b5c",
   "metadata": {},
   "source": [
    "Using the features from the Pandas pipeline to compare the results between the libraries later on.  "
   ]
  },
  {
   "cell_type": "code",
   "execution_count": null,
   "id": "a056b877",
   "metadata": {},
   "outputs": [],
   "source": [
    "prod_steps = [\n",
    "    ConvertColumnDatatype(columns=['Dates'], datatype='datetime64[ns]'),\n",
    "    OrdinalHourOfDay(columns=['Dates']),\n",
    "    OrdinalDayOfWeek(columns=['Dates']),\n",
    "    OrdinalDayOfMonth(columns=['Dates']),\n",
    "    CyclicHourOfDay(columns=['Dates']),\n",
    "    CyclicDayOfWeek(columns=['Dates']),\n",
    "    CyclicDayOfMonth(columns=['Dates']),\n",
    "    StringContains(\n",
    "        columns=['Address', 'Address', 'Address', 'Address'], \n",
    "        contains_vec=['/', 'AV', 'ST', 'Block'], \n",
    "        column_names=['IsIntersection', 'IsAvenue', 'IsStreet', 'IsBlock']),\n",
    "    DropColumns(columns=['Dates', 'Address']),\n",
    "    OrdinalEncoder(),\n",
    "    PlaneRotation(\n",
    "        columns= [['X','Y']], \n",
    "        theta_vec=[15, 30, 45]),\n",
    "    KeepColumns(columns_to_keep=features)\n",
    "]"
   ]
  },
  {
   "cell_type": "markdown",
   "id": "45f204a1",
   "metadata": {},
   "source": [
    "### with pandas"
   ]
  },
  {
   "cell_type": "code",
   "execution_count": null,
   "id": "6addb5d6",
   "metadata": {},
   "outputs": [],
   "source": [
    "X_train_np = X_train[base_columns].to_numpy()\n",
    "X_test_np = X_test[base_columns].to_numpy()\n",
    "prod_pipe = Pipeline(steps=prod_steps)\n",
    "_ = prod_pipe.fit(X_train[base_columns], y_train)\n",
    "X_train_prod_prepro = prod_pipe.transform(X_train[base_columns])\n",
    "X_train_prod_prepro_np = prod_pipe.transform_numpy(X_train_np)\n",
    "X_test_prod_prepro = prod_pipe.transform(X_test)\n",
    "X_test_prod_prepro_np = prod_pipe.transform_numpy(X_test_np)"
   ]
  },
  {
   "cell_type": "markdown",
   "id": "12f14379",
   "metadata": {},
   "source": [
    "#### check transform and transform numpy match"
   ]
  },
  {
   "cell_type": "code",
   "execution_count": null,
   "id": "468e9c73",
   "metadata": {},
   "outputs": [],
   "source": [
    "assert_frame_equal(\n",
    "    pd.DataFrame(X_train_prod_prepro_np),\n",
    "    pd.DataFrame(X_train_prod_prepro.to_numpy())\n",
    ")"
   ]
  },
  {
   "cell_type": "markdown",
   "id": "b7fcc9a0",
   "metadata": {},
   "source": [
    "### with dask"
   ]
  },
  {
   "cell_type": "code",
   "execution_count": null,
   "id": "d8b27baa",
   "metadata": {},
   "outputs": [],
   "source": [
    "prod_pipe = Pipeline(steps=prod_steps)\n",
    "_ = prod_pipe.fit(X_train_dd, y_train_dd)\n",
    "X_train_prod_prepro_dd = prod_pipe.transform(X_train_dd)\n",
    "X_train_prod_prepro_dd_np = prod_pipe.transform_numpy(\n",
    "    X_train_np)"
   ]
  },
  {
   "cell_type": "markdown",
   "id": "93ec3051",
   "metadata": {},
   "source": [
    "#### check transform and transform numpy match"
   ]
  },
  {
   "cell_type": "code",
   "execution_count": null,
   "id": "d0abe468",
   "metadata": {},
   "outputs": [],
   "source": [
    "assert_frame_equal(\n",
    "    pd.DataFrame(X_train_prod_prepro_dd_np),\n",
    "    pd.DataFrame(X_train_prod_prepro_dd.compute().to_numpy())\n",
    ")"
   ]
  },
  {
   "cell_type": "markdown",
   "id": "1d0e157a",
   "metadata": {},
   "source": [
    "### with koalas"
   ]
  },
  {
   "cell_type": "code",
   "execution_count": null,
   "id": "9863a545",
   "metadata": {},
   "outputs": [],
   "source": [
    "prod_pipe = Pipeline(steps=prod_steps)\n",
    "_ = prod_pipe.fit(X_train_ks, y_ks)\n",
    "X_train_prod_prepro_ks = prod_pipe.transform(X_train_ks)\n",
    "X_test_prod_prepro_ks = prod_pipe.transform(X_test_ks)\n",
    "X_train_prod_prepro_ks_np = prod_pipe.transform_numpy(\n",
    "    X_train_np)\n",
    "X_test_prod_prepro_ks_np = prod_pipe.transform_numpy(\n",
    "    X_test_np)"
   ]
  },
  {
   "cell_type": "markdown",
   "id": "4f4ebb84",
   "metadata": {},
   "source": [
    "#### check transform and transform numpy match"
   ]
  },
  {
   "cell_type": "code",
   "execution_count": null,
   "id": "90a5436b",
   "metadata": {},
   "outputs": [],
   "source": [
    "assert_frame_equal(\n",
    "    pd.DataFrame(X_train_prod_prepro_ks_np),\n",
    "    pd.DataFrame(X_train_prod_prepro_ks.to_numpy())\n",
    ")"
   ]
  },
  {
   "cell_type": "markdown",
   "id": "24ed232b",
   "metadata": {},
   "source": [
    "#### check pandas, dask, and koalas results match - production pipeline"
   ]
  },
  {
   "cell_type": "code",
   "execution_count": null,
   "id": "76facfc6",
   "metadata": {},
   "outputs": [],
   "source": [
    "assert_frame_equal(\n",
    "    pd.DataFrame(X_train_prod_prepro_np), \n",
    "    pd.DataFrame(X_train_prod_prepro_dd_np))"
   ]
  },
  {
   "cell_type": "code",
   "execution_count": null,
   "id": "6bcb0d80",
   "metadata": {},
   "outputs": [],
   "source": [
    "assert np.allclose(\n",
    "    X_train_prod_prepro_np,\n",
    "    X_train_prod_prepro_dd_np)\n",
    "assert np.allclose(\n",
    "    X_train_prod_prepro_np,\n",
    "    X_train_prod_prepro_ks_np)"
   ]
  },
  {
   "cell_type": "markdown",
   "id": "c0b8e042",
   "metadata": {},
   "source": [
    "## model building"
   ]
  },
  {
   "cell_type": "markdown",
   "id": "282aae53",
   "metadata": {},
   "source": [
    "### numpy"
   ]
  },
  {
   "cell_type": "code",
   "execution_count": null,
   "id": "bb10fe8b",
   "metadata": {},
   "outputs": [],
   "source": [
    "features = list(X_train_prod_prepro.columns)\n",
    "n_splits = 10\n",
    "max_evals = 10\n",
    "kfold = StratifiedKFold(n_splits=n_splits)\n",
    "space = {\n",
    "    'max_depth': hp.quniform('max_depth', 1, 2, 1),\n",
    "    'learning_rate': hp.loguniform('learning_rate', -3, 0),\n",
    "    'subsample': hp.uniform('subsample', 0.2, 1),\n",
    "    'colsample_bytree': hp.uniform('colsample_bytree', 0.2, 1),\n",
    " }\n",
    "model = LGBMClassifier(random_state=0, n_estimators=200, n_jobs=-1)\n",
    "hyper = HyperOpt(\n",
    "    model=model,\n",
    "    scoring='f1_macro',\n",
    "    algo=tpe.suggest,\n",
    "    space=space,\n",
    "    max_evals=max_evals, \n",
    "    kfold=kfold,\n",
    "    features=features,\n",
    "    )\n",
    "y_train_np = y_train.to_numpy()\n",
    "_ = hyper.fit(X_train_prod_prepro_np, y_train.to_numpy())"
   ]
  },
  {
   "cell_type": "code",
   "execution_count": null,
   "id": "c93d9945",
   "metadata": {},
   "outputs": [],
   "source": [
    "hyper.get_feature_importances().iloc[::-1].plot(\n",
    "    kind='barh', \n",
    "    figsize=(9, 9), \n",
    "    title='Most important features',\n",
    ");"
   ]
  },
  {
   "cell_type": "code",
   "execution_count": null,
   "id": "b1be9007",
   "metadata": {},
   "outputs": [],
   "source": [
    "hyper.history.sort_values('loss')"
   ]
  },
  {
   "cell_type": "code",
   "execution_count": null,
   "id": "f07b9b82",
   "metadata": {},
   "outputs": [],
   "source": [
    "np.logspace(-2, -1, 5)"
   ]
  },
  {
   "cell_type": "code",
   "execution_count": null,
   "id": "41e778bf",
   "metadata": {},
   "outputs": [],
   "source": [
    "from sklearn.model_selection import StratifiedKFold\n",
    "from sklearn.model_selection import RandomizedSearchCV\n",
    "from sklearn.metrics import make_scorer, f1_score\n",
    "param_distributions = {\n",
    "    'learning_rate': np.logspace(-2, -1, 5), \n",
    "    'max_depth': [3, 4, 5],\n",
    "    'subsample': [0.2, 0.3, 0.4],\n",
    "    'colsample_bytree': [0.4, 0.5, 0.6, 0.7],\n",
    "    'min_child_samples': [10, 20, 30]\n",
    "}\n",
    "from xgboost import XGBClassifier\n",
    "grid = RandomizedSearchCV(\n",
    "    estimator=XGBClassifier(random_state=0, n_jobs=1, n_estimators=100),\n",
    "    param_distributions=param_distributions,\n",
    "    n_iter=20,\n",
    "    scoring=make_scorer(f1_score, average='micro'),\n",
    "    cv=StratifiedKFold(n_splits=5),\n",
    "    n_jobs=-1,\n",
    ")\n",
    "_ = grid.fit(X_train_prod_prepro.to_numpy(), y_train.to_numpy())\n",
    "model = grid.best_estimator_\n",
    "model"
   ]
  },
  {
   "cell_type": "code",
   "execution_count": null,
   "id": "72955f72",
   "metadata": {},
   "outputs": [],
   "source": [
    "X_test_prod = X_test.copy()\n",
    "X_test_prod_prepro_np = prod_pipe.transform(X_test_prod).to_numpy()\n",
    "y_test_pred = model.predict(X_test_prod_prepro_np)\n",
    "f'f1 score: {f1_score(y_test, y_test_pred, average=\"micro\"):.2f}'"
   ]
  },
  {
   "cell_type": "code",
   "execution_count": null,
   "id": "e0aa3700",
   "metadata": {},
   "outputs": [],
   "source": [
    "import dill\n",
    "model_path = 'models/model_xgb_sfcrime.dill'\n",
    "with open(model_path, 'wb') as file:\n",
    "    dill.dump(model, file)"
   ]
  },
  {
   "cell_type": "markdown",
   "id": "95d84df1",
   "metadata": {},
   "source": [
    "### pandas"
   ]
  },
  {
   "cell_type": "code",
   "execution_count": null,
   "id": "8056007d",
   "metadata": {},
   "outputs": [],
   "source": []
  },
  {
   "cell_type": "code",
   "execution_count": null,
   "id": "a4017180",
   "metadata": {},
   "outputs": [],
   "source": [
    "assert_frame_equal(\n",
    "    pd.DataFrame(X_train_prod_prepro.values),\n",
    "    pd.DataFrame(prod_pipe.transform_numpy(X_train_np.copy())))\n",
    "assert_frame_equal(\n",
    "    pd.DataFrame(X_test_prod_prepro.values),\n",
    "    pd.DataFrame(prod_pipe.transform_numpy(X_test_np.copy())))"
   ]
  },
  {
   "cell_type": "markdown",
   "id": "d77bde60",
   "metadata": {},
   "source": [
    "### treelite"
   ]
  },
  {
   "cell_type": "code",
   "execution_count": null,
   "id": "4a1f0b47",
   "metadata": {},
   "outputs": [],
   "source": [
    "# LGBMTreeliteDumper.dump(\n",
    "#     model=model,\n",
    "#     toolchain='gcc',\n",
    "#     parallel_comp=,\n",
    "#     model_path='models/',\n",
    "#     model_name='treelite_lgbm_sfcrime'\n",
    "# )"
   ]
  },
  {
   "cell_type": "code",
   "execution_count": null,
   "id": "1112bcdf",
   "metadata": {},
   "outputs": [],
   "source": [
    "import treelite"
   ]
  },
  {
   "cell_type": "code",
   "execution_count": null,
   "id": "f6151cb0",
   "metadata": {},
   "outputs": [],
   "source": [
    "xgb_booster = XGBBoosterBuilder.train(\n",
    "    model=model, \n",
    "    X_train=X_train_prod_prepro_np, \n",
    "    y_train=y_train_np,\n",
    "    num_class=5\n",
    ")\n",
    "\n",
    "treelite_model = treelite.Model.from_xgboost(xgb_booster)\n",
    "treelite_model.export_lib(\n",
    "    toolchain='gcc', \n",
    "    libpath='./models/treelite_xgb_titanic.so', \n",
    "    params={'parallel_comp': 4},\n",
    "    verbose=True\n",
    ")\n",
    "model_tl = treelite_runtime.Predictor(\n",
    "    './models/treelite_xgb_titanic.so', verbose=False)"
   ]
  },
  {
   "cell_type": "code",
   "execution_count": null,
   "id": "d72af69c",
   "metadata": {},
   "outputs": [],
   "source": []
  },
  {
   "cell_type": "code",
   "execution_count": null,
   "id": "fe04aec5",
   "metadata": {},
   "outputs": [],
   "source": []
  },
  {
   "cell_type": "code",
   "execution_count": null,
   "id": "a2764a14",
   "metadata": {},
   "outputs": [],
   "source": [
    "import treelite_runtime\n",
    "model_tl = treelite_runtime.Predictor(\n",
    "    './models/treelite_lgbm_sfcrime.so', verbose=False)"
   ]
  },
  {
   "cell_type": "code",
   "execution_count": null,
   "id": "42bafb50",
   "metadata": {},
   "outputs": [],
   "source": []
  },
  {
   "cell_type": "code",
   "execution_count": null,
   "id": "7c7c097d",
   "metadata": {},
   "outputs": [],
   "source": []
  },
  {
   "cell_type": "code",
   "execution_count": null,
   "id": "70f8e321",
   "metadata": {},
   "outputs": [],
   "source": []
  },
  {
   "cell_type": "markdown",
   "id": "a5a61a04",
   "metadata": {},
   "source": [
    "#### check the models prediction match"
   ]
  },
  {
   "cell_type": "code",
   "execution_count": null,
   "id": "0d81259a",
   "metadata": {},
   "outputs": [],
   "source": [
    "# model_pd = LGBMClassifier(random_state=0, n_estimators=200, n_jobs=-1)\n",
    "# model = LGBMClassifier(random_state=0, n_estimators=200, n_jobs=-1)\n",
    "# model.fit(prod_pipe.transform(X_train), y_train)\n",
    "# model_pd.fit(prod_pipe.transform_numpy(X_train_np), y_train)"
   ]
  },
  {
   "cell_type": "code",
   "execution_count": null,
   "id": "579a7c89",
   "metadata": {},
   "outputs": [],
   "source": []
  },
  {
   "cell_type": "code",
   "execution_count": null,
   "id": "d4bd5f24",
   "metadata": {},
   "outputs": [],
   "source": [
    "# X1 = prod_pipe.transform(X_train)\n",
    "# X1_np = prod_pipe.transform_numpy(X_train_np)\n",
    "# assert_frame_equal(\n",
    "#     pd.DataFrame(X1.values),\n",
    "#     pd.DataFrame(X1_np)\n",
    "# )\n",
    "# assert np.allclose(X1.values, X1_np)"
   ]
  },
  {
   "cell_type": "code",
   "execution_count": null,
   "id": "91762250",
   "metadata": {},
   "outputs": [],
   "source": [
    "!pip freeze | grep treelite"
   ]
  },
  {
   "cell_type": "code",
   "execution_count": null,
   "id": "95ac3c97",
   "metadata": {},
   "outputs": [],
   "source": []
  },
  {
   "cell_type": "code",
   "execution_count": null,
   "id": "0f077259",
   "metadata": {},
   "outputs": [],
   "source": [
    "# y_pred_pd = model.predict(\n",
    "#     prod_pipe.transform(X_train))\n",
    "y_pred_np = model.predict(\n",
    "    prod_pipe.transform_numpy(X_train_np.copy()))\n",
    "y_pred_tl = model_tl.predict(\n",
    "    treelite_runtime.DMatrix(\n",
    "        prod_pipe.transform_numpy(\n",
    "            X_train_np.copy()\n",
    "        )\n",
    "    )\n",
    ")\n",
    "# assert np.allclose(y_pred_np, y_pred_pd)\n",
    "assert np.allclose(y_pred_np, np.argmax(y_pred_tl, axis=1))"
   ]
  },
  {
   "cell_type": "markdown",
   "id": "0d81deff",
   "metadata": {},
   "source": [
    "## model evaluation"
   ]
  },
  {
   "cell_type": "code",
   "execution_count": null,
   "id": "dc3672fb",
   "metadata": {},
   "outputs": [],
   "source": [
    "model_np = copy.copy(hyper.model)\n",
    "X_test_prod = X_test.copy()\n",
    "X_test_prod_prepro_np = prod_pipe.transform(X_test_prod).to_numpy()\n",
    "y_test_pred = model_np.predict(X_test_prod_prepro_np)\n",
    "f'f1 score: {f1_score(y_test, y_test_pred, average=\"micro\"):.2f}'"
   ]
  },
  {
   "cell_type": "markdown",
   "id": "1ff6a9fb",
   "metadata": {},
   "source": [
    "## per-sample bechmarking"
   ]
  },
  {
   "cell_type": "markdown",
   "id": "b9a2df1f",
   "metadata": {},
   "source": [
    "### pipeline only"
   ]
  },
  {
   "cell_type": "code",
   "execution_count": null,
   "id": "85586dd3",
   "metadata": {},
   "outputs": [],
   "source": [
    "x = X_train_prod.iloc[[0]]\n",
    "xnp = x.to_numpy()\n",
    "stats_pd = %timeit -o prod_pipe.transform(x)\n",
    "stats_np = %timeit -o prod_pipe.transform_numpy(xnp.copy())"
   ]
  },
  {
   "cell_type": "code",
   "execution_count": null,
   "id": "43d9fcad",
   "metadata": {},
   "outputs": [],
   "source": [
    "speedup = 1e3 * float(str(stats_pd).split(' ')[0]) / float(str(stats_np).split(' ')[0])\n",
    "f'Speed-up Pandas VS Numpy x{round(speedup)}'"
   ]
  },
  {
   "cell_type": "markdown",
   "id": "2ba66748",
   "metadata": {},
   "source": [
    "### pipeline & model"
   ]
  },
  {
   "cell_type": "code",
   "execution_count": null,
   "id": "77d53170",
   "metadata": {},
   "outputs": [],
   "source": [
    "stats_pd = %timeit -o model_pd.predict(prod_pipe.transform(x))[0]\n",
    "stats_np = %timeit -o model.predict(prod_pipe.transform_numpy(xnp.copy()))[0]\n",
    "stats_tl = %timeit -o model_tl.predict(treelite_runtime.DMatrix(prod_pipe.transform_numpy(xnp.copy())))"
   ]
  },
  {
   "cell_type": "code",
   "execution_count": null,
   "id": "91634c93",
   "metadata": {},
   "outputs": [],
   "source": [
    "speedup = 1000 * float(str(stats_pd).split(' ')[0]) / float(str(stats_np).split(' ')[0])\n",
    "f'Speed-up Pandas VS Numpy x{round(speedup)}'"
   ]
  },
  {
   "cell_type": "code",
   "execution_count": null,
   "id": "3259620d",
   "metadata": {},
   "outputs": [],
   "source": [
    "speedup = 1000 * float(str(stats_pd).split(' ')[0]) / float(str(stats_tl).split(' ')[0])\n",
    "f'Speed-up Pandas VS Numpy&Treelite x{round(speedup)}'"
   ]
  },
  {
   "cell_type": "code",
   "execution_count": null,
   "id": "9f14da57",
   "metadata": {},
   "outputs": [],
   "source": []
  }
 ],
 "metadata": {
  "kernelspec": {
   "display_name": "gators38",
   "language": "python",
   "name": "gators38"
  },
  "language_info": {
   "codemirror_mode": {
    "name": "ipython",
    "version": 3
   },
   "file_extension": ".py",
   "mimetype": "text/x-python",
   "name": "python",
   "nbconvert_exporter": "python",
   "pygments_lexer": "ipython3",
   "version": "3.8.10"
  }
 },
 "nbformat": 4,
 "nbformat_minor": 5
}
