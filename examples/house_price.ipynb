{
 "cells": [
  {
   "cell_type": "markdown",
   "metadata": {},
   "source": [
    "# regression example - house price dataset"
   ]
  },
  {
   "cell_type": "code",
   "execution_count": 1,
   "metadata": {},
   "outputs": [],
   "source": [
    "import warnings\n",
    "warnings.filterwarnings('ignore')"
   ]
  },
  {
   "cell_type": "code",
   "execution_count": 2,
   "metadata": {},
   "outputs": [],
   "source": [
    "%load_ext autoreload\n",
    "%autoreload 2"
   ]
  },
  {
   "cell_type": "code",
   "execution_count": 6,
   "metadata": {},
   "outputs": [],
   "source": [
    "import copy\n",
    "import dill\n",
    "import numpy as np\n",
    "import pandas as pd\n",
    "from pandas.testing import assert_frame_equal\n",
    "from lightgbm import LGBMRegressor\n",
    "from xgboost import XGBRegressor\n",
    "from sklearn.model_selection import KFold\n",
    "from sklearn.metrics import r2_score\n",
    "from sklearn.tree import DecisionTreeRegressor"
   ]
  },
  {
   "cell_type": "markdown",
   "metadata": {},
   "source": [
    "**Gators** imports"
   ]
  },
  {
   "cell_type": "code",
   "execution_count": 9,
   "metadata": {},
   "outputs": [],
   "source": [
    "from gators.util import util\n",
    "# sampling\n",
    "from gators.sampling import UnsupervisedSampling\n",
    "# data cleaninng\n",
    "from gators.data_cleaning import (\n",
    "    DropHighNaNRatio,\n",
    "    DropLowCardinality,\n",
    "    DropHighCardinality,\n",
    "    DropDatatypeColumns,\n",
    "    DropColumns,\n",
    "    KeepColumns,\n",
    ")\n",
    "# imputers\n",
    "from gators.imputers import (\n",
    "    NumericsImputer, \n",
    "    ObjectImputer,\n",
    ")\n",
    "# encoders\n",
    "from gators.encoders import (\n",
    "    WOEEncoder, \n",
    "    TargetEncoder,\n",
    "    OrdinalEncoder, \n",
    ")\n",
    "# binning\n",
    "from gators.binning import (\n",
    "    BinRareCategories,\n",
    "    TreeBinning,\n",
    ")\n",
    "# feature generation\n",
    "from gators.feature_generation import (\n",
    "    ClusterStatistics,\n",
    "    PolynomialFeatures,\n",
    "    PolynomialObjectFeatures,\n",
    ")\n",
    "# feature selection\n",
    "from gators.feature_selection import (\n",
    "    InformationValue,\n",
    "    SelectFromModel,\n",
    ")\n",
    "# model building\n",
    "from gators.model_building import (\n",
    "    TrainTestSplit,\n",
    "    XGBBoosterBuilder,\n",
    "    XGBTreeliteDumper,\n",
    "    LGBMTreeliteDumper,\n",
    ")\n",
    "# # pipeline\n",
    "from gators.pipeline import Pipeline"
   ]
  },
  {
   "cell_type": "markdown",
   "metadata": {},
   "source": [
    "#### Pipeline composed of\n",
    "* Bin rare events\n",
    "* Imputers\n",
    "* Ordinal Encoder\n",
    "* Polynomial Features (a subset of the input columns)"
   ]
  },
  {
   "cell_type": "markdown",
   "metadata": {},
   "source": [
    "## offline pipeline - feature selection"
   ]
  },
  {
   "cell_type": "code",
   "execution_count": 77,
   "metadata": {},
   "outputs": [],
   "source": [
    "model = LGBMRegressor(\n",
    "    random_state=0, n_estimators=100, max_depth=3)\n",
    "k = 50\n",
    "polynomial_columns = ['GrLivArea', 'OverallQual','BsmtFinSF1', 'LotArea','TotalBsmtSF']\n",
    "steps = [\n",
    "    ('BinRareCategories', BinRareCategories(min_ratio=0.1)),\n",
    "    ('ObjectImputer', ObjectImputer(strategy='constant', value='MISSING')),\n",
    "    ('OrdinalEncoder', OrdinalEncoder()),\n",
    "    ('NumericsImputer', NumericsImputer(strategy='constant', value=0)),\n",
    "    ('CleanCategories', BinRareCategories(min_ratio=0.0)),\n",
    "    ('SelectFromModel', SelectFromModel(model=model, k=k)),\n",
    "]"
   ]
  },
  {
   "cell_type": "code",
   "execution_count": 78,
   "metadata": {},
   "outputs": [],
   "source": [
    "pipe = Pipeline(steps=steps)\n",
    "_ = pipe.fit(X_train.copy(), y_train)\n",
    "selected_columns = pipe.steps[-1][1].selected_columns"
   ]
  },
  {
   "cell_type": "code",
   "execution_count": 57,
   "metadata": {},
   "outputs": [
    {
     "data": {
      "text/plain": [
       "GrLivArea        67.0\n",
       "LotArea          38.0\n",
       "BsmtFinSF1       31.0\n",
       "OverallQual      31.0\n",
       "TotalBsmtSF      31.0\n",
       "GarageArea       24.0\n",
       "OverallCond      24.0\n",
       "YearBuilt        22.0\n",
       "LotFrontage      21.0\n",
       "YearRemodAdd     18.0\n",
       "GarageYrBlt      16.0\n",
       "1stFlrSF         15.0\n",
       "OpenPorchSF      14.0\n",
       "Fireplaces       11.0\n",
       "ScreenPorch      11.0\n",
       "WoodDeckSF       11.0\n",
       "MasVnrArea       10.0\n",
       "GarageCars       10.0\n",
       "Condition1       10.0\n",
       "MoSold            9.0\n",
       "TotRmsAbvGrd      8.0\n",
       "2ndFlrSF          7.0\n",
       "BsmtUnfSF         7.0\n",
       "BsmtExposure      7.0\n",
       "Exterior2nd       7.0\n",
       "YrSold            7.0\n",
       "GarageType        6.0\n",
       "Functional        6.0\n",
       "MSZoning          5.0\n",
       "RoofMatl          5.0\n",
       "KitchenAbvGr      5.0\n",
       "KitchenQual       5.0\n",
       "BsmtFinType1      5.0\n",
       "BsmtFullBath      4.0\n",
       "SaleType          4.0\n",
       "PavedDrive        3.0\n",
       "SaleCondition     3.0\n",
       "FireplaceQu       3.0\n",
       "FullBath          3.0\n",
       "BsmtFinSF2        3.0\n",
       "LotShape          3.0\n",
       "HalfBath          2.0\n",
       "CentralAir        2.0\n",
       "Exterior1st       2.0\n",
       "BedroomAbvGr      1.0\n",
       "GarageFinish      1.0\n",
       "ExterQual         1.0\n",
       "Neighborhood      1.0\n",
       "LandSlope         1.0\n",
       "MSSubClass        1.0\n",
       "dtype: float64"
      ]
     },
     "execution_count": 57,
     "metadata": {},
     "output_type": "execute_result"
    }
   ],
   "source": [
    "pd.Series(\n",
    "    pipe.steps[-1][1].feature_importances_,\n",
    "    index=pipe.steps[-2][1].columns_\n",
    ").sort_values(ascending=False).iloc[:50]"
   ]
  },
  {
   "cell_type": "code",
   "execution_count": 102,
   "metadata": {},
   "outputs": [],
   "source": [
    "model = XGBRegressor(\n",
    "    random_state=0, n_estimators=100, max_depth=2, gamma=1, colsample_bytree=0.6)\n",
    "polynomial_columns = ['GrLivArea', 'OverallQual','BsmtFinSF1',\n",
    "                      'LotArea','TotalBsmtSF']\n",
    "steps = [\n",
    "    ('BinRareCategories', BinRareCategories(min_ratio=0.1)),\n",
    "    ('ObjectImputer', ObjectImputer(strategy='constant', value='MISSING')),\n",
    "    ('OrdinalEncoder', OrdinalEncoder()),\n",
    "    ('NumericsImputer', NumericsImputer(strategy='constant', value=0)),\n",
    "    ('TreeBinning', TreeBinning(tree=DecisionTreeRegressor(max_depth=3, min_samples_split=50))),\n",
    "    ('PolynomialObjectFeatures', PolynomialObjectFeatures(\n",
    "        degree=2, \n",
    "        columns=polynomial_columns)),\n",
    "    ('CleanCategories', BinRareCategories(min_ratio=0.0)),\n",
    "    ('TargetEncoder', TargetEncoder()),\n",
    "    ('ESTIMATOR', model),\n",
    "]"
   ]
  },
  {
   "cell_type": "code",
   "execution_count": 103,
   "metadata": {
    "scrolled": false
   },
   "outputs": [
    {
     "name": "stdout",
     "output_type": "stream",
     "text": [
      "[17:49:13] WARNING: src/objective/regression_obj.cu:152: reg:linear is now deprecated in favor of reg:squarederror.\n"
     ]
    },
    {
     "data": {
      "text/plain": [
       "(0.9420080201002993, 0.8747080831433823)"
      ]
     },
     "execution_count": 103,
     "metadata": {},
     "output_type": "execute_result"
    }
   ],
   "source": [
    "pipe = Pipeline(steps=steps)\n",
    "_ = pipe.fit(X_train[selected_columns].copy(), y_train)\n",
    "r2_score(y_train, pipe.predict(X_train[selected_columns].copy())), r2_score(y_test, pipe.predict(X_test[selected_columns].copy()))"
   ]
  },
  {
   "cell_type": "markdown",
   "metadata": {},
   "source": [
    "### pandas"
   ]
  },
  {
   "cell_type": "code",
   "execution_count": 14,
   "metadata": {},
   "outputs": [],
   "source": [
    "data = pd.read_parquet('data/house_prices.parquet').reset_index(drop=True)\n",
    "y = data['SalePrice']\n",
    "y = y.astype(float)\n",
    "X = data.drop('SalePrice', axis=1)\n",
    "\n",
    "train_test_split = TrainTestSplit(test_ratio=0.3, strategy='ordered')\n",
    "X_train, X_test, y_train, y_test = train_test_split.transform(X, y)"
   ]
  },
  {
   "cell_type": "code",
   "execution_count": 7,
   "metadata": {},
   "outputs": [
    {
     "data": {
      "text/html": [
       "<div>\n",
       "<style scoped>\n",
       "    .dataframe tbody tr th:only-of-type {\n",
       "        vertical-align: middle;\n",
       "    }\n",
       "\n",
       "    .dataframe tbody tr th {\n",
       "        vertical-align: top;\n",
       "    }\n",
       "\n",
       "    .dataframe thead th {\n",
       "        text-align: right;\n",
       "    }\n",
       "</style>\n",
       "<table border=\"1\" class=\"dataframe\">\n",
       "  <thead>\n",
       "    <tr style=\"text-align: right;\">\n",
       "      <th></th>\n",
       "      <th>count</th>\n",
       "      <th>mean</th>\n",
       "      <th>std</th>\n",
       "      <th>min</th>\n",
       "      <th>25%</th>\n",
       "      <th>50%</th>\n",
       "      <th>75%</th>\n",
       "      <th>max</th>\n",
       "    </tr>\n",
       "  </thead>\n",
       "  <tbody>\n",
       "    <tr>\n",
       "      <th>SalePrice</th>\n",
       "      <td>1022.0</td>\n",
       "      <td>181713.254403</td>\n",
       "      <td>79854.663341</td>\n",
       "      <td>34900.0</td>\n",
       "      <td>130000.0</td>\n",
       "      <td>163745.0</td>\n",
       "      <td>214975.0</td>\n",
       "      <td>755000.0</td>\n",
       "    </tr>\n",
       "  </tbody>\n",
       "</table>\n",
       "</div>"
      ],
      "text/plain": [
       "            count           mean           std      min       25%       50%  \\\n",
       "SalePrice  1022.0  181713.254403  79854.663341  34900.0  130000.0  163745.0   \n",
       "\n",
       "                75%       max  \n",
       "SalePrice  214975.0  755000.0  "
      ]
     },
     "execution_count": 7,
     "metadata": {},
     "output_type": "execute_result"
    }
   ],
   "source": [
    "# target analysis\n",
    "pd.DataFrame(y_train.describe()).T"
   ]
  },
  {
   "cell_type": "code",
   "execution_count": 8,
   "metadata": {},
   "outputs": [],
   "source": [
    "offline_pipe = Pipeline(steps=offline_steps)\n",
    "X_train_prepro = offline_pipe.fit_transform(X_train, y_train)\n",
    "features = list(X_train_prepro.columns)"
   ]
  },
  {
   "cell_type": "code",
   "execution_count": 9,
   "metadata": {},
   "outputs": [
    {
     "data": {
      "image/png": "[encoded data removed]",
      "text/plain": [
       "<Figure size 648x648 with 1 Axes>"
      ]
     },
     "metadata": {
      "needs_background": "light"
     },
     "output_type": "display_data"
    }
   ],
   "source": [
    "offline_pipe.get_feature_importances(k=k).iloc[::-1].plot(\n",
    "    kind='barh', \n",
    "    figsize=(9, 9), \n",
    "    title='Feature Importance',\n",
    ");"
   ]
  },
  {
   "cell_type": "markdown",
   "metadata": {},
   "source": [
    "### dask"
   ]
  },
  {
   "cell_type": "code",
   "execution_count": 10,
   "metadata": {},
   "outputs": [],
   "source": [
    "import dask.dataframe as dd"
   ]
  },
  {
   "cell_type": "code",
   "execution_count": 11,
   "metadata": {},
   "outputs": [],
   "source": [
    "data_dd = dd.read_parquet('data/house_prices.parquet').reset_index(drop=True)\n",
    "y_dd = data_dd['SalePrice']\n",
    "y_dd = y_dd.astype(float)\n",
    "X_dd = data_dd.drop('SalePrice', axis=1)\n",
    "\n",
    "train_test_split = TrainTestSplit(test_ratio=0.3, strategy='ordered')\n",
    "X_train_dd, X_test_dd, y_train_dd, y_test_dd = train_test_split.transform(X_dd, y_dd)\n",
    "\n",
    "offline_pipe_dd = Pipeline(steps=offline_steps)\n",
    "X_train_prepro_dd = offline_pipe_dd.fit_transform(\n",
    "    X_train_dd, y_train_dd)\n",
    "features_dd = list(X_train_prepro_dd.columns)"
   ]
  },
  {
   "cell_type": "code",
   "execution_count": 12,
   "metadata": {},
   "outputs": [
    {
     "data": {
      "image/png": "[encoded data removed]",
      "text/plain": [
       "<Figure size 504x360 with 1 Axes>"
      ]
     },
     "metadata": {
      "needs_background": "light"
     },
     "output_type": "display_data"
    }
   ],
   "source": [
    "offline_pipe_dd.get_feature_importances(k=15)[::-1].plot(\n",
    "    kind='barh', \n",
    "    figsize=(7, 5), \n",
    "    title='Feature Importance',\n",
    ");"
   ]
  },
  {
   "cell_type": "markdown",
   "metadata": {},
   "source": [
    "### koalas"
   ]
  },
  {
   "cell_type": "code",
   "execution_count": 13,
   "metadata": {},
   "outputs": [
    {
     "name": "stderr",
     "output_type": "stream",
     "text": [
      "WARNING: An illegal reflective access operation has occurred\n",
      "WARNING: Illegal reflective access by org.apache.spark.unsafe.Platform (file:/Users/cpoli/gators38/lib/python3.8/site-packages/pyspark/jars/spark-unsafe_2.12-3.2.0.jar) to constructor java.nio.DirectByteBuffer(long,int)\n",
      "WARNING: Please consider reporting this to the maintainers of org.apache.spark.unsafe.Platform\n",
      "WARNING: Use --illegal-access=warn to enable warnings of further illegal reflective access operations\n",
      "WARNING: All illegal access operations will be denied in a future release\n",
      "Using Spark's default log4j profile: org/apache/spark/log4j-defaults.properties\n",
      "Setting default log level to \"WARN\".\n",
      "To adjust logging level use sc.setLogLevel(newLevel). For SparkR, use setLogLevel(newLevel).\n",
      "21/12/07 18:21:19 WARN NativeCodeLoader: Unable to load native-hadoop library for your platform... using builtin-java classes where applicable\n",
      "21/12/07 18:21:20 WARN Utils: Service 'SparkUI' could not bind on port 4040. Attempting port 4041.\n",
      "21/12/07 18:21:20 WARN Utils: Service 'SparkUI' could not bind on port 4041. Attempting port 4042.\n",
      "WARNING:root:Found pyspark version \"3.2.0\" installed. The pyspark version 3.2 and above has a built-in \"pandas APIs on Spark\" module ported from Koalas. Try `import pyspark.pandas as ps` instead. \n"
     ]
    }
   ],
   "source": [
    "from pyspark import SparkConf, SparkContext\n",
    "conf = SparkConf()\n",
    "conf.set('spark.executor.memory', '2g')\n",
    "SparkContext(conf=conf)\n",
    "from pyspark.ml.regression import RandomForestRegressor as RFRSpark\n",
    "import databricks.koalas as ks\n",
    "ks.set_option('compute.default_index_type', 'distributed-sequence')"
   ]
  },
  {
   "cell_type": "code",
   "execution_count": 14,
   "metadata": {},
   "outputs": [
    {
     "name": "stderr",
     "output_type": "stream",
     "text": [
      "21/12/07 18:21:25 WARN package: Truncated the string representation of a plan since it was too large. This behavior can be adjusted by setting 'spark.sql.debug.maxToStringFields'.\n",
      "21/12/07 18:23:49 ERROR CodeGenerator: failed to compile: org.codehaus.janino.InternalCompilerException: Compiling \"GeneratedClass\" in \"generated.java\": Code of method \"processNext()V\" of class \"org.apache.spark.sql.catalyst.expressions.GeneratedClass$GeneratedIteratorForCodegenStage7\" grows beyond 64 KB\n",
      "org.codehaus.janino.InternalCompilerException: Compiling \"GeneratedClass\" in \"generated.java\": Code of method \"processNext()V\" of class \"org.apache.spark.sql.catalyst.expressions.GeneratedClass$GeneratedIteratorForCodegenStage7\" grows beyond 64 KB\n",
      "\tat org.codehaus.janino.UnitCompiler.compile2(UnitCompiler.java:366)\n",
      "\tat org.codehaus.janino.UnitCompiler.access$000(UnitCompiler.java:226)\n",
      "\tat org.codehaus.janino.UnitCompiler$1.visitCompilationUnit(UnitCompiler.java:336)\n",
      "\tat org.codehaus.janino.UnitCompiler$1.visitCompilationUnit(UnitCompiler.java:333)\n",
      "\tat org.codehaus.janino.Java$CompilationUnit.accept(Java.java:363)\n",
      "\tat org.codehaus.janino.UnitCompiler.compileUnit(UnitCompiler.java:333)\n",
      "\tat org.codehaus.janino.SimpleCompiler.cook(SimpleCompiler.java:235)\n",
      "\tat org.codehaus.janino.SimpleCompiler.compileToClassLoader(SimpleCompiler.java:464)\n",
      "\tat org.codehaus.janino.ClassBodyEvaluator.compileToClass(ClassBodyEvaluator.java:314)\n",
      "\tat org.codehaus.janino.ClassBodyEvaluator.cook(ClassBodyEvaluator.java:237)\n",
      "\tat org.codehaus.janino.SimpleCompiler.cook(SimpleCompiler.java:205)\n",
      "\tat org.codehaus.commons.compiler.Cookable.cook(Cookable.java:80)\n",
      "\tat org.apache.spark.sql.catalyst.expressions.codegen.CodeGenerator$.org$apache$spark$sql$catalyst$expressions$codegen$CodeGenerator$$doCompile(CodeGenerator.scala:1489)\n",
      "\tat org.apache.spark.sql.catalyst.expressions.codegen.CodeGenerator$$anon$1.load(CodeGenerator.scala:1586)\n",
      "\tat org.apache.spark.sql.catalyst.expressions.codegen.CodeGenerator$$anon$1.load(CodeGenerator.scala:1583)\n",
      "\tat org.sparkproject.guava.cache.LocalCache$LoadingValueReference.loadFuture(LocalCache.java:3599)\n",
      "\tat org.sparkproject.guava.cache.LocalCache$Segment.loadSync(LocalCache.java:2379)\n",
      "\tat org.sparkproject.guava.cache.LocalCache$Segment.lockedGetOrLoad(LocalCache.java:2342)\n",
      "\tat org.sparkproject.guava.cache.LocalCache$Segment.get(LocalCache.java:2257)\n",
      "\tat org.sparkproject.guava.cache.LocalCache.get(LocalCache.java:4000)\n",
      "\tat org.sparkproject.guava.cache.LocalCache.getOrLoad(LocalCache.java:4004)\n",
      "\tat org.sparkproject.guava.cache.LocalCache$LocalLoadingCache.get(LocalCache.java:4874)\n",
      "\tat org.apache.spark.sql.catalyst.expressions.codegen.CodeGenerator$.compile(CodeGenerator.scala:1436)\n",
      "\tat org.apache.spark.sql.execution.WholeStageCodegenExec.liftedTree1$1(WholeStageCodegenExec.scala:725)\n",
      "\tat org.apache.spark.sql.execution.WholeStageCodegenExec.doExecute(WholeStageCodegenExec.scala:724)\n",
      "\tat org.apache.spark.sql.execution.SparkPlan.$anonfun$execute$1(SparkPlan.scala:184)\n",
      "\tat org.apache.spark.sql.execution.SparkPlan.$anonfun$executeQuery$1(SparkPlan.scala:222)\n",
      "\tat org.apache.spark.rdd.RDDOperationScope$.withScope(RDDOperationScope.scala:151)\n",
      "\tat org.apache.spark.sql.execution.SparkPlan.executeQuery(SparkPlan.scala:219)\n",
      "\tat org.apache.spark.sql.execution.SparkPlan.execute(SparkPlan.scala:180)\n",
      "\tat org.apache.spark.sql.execution.DeserializeToObjectExec.doExecute(objects.scala:96)\n",
      "\tat org.apache.spark.sql.execution.SparkPlan.$anonfun$execute$1(SparkPlan.scala:184)\n",
      "\tat org.apache.spark.sql.execution.SparkPlan.$anonfun$executeQuery$1(SparkPlan.scala:222)\n",
      "\tat org.apache.spark.rdd.RDDOperationScope$.withScope(RDDOperationScope.scala:151)\n",
      "\tat org.apache.spark.sql.execution.SparkPlan.executeQuery(SparkPlan.scala:219)\n",
      "\tat org.apache.spark.sql.execution.SparkPlan.execute(SparkPlan.scala:180)\n",
      "\tat org.apache.spark.sql.execution.adaptive.AdaptiveSparkPlanExec.$anonfun$doExecute$1(AdaptiveSparkPlanExec.scala:350)\n",
      "\tat org.apache.spark.sql.execution.adaptive.AdaptiveSparkPlanExec.withFinalPlanUpdate(AdaptiveSparkPlanExec.scala:366)\n",
      "\tat org.apache.spark.sql.execution.adaptive.AdaptiveSparkPlanExec.doExecute(AdaptiveSparkPlanExec.scala:350)\n",
      "\tat org.apache.spark.sql.execution.SparkPlan.$anonfun$execute$1(SparkPlan.scala:184)\n",
      "\tat org.apache.spark.sql.execution.SparkPlan.$anonfun$executeQuery$1(SparkPlan.scala:222)\n",
      "\tat org.apache.spark.rdd.RDDOperationScope$.withScope(RDDOperationScope.scala:151)\n",
      "\tat org.apache.spark.sql.execution.SparkPlan.executeQuery(SparkPlan.scala:219)\n",
      "\tat org.apache.spark.sql.execution.SparkPlan.execute(SparkPlan.scala:180)\n",
      "\tat org.apache.spark.sql.execution.QueryExecution.toRdd$lzycompute(QueryExecution.scala:185)\n",
      "\tat org.apache.spark.sql.execution.QueryExecution.toRdd(QueryExecution.scala:184)\n",
      "\tat org.apache.spark.sql.Dataset.rdd$lzycompute(Dataset.scala:3247)\n",
      "\tat org.apache.spark.sql.Dataset.rdd(Dataset.scala:3245)\n",
      "\tat org.apache.spark.ml.PredictorParams.extractInstances(Predictor.scala:81)\n",
      "\tat org.apache.spark.ml.PredictorParams.extractInstances$(Predictor.scala:71)\n",
      "\tat org.apache.spark.ml.Predictor.extractInstances(Predictor.scala:115)\n",
      "\tat org.apache.spark.ml.regression.RandomForestRegressor.$anonfun$train$1(RandomForestRegressor.scala:138)\n",
      "\tat org.apache.spark.ml.util.Instrumentation$.$anonfun$instrumented$1(Instrumentation.scala:191)\n",
      "\tat scala.util.Try$.apply(Try.scala:213)\n",
      "\tat org.apache.spark.ml.util.Instrumentation$.instrumented(Instrumentation.scala:191)\n",
      "\tat org.apache.spark.ml.regression.RandomForestRegressor.train(RandomForestRegressor.scala:134)\n",
      "\tat org.apache.spark.ml.regression.RandomForestRegressor.train(RandomForestRegressor.scala:43)\n",
      "\tat org.apache.spark.ml.Predictor.fit(Predictor.scala:151)\n",
      "\tat org.apache.spark.ml.Predictor.fit(Predictor.scala:115)\n",
      "\tat java.base/jdk.internal.reflect.NativeMethodAccessorImpl.invoke0(Native Method)\n",
      "\tat java.base/jdk.internal.reflect.NativeMethodAccessorImpl.invoke(NativeMethodAccessorImpl.java:62)\n",
      "\tat java.base/jdk.internal.reflect.DelegatingMethodAccessorImpl.invoke(DelegatingMethodAccessorImpl.java:43)\n",
      "\tat java.base/java.lang.reflect.Method.invoke(Method.java:566)\n",
      "\tat py4j.reflection.MethodInvoker.invoke(MethodInvoker.java:244)\n",
      "\tat py4j.reflection.ReflectionEngine.invoke(ReflectionEngine.java:357)\n",
      "\tat py4j.Gateway.invoke(Gateway.java:282)\n",
      "\tat py4j.commands.AbstractCommand.invokeMethod(AbstractCommand.java:132)\n",
      "\tat py4j.commands.CallCommand.execute(CallCommand.java:79)\n",
      "\tat py4j.ClientServerConnection.waitForCommands(ClientServerConnection.java:182)\n",
      "\tat py4j.ClientServerConnection.run(ClientServerConnection.java:106)\n",
      "\tat java.base/java.lang.Thread.run(Thread.java:834)\n",
      "Caused by: org.codehaus.janino.InternalCompilerException: Code of method \"processNext()V\" of class \"org.apache.spark.sql.catalyst.expressions.GeneratedClass$GeneratedIteratorForCodegenStage7\" grows beyond 64 KB\n",
      "\tat org.codehaus.janino.CodeContext.makeSpace(CodeContext.java:1051)\n",
      "\tat org.codehaus.janino.CodeContext.write(CodeContext.java:947)\n",
      "\tat org.codehaus.janino.UnitCompiler.writeShort(UnitCompiler.java:12092)\n",
      "\tat org.codehaus.janino.UnitCompiler.load(UnitCompiler.java:11747)\n",
      "\tat org.codehaus.janino.UnitCompiler.load(UnitCompiler.java:11732)\n",
      "\tat org.codehaus.janino.UnitCompiler.compileGet2(UnitCompiler.java:4528)\n",
      "\tat org.codehaus.janino.UnitCompiler.access$8000(UnitCompiler.java:226)\n",
      "\tat org.codehaus.janino.UnitCompiler$16$1.visitLocalVariableAccess(UnitCompiler.java:4467)\n",
      "\tat org.codehaus.janino.UnitCompiler$16$1.visitLocalVariableAccess(UnitCompiler.java:4459)\n",
      "\tat org.codehaus.janino.Java$LocalVariableAccess.accept(Java.java:4487)\n",
      "\tat org.codehaus.janino.UnitCompiler$16.visitLvalue(UnitCompiler.java:4459)\n",
      "\tat org.codehaus.janino.UnitCompiler$16.visitLvalue(UnitCompiler.java:4455)\n",
      "\tat org.codehaus.janino.Java$Lvalue.accept(Java.java:4353)\n",
      "\tat org.codehaus.janino.UnitCompiler.compileGet(UnitCompiler.java:4455)\n",
      "\tat org.codehaus.janino.UnitCompiler.compileGet2(UnitCompiler.java:4524)\n",
      "\tat org.codehaus.janino.UnitCompiler.access$7500(UnitCompiler.java:226)\n",
      "\tat org.codehaus.janino.UnitCompiler$16$1.visitAmbiguousName(UnitCompiler.java:4462)\n",
      "\tat org.codehaus.janino.UnitCompiler$16$1.visitAmbiguousName(UnitCompiler.java:4459)\n",
      "\tat org.codehaus.janino.Java$AmbiguousName.accept(Java.java:4429)\n",
      "\tat org.codehaus.janino.UnitCompiler$16.visitLvalue(UnitCompiler.java:4459)\n",
      "\tat org.codehaus.janino.UnitCompiler$16.visitLvalue(UnitCompiler.java:4455)\n",
      "\tat org.codehaus.janino.Java$Lvalue.accept(Java.java:4353)\n",
      "\tat org.codehaus.janino.UnitCompiler.compileGet(UnitCompiler.java:4455)\n",
      "\tat org.codehaus.janino.UnitCompiler.compileGetValue(UnitCompiler.java:5683)\n",
      "\tat org.codehaus.janino.UnitCompiler.compile2(UnitCompiler.java:3839)\n",
      "\tat org.codehaus.janino.UnitCompiler.access$6100(UnitCompiler.java:226)\n",
      "\tat org.codehaus.janino.UnitCompiler$13.visitAssignment(UnitCompiler.java:3799)\n",
      "\tat org.codehaus.janino.UnitCompiler$13.visitAssignment(UnitCompiler.java:3779)\n",
      "\tat org.codehaus.janino.Java$Assignment.accept(Java.java:4690)\n",
      "\tat org.codehaus.janino.UnitCompiler.compile(UnitCompiler.java:3779)\n",
      "\tat org.codehaus.janino.UnitCompiler.compile2(UnitCompiler.java:2366)\n",
      "\tat org.codehaus.janino.UnitCompiler.access$1800(UnitCompiler.java:226)\n",
      "\tat org.codehaus.janino.UnitCompiler$6.visitExpressionStatement(UnitCompiler.java:1497)\n",
      "\tat org.codehaus.janino.UnitCompiler$6.visitExpressionStatement(UnitCompiler.java:1490)\n",
      "\tat org.codehaus.janino.Java$ExpressionStatement.accept(Java.java:3064)\n",
      "\tat org.codehaus.janino.UnitCompiler.compile(UnitCompiler.java:1490)\n",
      "\tat org.codehaus.janino.UnitCompiler.compileStatements(UnitCompiler.java:1573)\n",
      "\tat org.codehaus.janino.UnitCompiler.compile2(UnitCompiler.java:1559)\n",
      "\tat org.codehaus.janino.UnitCompiler.access$1700(UnitCompiler.java:226)\n",
      "\tat org.codehaus.janino.UnitCompiler$6.visitBlock(UnitCompiler.java:1496)\n",
      "\tat org.codehaus.janino.UnitCompiler$6.visitBlock(UnitCompiler.java:1490)\n",
      "\tat org.codehaus.janino.Java$Block.accept(Java.java:2969)\n",
      "\tat org.codehaus.janino.UnitCompiler.compile(UnitCompiler.java:1490)\n",
      "\tat org.codehaus.janino.UnitCompiler.compile2(UnitCompiler.java:2478)\n",
      "\tat org.codehaus.janino.UnitCompiler.access$1900(UnitCompiler.java:226)\n",
      "\tat org.codehaus.janino.UnitCompiler$6.visitIfStatement(UnitCompiler.java:1498)\n",
      "\tat org.codehaus.janino.UnitCompiler$6.visitIfStatement(UnitCompiler.java:1490)\n",
      "\tat org.codehaus.janino.Java$IfStatement.accept(Java.java:3140)\n",
      "\tat org.codehaus.janino.UnitCompiler.compile(UnitCompiler.java:1490)\n",
      "\tat org.codehaus.janino.UnitCompiler.compileStatements(UnitCompiler.java:1573)\n",
      "\tat org.codehaus.janino.UnitCompiler.compile2(UnitCompiler.java:1559)\n",
      "\tat org.codehaus.janino.UnitCompiler.access$1700(UnitCompiler.java:226)\n",
      "\tat org.codehaus.janino.UnitCompiler$6.visitBlock(UnitCompiler.java:1496)\n",
      "\tat org.codehaus.janino.UnitCompiler$6.visitBlock(UnitCompiler.java:1490)\n",
      "\tat org.codehaus.janino.Java$Block.accept(Java.java:2969)\n",
      "\tat org.codehaus.janino.UnitCompiler.compile(UnitCompiler.java:1490)\n",
      "\tat org.codehaus.janino.UnitCompiler.compile2(UnitCompiler.java:1598)\n",
      "\tat org.codehaus.janino.UnitCompiler.access$2600(UnitCompiler.java:226)\n",
      "\tat org.codehaus.janino.UnitCompiler$6.visitDoStatement(UnitCompiler.java:1505)\n",
      "\tat org.codehaus.janino.UnitCompiler$6.visitDoStatement(UnitCompiler.java:1490)\n",
      "\tat org.codehaus.janino.Java$DoStatement.accept(Java.java:3664)\n",
      "\tat org.codehaus.janino.UnitCompiler.compile(UnitCompiler.java:1490)\n",
      "\tat org.codehaus.janino.UnitCompiler.compileStatements(UnitCompiler.java:1573)\n",
      "\tat org.codehaus.janino.UnitCompiler.compile2(UnitCompiler.java:1559)\n",
      "\tat org.codehaus.janino.UnitCompiler.access$1700(UnitCompiler.java:226)\n",
      "\tat org.codehaus.janino.UnitCompiler$6.visitBlock(UnitCompiler.java:1496)\n",
      "\tat org.codehaus.janino.UnitCompiler$6.visitBlock(UnitCompiler.java:1490)\n",
      "\tat org.codehaus.janino.Java$Block.accept(Java.java:2969)\n",
      "\tat org.codehaus.janino.UnitCompiler.compile(UnitCompiler.java:1490)\n",
      "\tat org.codehaus.janino.UnitCompiler.compile2(UnitCompiler.java:1848)\n",
      "\tat org.codehaus.janino.UnitCompiler.access$2200(UnitCompiler.java:226)\n",
      "\tat org.codehaus.janino.UnitCompiler$6.visitWhileStatement(UnitCompiler.java:1501)\n",
      "\tat org.codehaus.janino.UnitCompiler$6.visitWhileStatement(UnitCompiler.java:1490)\n",
      "\tat org.codehaus.janino.Java$WhileStatement.accept(Java.java:3245)\n",
      "\tat org.codehaus.janino.UnitCompiler.compile(UnitCompiler.java:1490)\n",
      "\tat org.codehaus.janino.UnitCompiler.compileStatements(UnitCompiler.java:1573)\n",
      "\tat org.codehaus.janino.UnitCompiler.compile(UnitCompiler.java:3420)\n",
      "\tat org.codehaus.janino.UnitCompiler.compileDeclaredMethods(UnitCompiler.java:1362)\n",
      "\tat org.codehaus.janino.UnitCompiler.compileDeclaredMethods(UnitCompiler.java:1335)\n",
      "\tat org.codehaus.janino.UnitCompiler.compile2(UnitCompiler.java:807)\n",
      "\tat org.codehaus.janino.UnitCompiler.compile2(UnitCompiler.java:975)\n",
      "\tat org.codehaus.janino.UnitCompiler.access$700(UnitCompiler.java:226)\n",
      "\tat org.codehaus.janino.UnitCompiler$2.visitMemberClassDeclaration(UnitCompiler.java:392)\n",
      "\tat org.codehaus.janino.UnitCompiler$2.visitMemberClassDeclaration(UnitCompiler.java:384)\n",
      "\tat org.codehaus.janino.Java$MemberClassDeclaration.accept(Java.java:1445)\n",
      "\tat org.codehaus.janino.UnitCompiler.compile(UnitCompiler.java:384)\n",
      "\tat org.codehaus.janino.UnitCompiler.compileDeclaredMemberTypes(UnitCompiler.java:1312)\n",
      "\tat org.codehaus.janino.UnitCompiler.compile2(UnitCompiler.java:833)\n",
      "\tat org.codehaus.janino.UnitCompiler.compile2(UnitCompiler.java:410)\n",
      "\tat org.codehaus.janino.UnitCompiler.access$400(UnitCompiler.java:226)\n",
      "\tat org.codehaus.janino.UnitCompiler$2.visitPackageMemberClassDeclaration(UnitCompiler.java:389)\n",
      "\tat org.codehaus.janino.UnitCompiler$2.visitPackageMemberClassDeclaration(UnitCompiler.java:384)\n",
      "\tat org.codehaus.janino.Java$PackageMemberClassDeclaration.accept(Java.java:1594)\n",
      "\tat org.codehaus.janino.UnitCompiler.compile(UnitCompiler.java:384)\n",
      "\tat org.codehaus.janino.UnitCompiler.compile2(UnitCompiler.java:362)\n",
      "\t... 70 more\n",
      "21/12/07 18:23:49 WARN WholeStageCodegenExec: Whole-stage codegen disabled for plan (id=7):\n",
      " *(7) Project [SalePrice#20201, 1.0 AS 1.0#20845, features#20659]\n",
      "+- *(7) Project [__right_SalePrice#19824 AS SalePrice#20201, UDF(struct(MSSubClass, MSSubClass#18679, MSZoning, MSZoning#18686, LotFrontage, LotFrontage#18693, LotArea, LotArea#18700, Street, Street#18707, Alley, Alley#18714, LotShape, LotShape#18721, LandContour, LandContour#18728, Utilities, Utilities#18735, LotConfig, LotConfig#18742, LandSlope, LandSlope#18749, Neighborhood, 0.0, ... 154 more fields)) AS features#20659]\n",
      "   +- *(7) BroadcastHashJoin [__index_level_0__#741L], [__right___index_level_0__#19823L], LeftOuter, BuildRight, false\n",
      "      :- *(7) Project [__index_level_0__#741L, CASE WHEN (isnull(cast(MSSubClass#742L as double)) OR isnan(cast(MSSubClass#742L as double))) THEN 0.0 ELSE cast(MSSubClass#742L as double) END AS MSSubClass#18679, CASE WHEN (CASE WHEN CASE WHEN CASE WHEN (MSZoning#743 = RL) THEN isnull(MSZoning#743) ELSE false END THEN false ELSE CASE WHEN (MSZoning#743 = RL) THEN (MSZoning#743 = OTHERS) ELSE true END END THEN false WHEN CASE WHEN CASE WHEN (MSZoning#743 = RL) THEN isnull(MSZoning#743) ELSE false END THEN false ELSE CASE WHEN (MSZoning#743 = RL) THEN (MSZoning#743 = RL) ELSE false END END THEN false WHEN CASE WHEN CASE WHEN (MSZoning#743 = RL) THEN isnull(MSZoning#743) ELSE false END THEN true ELSE CASE WHEN (MSZoning#743 = RL) THEN (MSZoning#743 = MISSING) ELSE false END END THEN false ELSE CASE WHEN CASE WHEN (MSZoning#743 = RL) THEN isnull(MSZoning#743) ELSE false END THEN true ELSE CASE WHEN (MSZoning#743 = RL) THEN isnull(cast(MSZoning#743 as double)) ELSE true END END END OR isnan(CASE WHEN CASE WHEN CASE WHEN (MSZoning#743 = RL) THEN isnull(MSZoning#743) ELSE false END THEN false ELSE CASE WHEN (MSZoning#743 = RL) THEN (MSZoning#743 = OTHERS) ELSE true END END THEN 1.0 WHEN CASE WHEN CASE WHEN (MSZoning#743 = RL) THEN isnull(MSZoning#743) ELSE false END THEN false ELSE CASE WHEN (MSZoning#743 = RL) THEN (MSZoning#743 = RL) ELSE false END END THEN 0.0 WHEN CASE WHEN CASE WHEN (MSZoning#743 = RL) THEN isnull(MSZoning#743) ELSE false END THEN true ELSE CASE WHEN (MSZoning#743 = RL) THEN (MSZoning#743 = MISSING) ELSE false END END THEN 2.0 ELSE CASE WHEN CASE WHEN (MSZoning#743 = RL) THEN isnull(MSZoning#743) ELSE false END THEN null ELSE CASE WHEN (MSZoning#743 = RL) THEN cast(MSZoning#743 as double) ELSE null END END END)) THEN 0.0 ELSE CASE WHEN CASE WHEN CASE WHEN (MSZoning#743 = RL) THEN isnull(MSZoning#743) ELSE false END THEN false ELSE CASE WHEN (MSZoning#743 = RL) THEN (MSZoning#743 = OTHERS) ELSE true END END THEN 1.0 WHEN CASE WHEN CASE WHEN (MSZoning#743 = RL) THEN isnull(MSZoning#743) ELSE false END THEN false ELSE CASE WHEN (MSZoning#743 = RL) THEN (MSZoning#743 = RL) ELSE false END END THEN 0.0 WHEN CASE WHEN CASE WHEN (MSZoning#743 = RL) THEN isnull(MSZoning#743) ELSE false END THEN true ELSE CASE WHEN (MSZoning#743 = RL) THEN (MSZoning#743 = MISSING) ELSE false END END THEN 2.0 ELSE CASE WHEN CASE WHEN (MSZoning#743 = RL) THEN isnull(MSZoning#743) ELSE false END THEN null ELSE CASE WHEN (MSZoning#743 = RL) THEN cast(MSZoning#743 as double) ELSE null END END END END AS MSZoning#18686, CASE WHEN (isnull(LotFrontage#744) OR isnan(LotFrontage#744)) THEN 0.0 ELSE LotFrontage#744 END AS LotFrontage#18693, CASE WHEN (isnull(cast(LotArea#745L as double)) OR isnan(cast(LotArea#745L as double))) THEN 0.0 ELSE cast(LotArea#745L as double) END AS LotArea#18700, CASE WHEN (CASE WHEN CASE WHEN CASE WHEN (Street#746 = Pave) THEN isnull(Street#746) ELSE false END THEN false ELSE CASE WHEN (Street#746 = Pave) THEN (Street#746 = OTHERS) ELSE true END END THEN false WHEN CASE WHEN CASE WHEN (Street#746 = Pave) THEN isnull(Street#746) ELSE false END THEN false ELSE CASE WHEN (Street#746 = Pave) THEN (Street#746 = Pave) ELSE false END END THEN false WHEN CASE WHEN CASE WHEN (Street#746 = Pave) THEN isnull(Street#746) ELSE false END THEN true ELSE CASE WHEN (Street#746 = Pave) THEN (Street#746 = MISSING) ELSE false END END THEN false ELSE CASE WHEN CASE WHEN (Street#746 = Pave) THEN isnull(Street#746) ELSE false END THEN true ELSE CASE WHEN (Street#746 = Pave) THEN isnull(cast(Street#746 as double)) ELSE true END END END OR isnan(CASE WHEN CASE WHEN CASE WHEN (Street#746 = Pave) THEN isnull(Street#746) ELSE false END THEN false ELSE CASE WHEN (Street#746 = Pave) THEN (Street#746 = OTHERS) ELSE true END END THEN 1.0 WHEN CASE WHEN CASE WHEN (Street#746 = Pave) THEN isnull(Street#746) ELSE false END THEN false ELSE CASE WHEN (Street#746 = Pave) THEN (Street#746 = Pave) ELSE false END END THEN 0.0 WHEN CASE WHEN CASE WHEN (Street#746 = Pave) THEN isnull(Street#746) ELSE false END THEN true ELSE CASE WHEN (Street#746 = Pave) THEN (Street#746 = MISSING) ELSE false END END THEN 2.0 ELSE CASE WHEN CASE WHEN (Street#746 = Pave) THEN isnull(Street#746) ELSE false END THEN null ELSE CASE WHEN (Street#746 = Pave) THEN cast(Street#746 as double) ELSE null END END END)) THEN 0.0 ELSE CASE WHEN CASE WHEN CASE WHEN (Street#746 = Pave) THEN isnull(Street#746) ELSE false END THEN false ELSE CASE WHEN (Street#746 = Pave) THEN (Street#746 = OTHERS) ELSE true END END THEN 1.0 WHEN CASE WHEN CASE WHEN (Street#746 = Pave) THEN isnull(Street#746) ELSE false END THEN false ELSE CASE WHEN (Street#746 = Pave) THEN (Street#746 = Pave) ELSE false END END THEN 0.0 WHEN CASE WHEN CASE WHEN (Street#746 = Pave) THEN isnull(Street#746) ELSE false END THEN true ELSE CASE WHEN (Street#746 = Pave) THEN (Street#746 = MISSING) ELSE false END END THEN 2.0 ELSE CASE WHEN CASE WHEN (Street#746 = Pave) THEN isnull(Street#746) ELSE false END THEN null ELSE CASE WHEN (Street#746 = Pave) THEN cast(Street#746 as double) ELSE null END END END END AS Street#18707, CASE WHEN (CASE WHEN CASE WHEN CASE WHEN Alley#747 IN (Pave,Grvl) THEN isnull(Alley#747) ELSE false END THEN false ELSE CASE WHEN Alley#747 IN (Pave,Grvl) THEN (Alley#747 = Grvl) ELSE false END END THEN false WHEN CASE WHEN CASE WHEN Alley#747 IN (Pave,Grvl) THEN isnull(Alley#747) ELSE false END THEN false ELSE CASE WHEN Alley#747 IN (Pave,Grvl) THEN (Alley#747 = OTHERS) ELSE true END END THEN false WHEN CASE WHEN CASE WHEN Alley#747 IN (Pave,Grvl) THEN isnull(Alley#747) ELSE false END THEN false ELSE CASE WHEN Alley#747 IN (Pave,Grvl) THEN (Alley#747 = Pave) ELSE false END END THEN false WHEN CASE WHEN CASE WHEN Alley#747 IN (Pave,Grvl) THEN isnull(Alley#747) ELSE false END THEN true ELSE CASE WHEN Alley#747 IN (Pave,Grvl) THEN (Alley#747 = MISSING) ELSE false END END THEN false ELSE CASE WHEN CASE WHEN Alley#747 IN (Pave,Grvl) THEN isnull(Alley#747) ELSE false END THEN true ELSE CASE WHEN Alley#747 IN (Pave,Grvl) THEN isnull(cast(Alley#747 as double)) ELSE true END END END OR isnan(CASE WHEN CASE WHEN CASE WHEN Alley#747 IN (Pave,Grvl) THEN isnull(Alley#747) ELSE false END THEN false ELSE CASE WHEN Alley#747 IN (Pave,Grvl) THEN (Alley#747 = Grvl) ELSE false END END THEN 2.0 WHEN CASE WHEN CASE WHEN Alley#747 IN (Pave,Grvl) THEN isnull(Alley#747) ELSE false END THEN false ELSE CASE WHEN Alley#747 IN (Pave,Grvl) THEN (Alley#747 = OTHERS) ELSE true END END THEN 1.0 WHEN CASE WHEN CASE WHEN Alley#747 IN (Pave,Grvl) THEN isnull(Alley#747) ELSE false END THEN false ELSE CASE WHEN Alley#747 IN (Pave,Grvl) THEN (Alley#747 = Pave) ELSE false END END THEN 0.0 WHEN CASE WHEN CASE WHEN Alley#747 IN (Pave,Grvl) THEN isnull(Alley#747) ELSE false END THEN true ELSE CASE WHEN Alley#747 IN (Pave,Grvl) THEN (Alley#747 = MISSING) ELSE false END END THEN 3.0 ELSE CASE WHEN CASE WHEN Alley#747 IN (Pave,Grvl) THEN isnull(Alley#747) ELSE false END THEN null ELSE CASE WHEN Alley#747 IN (Pave,Grvl) THEN cast(Alley#747 as double) ELSE null END END END)) THEN 0.0 ELSE CASE WHEN CASE WHEN CASE WHEN Alley#747 IN (Pave,Grvl) THEN isnull(Alley#747) ELSE false END THEN false ELSE CASE WHEN Alley#747 IN (Pave,Grvl) THEN (Alley#747 = Grvl) ELSE false END END THEN 2.0 WHEN CASE WHEN CASE WHEN Alley#747 IN (Pave,Grvl) THEN isnull(Alley#747) ELSE false END THEN false ELSE CASE WHEN Alley#747 IN (Pave,Grvl) THEN (Alley#747 = OTHERS) ELSE true END END THEN 1.0 WHEN CASE WHEN CASE WHEN Alley#747 IN (Pave,Grvl) THEN isnull(Alley#747) ELSE false END THEN false ELSE CASE WHEN Alley#747 IN (Pave,Grvl) THEN (Alley#747 = Pave) ELSE false END END THEN 0.0 WHEN CASE WHEN CASE WHEN Alley#747 IN (Pave,Grvl) THEN isnull(Alley#747) ELSE false END THEN true ELSE CASE WHEN Alley#747 IN (Pave,Grvl) THEN (Alley#747 = MISSING) ELSE false END END THEN 3.0 ELSE CASE WHEN CASE WHEN Alley#747 IN (Pave,Grvl) THEN isnull(Alley#747) ELSE false END THEN null ELSE CASE WHEN Alley#747 IN (Pave,Grvl) THEN cast(Alley#747 as double) ELSE null END END END END AS Alley#18714, CASE WHEN (CASE WHEN CASE WHEN CASE WHEN LotShape#748 IN (IR1,Reg) THEN isnull(LotShape#748) ELSE false END THEN false ELSE CASE WHEN LotShape#748 IN (IR1,Reg) THEN (LotShape#748 = IR1) ELSE false END END THEN false WHEN CASE WHEN CASE WHEN LotShape#748 IN (IR1,Reg) THEN isnull(LotShape#748) ELSE false END THEN false ELSE CASE WHEN LotShape#748 IN (IR1,Reg) THEN (LotShape#748 = OTHERS) ELSE true END END THEN false WHEN CASE WHEN CASE WHEN LotShape#748 IN (IR1,Reg) THEN isnull(LotShape#748) ELSE false END THEN false ELSE CASE WHEN LotShape#748 IN (IR1,Reg) THEN (LotShape#748 = Reg) ELSE false END END THEN false WHEN CASE WHEN CASE WHEN LotShape#748 IN (IR1,Reg) THEN isnull(LotShape#748) ELSE false END THEN true ELSE CASE WHEN LotShape#748 IN (IR1,Reg) THEN (LotShape#748 = MISSING) ELSE false END END THEN false ELSE CASE WHEN CASE WHEN LotShape#748 IN (IR1,Reg) THEN isnull(LotShape#748) ELSE false END THEN true ELSE CASE WHEN LotShape#748 IN (IR1,Reg) THEN isnull(cast(LotShape#748 as double)) ELSE true END END END OR isnan(CASE WHEN CASE WHEN CASE WHEN LotShape#748 IN (IR1,Reg) THEN isnull(LotShape#748) ELSE false END THEN false ELSE CASE WHEN LotShape#748 IN (IR1,Reg) THEN (LotShape#748 = IR1) ELSE false END END THEN 2.0 WHEN CASE WHEN CASE WHEN LotShape#748 IN (IR1,Reg) THEN isnull(LotShape#748) ELSE false END THEN false ELSE CASE WHEN LotShape#748 IN (IR1,Reg) THEN (LotShape#748 = OTHERS) ELSE true END END THEN 1.0 WHEN CASE WHEN CASE WHEN LotShape#748 IN (IR1,Reg) THEN isnull(LotShape#748) ELSE false END THEN false ELSE CASE WHEN LotShape#748 IN (IR1,Reg) THEN (LotShape#748 = Reg) ELSE false END END THEN 0.0 WHEN CASE WHEN CASE WHEN LotShape#748 IN (IR1,Reg) THEN isnull(LotShape#748) ELSE false END THEN true ELSE CASE WHEN LotShape#748 IN (IR1,Reg) THEN (LotShape#748 = MISSING) ELSE false END END THEN 3.0 ELSE CASE WHEN CASE WHEN LotShape#748 IN (IR1,Reg) THEN isnull(LotShape#748) ELSE false END THEN null ELSE CASE WHEN LotShape#748 IN (IR1,Reg) THEN cast(LotShape#748 as double) ELSE null END END END)) THEN 0.0 ELSE CASE WHEN CASE WHEN CASE WHEN LotShape#748 IN (IR1,Reg) THEN isnull(LotShape#748) ELSE false END THEN false ELSE CASE WHEN LotShape#748 IN (IR1,Reg) THEN (LotShape#748 = IR1) ELSE false END END THEN 2.0 WHEN CASE WHEN CASE WHEN LotShape#748 IN (IR1,Reg) THEN isnull(LotShape#748) ELSE false END THEN false ELSE CASE WHEN LotShape#748 IN (IR1,Reg) THEN (LotShape#748 = OTHERS) ELSE true END END THEN 1.0 WHEN CASE WHEN CASE WHEN LotShape#748 IN (IR1,Reg) THEN isnull(LotShape#748) ELSE false END THEN false ELSE CASE WHEN LotShape#748 IN (IR1,Reg) THEN (LotShape#748 = Reg) ELSE false END END THEN 0.0 WHEN CASE WHEN CASE WHEN LotShape#748 IN (IR1,Reg) THEN isnull(LotShape#748) ELSE false END THEN true ELSE CASE WHEN LotShape#748 IN (IR1,Reg) THEN (LotShape#748 = MISSING) ELSE false END END THEN 3.0 ELSE CASE WHEN CASE WHEN LotShape#748 IN (IR1,Reg) THEN isnull(LotShape#748) ELSE false END THEN null ELSE CASE WHEN LotShape#748 IN (IR1,Reg) THEN cast(LotShape#748 as double) ELSE null END END END END AS LotShape#18721, CASE WHEN (CASE WHEN CASE WHEN CASE WHEN (LandContour#749 = Lvl) THEN isnull(LandContour#749) ELSE false END THEN false ELSE CASE WHEN (LandContour#749 = Lvl) THEN (LandContour#749 = Lvl) ELSE false END END THEN false WHEN CASE WHEN CASE WHEN (LandContour#749 = Lvl) THEN isnull(LandContour#749) ELSE false END THEN false ELSE CASE WHEN (LandContour#749 = Lvl) THEN (LandContour#749 = OTHERS) ELSE true END END THEN false WHEN CASE WHEN CASE WHEN (LandContour#749 = Lvl) THEN isnull(LandContour#749) ELSE false END THEN true ELSE CASE WHEN (LandContour#749 = Lvl) THEN (LandContour#749 = MISSING) ELSE false END END THEN false ELSE CASE WHEN CASE WHEN (LandContour#749 = Lvl) THEN isnull(LandContour#749) ELSE false END THEN true ELSE CASE WHEN (LandContour#749 = Lvl) THEN isnull(cast(LandContour#749 as double)) ELSE true END END END OR isnan(CASE WHEN CASE WHEN CASE WHEN (LandContour#749 = Lvl) THEN isnull(LandContour#749) ELSE false END THEN false ELSE CASE WHEN (LandContour#749 = Lvl) THEN (LandContour#749 = Lvl) ELSE false END END THEN 1.0 WHEN CASE WHEN CASE WHEN (LandContour#749 = Lvl) THEN isnull(LandContour#749) ELSE false END THEN false ELSE CASE WHEN (LandContour#749 = Lvl) THEN (LandContour#749 = OTHERS) ELSE true END END THEN 0.0 WHEN CASE WHEN CASE WHEN (LandContour#749 = Lvl) THEN isnull(LandContour#749) ELSE false END THEN true ELSE CASE WHEN (LandContour#749 = Lvl) THEN (LandContour#749 = MISSING) ELSE false END END THEN 2.0 ELSE CASE WHEN CASE WHEN (LandContour#749 = Lvl) THEN isnull(LandContour#749) ELSE false END THEN null ELSE CASE WHEN (LandContour#749 = Lvl) THEN cast(LandContour#749 as double) ELSE null END END END)) THEN 0.0 ELSE CASE WHEN CASE WHEN CASE WHEN (LandContour#749 = Lvl) THEN isnull(LandContour#749) ELSE false END THEN false ELSE CASE WHEN (LandContour#749 = Lvl) THEN (LandContour#749 = Lvl) ELSE false END END THEN 1.0 WHEN CASE WHEN CASE WHEN (LandContour#749 = Lvl) THEN isnull(LandContour#749) ELSE false END THEN false ELSE CASE WHEN (LandContour#749 = Lvl) THEN (LandContour#749 = OTHERS) ELSE true END END THEN 0.0 WHEN CASE WHEN CASE WHEN (LandContour#749 = Lvl) THEN isnull(LandContour#749) ELSE false END THEN true ELSE CASE WHEN (LandContour#749 = Lvl) THEN (LandContour#749 = MISSING) ELSE false END END THEN 2.0 ELSE CASE WHEN CASE WHEN (LandContour#749 = Lvl) THEN isnull(LandContour#749) ELSE false END THEN null ELSE CASE WHEN (LandContour#749 = Lvl) THEN cast(LandContour#749 as double) ELSE null END END END END AS LandContour#18728, CASE WHEN (CASE WHEN CASE WHEN CASE WHEN (Utilities#750 = AllPub) THEN isnull(Utilities#750) ELSE false END THEN false ELSE CASE WHEN (Utilities#750 = AllPub) THEN (Utilities#750 = AllPub) ELSE false END END THEN false WHEN CASE WHEN CASE WHEN (Utilities#750 = AllPub) THEN isnull(Utilities#750) ELSE false END THEN false ELSE CASE WHEN (Utilities#750 = AllPub) THEN (Utilities#750 = OTHERS) ELSE true END END THEN false WHEN CASE WHEN CASE WHEN (Utilities#750 = AllPub) THEN isnull(Utilities#750) ELSE false END THEN true ELSE CASE WHEN (Utilities#750 = AllPub) THEN (Utilities#750 = MISSING) ELSE false END END THEN false ELSE CASE WHEN CASE WHEN (Utilities#750 = AllPub) THEN isnull(Utilities#750) ELSE false END THEN true ELSE CASE WHEN (Utilities#750 = AllPub) THEN isnull(cast(Utilities#750 as double)) ELSE true END END END OR isnan(CASE WHEN CASE WHEN CASE WHEN (Utilities#750 = AllPub) THEN isnull(Utilities#750) ELSE false END THEN false ELSE CASE WHEN (Utilities#750 = AllPub) THEN (Utilities#750 = AllPub) ELSE false END END THEN 1.0 WHEN CASE WHEN CASE WHEN (Utilities#750 = AllPub) THEN isnull(Utilities#750) ELSE false END THEN false ELSE CASE WHEN (Utilities#750 = AllPub) THEN (Utilities#750 = OTHERS) ELSE true END END THEN 0.0 WHEN CASE WHEN CASE WHEN (Utilities#750 = AllPub) THEN isnull(Utilities#750) ELSE false END THEN true ELSE CASE WHEN (Utilities#750 = AllPub) THEN (Utilities#750 = MISSING) ELSE false END END THEN 2.0 ELSE CASE WHEN CASE WHEN (Utilities#750 = AllPub) THEN isnull(Utilities#750) ELSE false END THEN null ELSE CASE WHEN (Utilities#750 = AllPub) THEN cast(Utilities#750 as double) ELSE null END END END)) THEN 0.0 ELSE CASE WHEN CASE WHEN CASE WHEN (Utilities#750 = AllPub) THEN isnull(Utilities#750) ELSE false END THEN false ELSE CASE WHEN (Utilities#750 = AllPub) THEN (Utilities#750 = AllPub) ELSE false END END THEN 1.0 WHEN CASE WHEN CASE WHEN (Utilities#750 = AllPub) THEN isnull(Utilities#750) ELSE false END THEN false ELSE CASE WHEN (Utilities#750 = AllPub) THEN (Utilities#750 = OTHERS) ELSE true END END THEN 0.0 WHEN CASE WHEN CASE WHEN (Utilities#750 = AllPub) THEN isnull(Utilities#750) ELSE false END THEN true ELSE CASE WHEN (Utilities#750 = AllPub) THEN (Utilities#750 = MISSING) ELSE false END END THEN 2.0 ELSE CASE WHEN CASE WHEN (Utilities#750 = AllPub) THEN isnull(Utilities#750) ELSE false END THEN null ELSE CASE WHEN (Utilities#750 = AllPub) THEN cast(Utilities#750 as double) ELSE null END END END END AS Utilities#18735, CASE WHEN (CASE WHEN CASE WHEN CASE WHEN (LotConfig#751 = Inside) THEN isnull(LotConfig#751) ELSE false END THEN false ELSE CASE WHEN (LotConfig#751 = Inside) THEN (LotConfig#751 = Inside) ELSE false END END THEN false WHEN CASE WHEN CASE WHEN (LotConfig#751 = Inside) THEN isnull(LotConfig#751) ELSE false END THEN false ELSE CASE WHEN (LotConfig#751 = Inside) THEN (LotConfig#751 = OTHERS) ELSE true END END THEN false WHEN CASE WHEN CASE WHEN (LotConfig#751 = Inside) THEN isnull(LotConfig#751) ELSE false END THEN true ELSE CASE WHEN (LotConfig#751 = Inside) THEN (LotConfig#751 = MISSING) ELSE false END END THEN false ELSE CASE WHEN CASE WHEN (LotConfig#751 = Inside) THEN isnull(LotConfig#751) ELSE false END THEN true ELSE CASE WHEN (LotConfig#751 = Inside) THEN isnull(cast(LotConfig#751 as double)) ELSE true END END END OR isnan(CASE WHEN CASE WHEN CASE WHEN (LotConfig#751 = Inside) THEN isnull(LotConfig#751) ELSE false END THEN false ELSE CASE WHEN (LotConfig#751 = Inside) THEN (LotConfig#751 = Inside) ELSE false END END THEN 1.0 WHEN CASE WHEN CASE WHEN (LotConfig#751 = Inside) THEN isnull(LotConfig#751) ELSE false END THEN false ELSE CASE WHEN (LotConfig#751 = Inside) THEN (LotConfig#751 = OTHERS) ELSE true END END THEN 0.0 WHEN CASE WHEN CASE WHEN (LotConfig#751 = Inside) THEN isnull(LotConfig#751) ELSE false END THEN true ELSE CASE WHEN (LotConfig#751 = Inside) THEN (LotConfig#751 = MISSING) ELSE false END END THEN 2.0 ELSE CASE WHEN CASE WHEN (LotConfig#751 = Inside) THEN isnull(LotConfig#751) ELSE false END THEN null ELSE CASE WHEN (LotConfig#751 = Inside) THEN cast(LotConfig#751 as double) ELSE null END END END)) THEN 0.0 ELSE CASE WHEN CASE WHEN CASE WHEN (LotConfig#751 = Inside) THEN isnull(LotConfig#751) ELSE false END THEN false ELSE CASE WHEN (LotConfig#751 = Inside) THEN (LotConfig#751 = Inside) ELSE false END END THEN 1.0 WHEN CASE WHEN CASE WHEN (LotConfig#751 = Inside) THEN isnull(LotConfig#751) ELSE false END THEN false ELSE CASE WHEN (LotConfig#751 = Inside) THEN (LotConfig#751 = OTHERS) ELSE true END END THEN 0.0 WHEN CASE WHEN CASE WHEN (LotConfig#751 = Inside) THEN isnull(LotConfig#751) ELSE false END THEN true ELSE CASE WHEN (LotConfig#751 = Inside) THEN (LotConfig#751 = MISSING) ELSE false END END THEN 2.0 ELSE CASE WHEN CASE WHEN (LotConfig#751 = Inside) THEN isnull(LotConfig#751) ELSE false END THEN null ELSE CASE WHEN (LotConfig#751 = Inside) THEN cast(LotConfig#751 as double) ELSE null END END END END AS LotConfig#18742, CASE WHEN (CASE WHEN CASE WHEN CASE WHEN (LandSlope#752 = Gtl) THEN isnull(LandSlope#752) ELSE false END THEN false ELSE CASE WHEN (LandSlope#752 = Gtl) THEN (LandSlope#752 = Gtl) ELSE false END END THEN false WHEN CASE WHEN CASE WHEN (LandSlope#752 = Gtl) THEN isnull(LandSlope#752) ELSE false END THEN false ELSE CASE WHEN (LandSlope#752 = Gtl) THEN (LandSlope#752 = OTHERS) ELSE true END END THEN false WHEN CASE WHEN CASE WHEN (LandSlope#752 = Gtl) THEN isnull(LandSlope#752) ELSE false END THEN true ELSE CASE WHEN (LandSlope#752 = Gtl) THEN (LandSlope#752 = MISSING) ELSE false END END THEN false ELSE CASE WHEN CASE WHEN (LandSlope#752 = Gtl) THEN isnull(LandSlope#752) ELSE false END THEN true ELSE CASE WHEN (LandSlope#752 = Gtl) THEN isnull(cast(LandSlope#752 as double)) ELSE true END END END OR isnan(CASE WHEN CASE WHEN CASE WHEN (LandSlope#752 = Gtl) THEN isnull(LandSlope#752) ELSE false END THEN false ELSE CASE WHEN (LandSlope#752 = Gtl) THEN (LandSlope#752 = Gtl) ELSE false END END THEN 1.0 WHEN CASE WHEN CASE WHEN (LandSlope#752 = Gtl) THEN isnull(LandSlope#752) ELSE false END THEN false ELSE CASE WHEN (LandSlope#752 = Gtl) THEN (LandSlope#752 = OTHERS) ELSE true END END THEN 0.0 WHEN CASE WHEN CASE WHEN (LandSlope#752 = Gtl) THEN isnull(LandSlope#752) ELSE false END THEN true ELSE CASE WHEN (LandSlope#752 = Gtl) THEN (LandSlope#752 = MISSING) ELSE false END END THEN 2.0 ELSE CASE WHEN CASE WHEN (LandSlope#752 = Gtl) THEN isnull(LandSlope#752) ELSE false END THEN null ELSE CASE WHEN (LandSlope#752 = Gtl) THEN cast(LandSlope#752 as double) ELSE null END END END)) THEN 0.0 ELSE CASE WHEN CASE WHEN CASE WHEN (LandSlope#752 = Gtl) THEN isnull(LandSlope#752) ELSE false END THEN false ELSE CASE WHEN (LandSlope#752 = Gtl) THEN (LandSlope#752 = Gtl) ELSE false END END THEN 1.0 WHEN CASE WHEN CASE WHEN (LandSlope#752 = Gtl) THEN isnull(LandSlope#752) ELSE false END THEN false ELSE CASE WHEN (LandSlope#752 = Gtl) THEN (LandSlope#752 = OTHERS) ELSE true END END THEN 0.0 WHEN CASE WHEN CASE WHEN (LandSlope#752 = Gtl) THEN isnull(LandSlope#752) ELSE false END THEN true ELSE CASE WHEN (LandSlope#752 = Gtl) THEN (LandSlope#752 = MISSING) ELSE false END END THEN 2.0 ELSE CASE WHEN CASE WHEN (LandSlope#752 = Gtl) THEN isnull(LandSlope#752) ELSE false END THEN null ELSE CASE WHEN (LandSlope#752 = Gtl) THEN cast(LandSlope#752 as double) ELSE null END END END END AS LandSlope#18749, CASE WHEN (CASE WHEN CASE WHEN CASE WHEN (Condition1#754 = Norm) THEN isnull(Condition1#754) ELSE false END THEN false ELSE CASE WHEN (Condition1#754 = Norm) THEN (Condition1#754 = Norm) ELSE false END END THEN false WHEN CASE WHEN CASE WHEN (Condition1#754 = Norm) THEN isnull(Condition1#754) ELSE false END THEN false ELSE CASE WHEN (Condition1#754 = Norm) THEN (Condition1#754 = OTHERS) ELSE true END END THEN false WHEN CASE WHEN CASE WHEN (Condition1#754 = Norm) THEN isnull(Condition1#754) ELSE false END THEN true ELSE CASE WHEN (Condition1#754 = Norm) THEN (Condition1#754 = MISSING) ELSE false END END THEN false ELSE CASE WHEN CASE WHEN (Condition1#754 = Norm) THEN isnull(Condition1#754) ELSE false END THEN true ELSE CASE WHEN (Condition1#754 = Norm) THEN isnull(cast(Condition1#754 as double)) ELSE true END END END OR isnan(CASE WHEN CASE WHEN CASE WHEN (Condition1#754 = Norm) THEN isnull(Condition1#754) ELSE false END THEN false ELSE CASE WHEN (Condition1#754 = Norm) THEN (Condition1#754 = Norm) ELSE false END END THEN 1.0 WHEN CASE WHEN CASE WHEN (Condition1#754 = Norm) THEN isnull(Condition1#754) ELSE false END THEN false ELSE CASE WHEN (Condition1#754 = Norm) THEN (Condition1#754 = OTHERS) ELSE true END END THEN 0.0 WHEN CASE WHEN CASE WHEN (Condition1#754 = Norm) THEN isnull(Condition1#754) ELSE false END THEN true ELSE CASE WHEN (Condition1#754 = Norm) THEN (Condition1#754 = MISSING) ELSE false END END THEN 2.0 ELSE CASE WHEN CASE WHEN (Condition1#754 = Norm) THEN isnull(Condition1#754) ELSE false END THEN null ELSE CASE WHEN (Condition1#754 = Norm) THEN cast(Condition1#754 as double) ELSE null END END END)) THEN 0.0 ELSE CASE WHEN CASE WHEN CASE WHEN (Condition1#754 = Norm) THEN isnull(Condition1#754) ELSE false END THEN false ELSE CASE WHEN (Condition1#754 = Norm) THEN (Condition1#754 = Norm) ELSE false END END THEN 1.0 WHEN CASE WHEN CASE WHEN (Condition1#754 = Norm) THEN isnull(Condition1#754) ELSE false END THEN false ELSE CASE WHEN (Condition1#754 = Norm) THEN (Condition1#754 = OTHERS) ELSE true END END THEN 0.0 WHEN CASE WHEN CASE WHEN (Condition1#754 = Norm) THEN isnull(Condition1#754) ELSE false END THEN true ELSE CASE WHEN (Condition1#754 = Norm) THEN (Condition1#754 = MISSING) ELSE false END END THEN 2.0 ELSE CASE WHEN CASE WHEN (Condition1#754 = Norm) THEN isnull(Condition1#754) ELSE false END THEN null ELSE CASE WHEN (Condition1#754 = Norm) THEN cast(Condition1#754 as double) ELSE null END END END END AS Condition1#18763, CASE WHEN (CASE WHEN CASE WHEN CASE WHEN (Condition2#755 = Norm) THEN isnull(Condition2#755) ELSE false END THEN false ELSE CASE WHEN (Condition2#755 = Norm) THEN (Condition2#755 = Norm) ELSE false END END THEN false WHEN CASE WHEN CASE WHEN (Condition2#755 = Norm) THEN isnull(Condition2#755) ELSE false END THEN false ELSE CASE WHEN (Condition2#755 = Norm) THEN (Condition2#755 = OTHERS) ELSE true END END THEN false WHEN CASE WHEN CASE WHEN (Condition2#755 = Norm) THEN isnull(Condition2#755) ELSE false END THEN true ELSE CASE WHEN (Condition2#755 = Norm) THEN (Condition2#755 = MISSING) ELSE false END END THEN false ELSE CASE WHEN CASE WHEN (Condition2#755 = Norm) THEN isnull(Condition2#755) ELSE false END THEN true ELSE CASE WHEN (Condition2#755 = Norm) THEN isnull(cast(Condition2#755 as double)) ELSE true END END END OR isnan(CASE WHEN CASE WHEN CASE WHEN (Condition2#755 = Norm) THEN isnull(Condition2#755) ELSE false END THEN false ELSE CASE WHEN (Condition2#755 = Norm) THEN (Condition2#755 = Norm) ELSE false END END THEN 1.0 WHEN CASE WHEN CASE WHEN (Condition2#755 = Norm) THEN isnull(Condition2#755) ELSE false END THEN false ELSE CASE WHEN (Condition2#755 = Norm) THEN (Condition2#755 = OTHERS) ELSE true END END THEN 0.0 WHEN CASE WHEN CASE WHEN (Condition2#755 = Norm) THEN isnull(Condition2#755) ELSE false END THEN true ELSE CASE WHEN (Condition2#755 = Norm) THEN (Condition2#755 = MISSING) ELSE false END END THEN 2.0 ELSE CASE WHEN CASE WHEN (Condition2#755 = Norm) THEN isnull(Condition2#755) ELSE false END THEN null ELSE CASE WHEN (Condition2#755 = Norm) THEN cast(Condition2#755 as double) ELSE null END END END)) THEN 0.0 ELSE CASE WHEN CASE WHEN CASE WHEN (Condition2#755 = Norm) THEN isnull(Condition2#755) ELSE false END THEN false ELSE CASE WHEN (Condition2#755 = Norm) THEN (Condition2#755 = Norm) ELSE false END END THEN 1.0 WHEN CASE WHEN CASE WHEN (Condition2#755 = Norm) THEN isnull(Condition2#755) ELSE false END THEN false ELSE CASE WHEN (Condition2#755 = Norm) THEN (Condition2#755 = OTHERS) ELSE true END END THEN 0.0 WHEN CASE WHEN CASE WHEN (Condition2#755 = Norm) THEN isnull(Condition2#755) ELSE false END THEN true ELSE CASE WHEN (Condition2#755 = Norm) THEN (Condition2#755 = MISSING) ELSE false END END THEN 2.0 ELSE CASE WHEN CASE WHEN (Condition2#755 = Norm) THEN isnull(Condition2#755) ELSE false END THEN null ELSE CASE WHEN (Condition2#755 = Norm) THEN cast(Condition2#755 as double) ELSE null END END END END AS Condition2#18770, CASE WHEN (CASE WHEN CASE WHEN CASE WHEN (BldgType#756 = 1Fam) THEN isnull(BldgType#756) ELSE false END THEN false ELSE CASE WHEN (BldgType#756 = 1Fam) THEN (BldgType#756 = 1Fam) ELSE false END END THEN false WHEN CASE WHEN CASE WHEN (BldgType#756 = 1Fam) THEN isnull(BldgType#756) ELSE false END THEN false ELSE CASE WHEN (BldgType#756 = 1Fam) THEN (BldgType#756 = OTHERS) ELSE true END END THEN false WHEN CASE WHEN CASE WHEN (BldgType#756 = 1Fam) THEN isnull(BldgType#756) ELSE false END THEN true ELSE CASE WHEN (BldgType#756 = 1Fam) THEN (BldgType#756 = MISSING) ELSE false END END THEN false ELSE CASE WHEN CASE WHEN (BldgType#756 = 1Fam) THEN isnull(BldgType#756) ELSE false END THEN true ELSE CASE WHEN (BldgType#756 = 1Fam) THEN isnull(cast(BldgType#756 as double)) ELSE true END END END OR isnan(CASE WHEN CASE WHEN CASE WHEN (BldgType#756 = 1Fam) THEN isnull(BldgType#756) ELSE false END THEN false ELSE CASE WHEN (BldgType#756 = 1Fam) THEN (BldgType#756 = 1Fam) ELSE false END END THEN 1.0 WHEN CASE WHEN CASE WHEN (BldgType#756 = 1Fam) THEN isnull(BldgType#756) ELSE false END THEN false ELSE CASE WHEN (BldgType#756 = 1Fam) THEN (BldgType#756 = OTHERS) ELSE true END END THEN 0.0 WHEN CASE WHEN CASE WHEN (BldgType#756 = 1Fam) THEN isnull(BldgType#756) ELSE false END THEN true ELSE CASE WHEN (BldgType#756 = 1Fam) THEN (BldgType#756 = MISSING) ELSE false END END THEN 2.0 ELSE CASE WHEN CASE WHEN (BldgType#756 = 1Fam) THEN isnull(BldgType#756) ELSE false END THEN null ELSE CASE WHEN (BldgType#756 = 1Fam) THEN cast(BldgType#756 as double) ELSE null END END END)) THEN 0.0 ELSE CASE WHEN CASE WHEN CASE WHEN (BldgType#756 = 1Fam) THEN isnull(BldgType#756) ELSE false END THEN false ELSE CASE WHEN (BldgType#756 = 1Fam) THEN (BldgType#756 = 1Fam) ELSE false END END THEN 1.0 WHEN CASE WHEN CASE WHEN (BldgType#756 = 1Fam) THEN isnull(BldgType#756) ELSE false END THEN false ELSE CASE WHEN (BldgType#756 = 1Fam) THEN (BldgType#756 = OTHERS) ELSE true END END THEN 0.0 WHEN CASE WHEN CASE WHEN (BldgType#756 = 1Fam) THEN isnull(BldgType#756) ELSE false END THEN true ELSE CASE WHEN (BldgType#756 = 1Fam) THEN (BldgType#756 = MISSING) ELSE false END END THEN 2.0 ELSE CASE WHEN CASE WHEN (BldgType#756 = 1Fam) THEN isnull(BldgType#756) ELSE false END THEN null ELSE CASE WHEN (BldgType#756 = 1Fam) THEN cast(BldgType#756 as double) ELSE null END END END END AS BldgType#18777, CASE WHEN (CASE WHEN CASE WHEN CASE WHEN HouseStyle#757 IN (2Story,1Story) THEN isnull(HouseStyle#757) ELSE false END THEN false ELSE CASE WHEN HouseStyle#757 IN (2Story,1Story) THEN (HouseStyle#757 = 1Story) ELSE false END END THEN false WHEN CASE WHEN CASE WHEN HouseStyle#757 IN (2Story,1Story) THEN isnull(HouseStyle#757) ELSE false END THEN false ELSE CASE WHEN HouseStyle#757 IN (2Story,1Story) THEN (HouseStyle#757 = 2Story) ELSE false END END THEN false WHEN CASE WHEN CASE WHEN HouseStyle#757 IN (2Story,1Story) THEN isnull(HouseStyle#757) ELSE false END THEN false ELSE CASE WHEN HouseStyle#757 IN (2Story,1Story) THEN (HouseStyle#757 = OTHERS) ELSE true END END THEN false WHEN CASE WHEN CASE WHEN HouseStyle#757 IN (2Story,1Story) THEN isnull(HouseStyle#757) ELSE false END THEN true ELSE CASE WHEN HouseStyle#757 IN (2Story,1Story) THEN (HouseStyle#757 = MISSING) ELSE false END END THEN false ELSE CASE WHEN CASE WHEN HouseStyle#757 IN (2Story,1Story) THEN isnull(HouseStyle#757) ELSE false END THEN true ELSE CASE WHEN HouseStyle#757 IN (2Story,1Story) THEN isnull(cast(HouseStyle#757 as double)) ELSE true END END END OR isnan(CASE WHEN CASE WHEN CASE WHEN HouseStyle#757 IN (2Story,1Story) THEN isnull(HouseStyle#757) ELSE false END THEN false ELSE CASE WHEN HouseStyle#757 IN (2Story,1Story) THEN (HouseStyle#757 = 1Story) ELSE false END END THEN 2.0 WHEN CASE WHEN CASE WHEN HouseStyle#757 IN (2Story,1Story) THEN isnull(HouseStyle#757) ELSE false END THEN false ELSE CASE WHEN HouseStyle#757 IN (2Story,1Story) THEN (HouseStyle#757 = 2Story) ELSE false END END THEN 1.0 WHEN CASE WHEN CASE WHEN HouseStyle#757 IN (2Story,1Story) THEN isnull(HouseStyle#757) ELSE false END THEN false ELSE CASE WHEN HouseStyle#757 IN (2Story,1Story) THEN (HouseStyle#757 = OTHERS) ELSE true END END THEN 0.0 WHEN CASE WHEN CASE WHEN HouseStyle#757 IN (2Story,1Story) THEN isnull(HouseStyle#757) ELSE false END THEN true ELSE CASE WHEN HouseStyle#757 IN (2Story,1Story) THEN (HouseStyle#757 = MISSING) ELSE false END END THEN 3.0 ELSE CASE WHEN CASE WHEN HouseStyle#757 IN (2Story,1Story) THEN isnull(HouseStyle#757) ELSE false END THEN null ELSE CASE WHEN HouseStyle#757 IN (2Story,1Story) THEN cast(HouseStyle#757 as double) ELSE null END END END)) THEN 0.0 ELSE CASE WHEN CASE WHEN CASE WHEN HouseStyle#757 IN (2Story,1Story) THEN isnull(HouseStyle#757) ELSE false END THEN false ELSE CASE WHEN HouseStyle#757 IN (2Story,1Story) THEN (HouseStyle#757 = 1Story) ELSE false END END THEN 2.0 WHEN CASE WHEN CASE WHEN HouseStyle#757 IN (2Story,1Story) THEN isnull(HouseStyle#757) ELSE false END THEN false ELSE CASE WHEN HouseStyle#757 IN (2Story,1Story) THEN (HouseStyle#757 = 2Story) ELSE false END END THEN 1.0 WHEN CASE WHEN CASE WHEN HouseStyle#757 IN (2Story,1Story) THEN isnull(HouseStyle#757) ELSE false END THEN false ELSE CASE WHEN HouseStyle#757 IN (2Story,1Story) THEN (HouseStyle#757 = OTHERS) ELSE true END END THEN 0.0 WHEN CASE WHEN CASE WHEN HouseStyle#757 IN (2Story,1Story) THEN isnull(HouseStyle#757) ELSE false END THEN true ELSE CASE WHEN HouseStyle#757 IN (2Story,1Story) THEN (HouseStyle#757 = MISSING) ELSE false END END THEN 3.0 ELSE CASE WHEN CASE WHEN HouseStyle#757 IN (2Story,1Story) THEN isnull(HouseStyle#757) ELSE false END THEN null ELSE CASE WHEN HouseStyle#757 IN (2Story,1Story) THEN cast(HouseStyle#757 as double) ELSE null END END END END AS HouseStyle#18784, CASE WHEN (isnull(cast(OverallQual#758L as double)) OR isnan(cast(OverallQual#758L as double))) THEN 0.0 ELSE cast(OverallQual#758L as double) END AS OverallQual#18791, CASE WHEN (isnull(cast(OverallCond#759L as double)) OR isnan(cast(OverallCond#759L as double))) THEN 0.0 ELSE cast(OverallCond#759L as double) END AS OverallCond#18798, CASE WHEN (isnull(cast(YearBuilt#760L as double)) OR isnan(cast(YearBuilt#760L as double))) THEN 0.0 ELSE cast(YearBuilt#760L as double) END AS YearBuilt#18805, CASE WHEN (isnull(cast(YearRemodAdd#761L as double)) OR isnan(cast(YearRemodAdd#761L as double))) THEN 0.0 ELSE cast(YearRemodAdd#761L as double) END AS YearRemodAdd#18812, CASE WHEN (CASE WHEN CASE WHEN CASE WHEN (RoofStyle#762 = Gable) THEN isnull(RoofStyle#762) ELSE false END THEN false ELSE CASE WHEN (RoofStyle#762 = Gable) THEN (RoofStyle#762 = Gable) ELSE false END END THEN false WHEN CASE WHEN CASE WHEN (RoofStyle#762 = Gable) THEN isnull(RoofStyle#762) ELSE false END THEN false ELSE CASE WHEN (RoofStyle#762 = Gable) THEN (RoofStyle#762 = OTHERS) ELSE true END END THEN false WHEN CASE WHEN CASE WHEN (RoofStyle#762 = Gable) THEN isnull(RoofStyle#762) ELSE false END THEN true ELSE CASE WHEN (RoofStyle#762 = Gable) THEN (RoofStyle#762 = MISSING) ELSE false END END THEN false ELSE CASE WHEN CASE WHEN (RoofStyle#762 = Gable) THEN isnull(RoofStyle#762) ELSE false END THEN true ELSE CASE WHEN (RoofStyle#762 = Gable) THEN isnull(cast(RoofStyle#762 as double)) ELSE true END END END OR isnan(CASE WHEN CASE WHEN CASE WHEN (RoofStyle#762 = Gable) THEN isnull(RoofStyle#762) ELSE false END THEN false ELSE CASE WHEN (RoofStyle#762 = Gable) THEN (RoofStyle#762 = Gable) ELSE false END END THEN 1.0 WHEN CASE WHEN CASE WHEN (RoofStyle#762 = Gable) THEN isnull(RoofStyle#762) ELSE false END THEN false ELSE CASE WHEN (RoofStyle#762 = Gable) THEN (RoofStyle#762 = OTHERS) ELSE true END END THEN 0.0 WHEN CASE WHEN CASE WHEN (RoofStyle#762 = Gable) THEN isnull(RoofStyle#762) ELSE false END THEN true ELSE CASE WHEN (RoofStyle#762 = Gable) THEN (RoofStyle#762 = MISSING) ELSE false END END THEN 2.0 ELSE CASE WHEN CASE WHEN (RoofStyle#762 = Gable) THEN isnull(RoofStyle#762) ELSE false END THEN null ELSE CASE WHEN (RoofStyle#762 = Gable) THEN cast(RoofStyle#762 as double) ELSE null END END END)) THEN 0.0 ELSE CASE WHEN CASE WHEN CASE WHEN (RoofStyle#762 = Gable) THEN isnull(RoofStyle#762) ELSE false END THEN false ELSE CASE WHEN (RoofStyle#762 = Gable) THEN (RoofStyle#762 = Gable) ELSE false END END THEN 1.0 WHEN CASE WHEN CASE WHEN (RoofStyle#762 = Gable) THEN isnull(RoofStyle#762) ELSE false END THEN false ELSE CASE WHEN (RoofStyle#762 = Gable) THEN (RoofStyle#762 = OTHERS) ELSE true END END THEN 0.0 WHEN CASE WHEN CASE WHEN (RoofStyle#762 = Gable) THEN isnull(RoofStyle#762) ELSE false END THEN true ELSE CASE WHEN (RoofStyle#762 = Gable) THEN (RoofStyle#762 = MISSING) ELSE false END END THEN 2.0 ELSE CASE WHEN CASE WHEN (RoofStyle#762 = Gable) THEN isnull(RoofStyle#762) ELSE false END THEN null ELSE CASE WHEN (RoofStyle#762 = Gable) THEN cast(RoofStyle#762 as double) ELSE null END END END END AS RoofStyle#18819, CASE WHEN (CASE WHEN CASE WHEN CASE WHEN (RoofMatl#763 = CompShg) THEN isnull(RoofMatl#763) ELSE false END THEN false ELSE CASE WHEN (RoofMatl#763 = CompShg) THEN (RoofMatl#763 = CompShg) ELSE false END END THEN false WHEN CASE WHEN CASE WHEN (RoofMatl#763 = CompShg) THEN isnull(RoofMatl#763) ELSE false END THEN false ELSE CASE WHEN (RoofMatl#763 = CompShg) THEN (RoofMatl#763 = OTHERS) ELSE true END END THEN false WHEN CASE WHEN CASE WHEN (RoofMatl#763 = CompShg) THEN isnull(RoofMatl#763) ELSE false END THEN true ELSE CASE WHEN (RoofMatl#763 = CompShg) THEN (RoofMatl#763 = MISSING) ELSE false END END THEN false ELSE CASE WHEN CASE WHEN (RoofMatl#763 = CompShg) THEN isnull(RoofMatl#763) ELSE false END THEN true ELSE CASE WHEN (RoofMatl#763 = CompShg) THEN isnull(cast(RoofMatl#763 as double)) ELSE true END END END OR isnan(CASE WHEN CASE WHEN CASE WHEN (RoofMatl#763 = CompShg) THEN isnull(RoofMatl#763) ELSE false END THEN false ELSE CASE WHEN (RoofMatl#763 = CompShg) THEN (RoofMatl#763 = CompShg) ELSE false END END THEN 1.0 WHEN CASE WHEN CASE WHEN (RoofMatl#763 = CompShg) THEN isnull(RoofMatl#763) ELSE false END THEN false ELSE CASE WHEN (RoofMatl#763 = CompShg) THEN (RoofMatl#763 = OTHERS) ELSE true END END THEN 0.0 WHEN CASE WHEN CASE WHEN (RoofMatl#763 = CompShg) THEN isnull(RoofMatl#763) ELSE false END THEN true ELSE CASE WHEN (RoofMatl#763 = CompShg) THEN (RoofMatl#763 = MISSING) ELSE false END END THEN 2.0 ELSE CASE WHEN CASE WHEN (RoofMatl#763 = CompShg) THEN isnull(RoofMatl#763) ELSE false END THEN null ELSE CASE WHEN (RoofMatl#763 = CompShg) THEN cast(RoofMatl#763 as double) ELSE null END END END)) THEN 0.0 ELSE CASE WHEN CASE WHEN CASE WHEN (RoofMatl#763 = CompShg) THEN isnull(RoofMatl#763) ELSE false END THEN false ELSE CASE WHEN (RoofMatl#763 = CompShg) THEN (RoofMatl#763 = CompShg) ELSE false END END THEN 1.0 WHEN CASE WHEN CASE WHEN (RoofMatl#763 = CompShg) THEN isnull(RoofMatl#763) ELSE false END THEN false ELSE CASE WHEN (RoofMatl#763 = CompShg) THEN (RoofMatl#763 = OTHERS) ELSE true END END THEN 0.0 WHEN CASE WHEN CASE WHEN (RoofMatl#763 = CompShg) THEN isnull(RoofMatl#763) ELSE false END THEN true ELSE CASE WHEN (RoofMatl#763 = CompShg) THEN (RoofMatl#763 = MISSING) ELSE false END END THEN 2.0 ELSE CASE WHEN CASE WHEN (RoofMatl#763 = CompShg) THEN isnull(RoofMatl#763) ELSE false END THEN null ELSE CASE WHEN (RoofMatl#763 = CompShg) THEN cast(RoofMatl#763 as double) ELSE null END END END END AS RoofMatl#18826, CASE WHEN (CASE WHEN CASE WHEN CASE WHEN (Exterior1st#764 = VinylSd) THEN isnull(Exterior1st#764) ELSE false END THEN false ELSE CASE WHEN (Exterior1st#764 = VinylSd) THEN (Exterior1st#764 = OTHERS) ELSE true END END THEN false WHEN CASE WHEN CASE WHEN (Exterior1st#764 = VinylSd) THEN isnull(Exterior1st#764) ELSE false END THEN false ELSE CASE WHEN (Exterior1st#764 = VinylSd) THEN (Exterior1st#764 = VinylSd) ELSE false END END THEN false WHEN CASE WHEN CASE WHEN (Exterior1st#764 = VinylSd) THEN isnull(Exterior1st#764) ELSE false END THEN true ELSE CASE WHEN (Exterior1st#764 = VinylSd) THEN (Exterior1st#764 = MISSING) ELSE false END END THEN false ELSE CASE WHEN CASE WHEN (Exterior1st#764 = VinylSd) THEN isnull(Exterior1st#764) ELSE false END THEN true ELSE CASE WHEN (Exterior1st#764 = VinylSd) THEN isnull(cast(Exterior1st#764 as double)) ELSE true END END END OR isnan(CASE WHEN CASE WHEN CASE WHEN (Exterior1st#764 = VinylSd) THEN isnull(Exterior1st#764) ELSE false END THEN false ELSE CASE WHEN (Exterior1st#764 = VinylSd) THEN (Exterior1st#764 = OTHERS) ELSE true END END THEN 1.0 WHEN CASE WHEN CASE WHEN (Exterior1st#764 = VinylSd) THEN isnull(Exterior1st#764) ELSE false END THEN false ELSE CASE WHEN (Exterior1st#764 = VinylSd) THEN (Exterior1st#764 = VinylSd) ELSE false END END THEN 0.0 WHEN CASE WHEN CASE WHEN (Exterior1st#764 = VinylSd) THEN isnull(Exterior1st#764) ELSE false END THEN true ELSE CASE WHEN (Exterior1st#764 = VinylSd) THEN (Exterior1st#764 = MISSING) ELSE false END END THEN 2.0 ELSE CASE WHEN CASE WHEN (Exterior1st#764 = VinylSd) THEN isnull(Exterior1st#764) ELSE false END THEN null ELSE CASE WHEN (Exterior1st#764 = VinylSd) THEN cast(Exterior1st#764 as double) ELSE null END END END)) THEN 0.0 ELSE CASE WHEN CASE WHEN CASE WHEN (Exterior1st#764 = VinylSd) THEN isnull(Exterior1st#764) ELSE false END THEN false ELSE CASE WHEN (Exterior1st#764 = VinylSd) THEN (Exterior1st#764 = OTHERS) ELSE true END END THEN 1.0 WHEN CASE WHEN CASE WHEN (Exterior1st#764 = VinylSd) THEN isnull(Exterior1st#764) ELSE false END THEN false ELSE CASE WHEN (Exterior1st#764 = VinylSd) THEN (Exterior1st#764 = VinylSd) ELSE false END END THEN 0.0 WHEN CASE WHEN CASE WHEN (Exterior1st#764 = VinylSd) THEN isnull(Exterior1st#764) ELSE false END THEN true ELSE CASE WHEN (Exterior1st#764 = VinylSd) THEN (Exterior1st#764 = MISSING) ELSE false END END THEN 2.0 ELSE CASE WHEN CASE WHEN (Exterior1st#764 = VinylSd) THEN isnull(Exterior1st#764) ELSE false END THEN null ELSE CASE WHEN (Exterior1st#764 = VinylSd) THEN cast(Exterior1st#764 as double) ELSE null END END END END AS Exterior1st#18833, CASE WHEN (CASE WHEN CASE WHEN CASE WHEN (Exterior2nd#765 = VinylSd) THEN isnull(Exterior2nd#765) ELSE false END THEN false ELSE CASE WHEN (Exterior2nd#765 = VinylSd) THEN (Exterior2nd#765 = OTHERS) ELSE true END END THEN false WHEN CASE WHEN CASE WHEN (Exterior2nd#765 = VinylSd) THEN isnull(Exterior2nd#765) ELSE false END THEN false ELSE CASE WHEN (Exterior2nd#765 = VinylSd) THEN (Exterior2nd#765 = VinylSd) ELSE false END END THEN false WHEN CASE WHEN CASE WHEN (Exterior2nd#765 = VinylSd) THEN isnull(Exterior2nd#765) ELSE false END THEN true ELSE CASE WHEN (Exterior2nd#765 = VinylSd) THEN (Exterior2nd#765 = MISSING) ELSE false END END THEN false ELSE CASE WHEN CASE WHEN (Exterior2nd#765 = VinylSd) THEN isnull(Exterior2nd#765) ELSE false END THEN true ELSE CASE WHEN (Exterior2nd#765 = VinylSd) THEN isnull(cast(Exterior2nd#765 as double)) ELSE true END END END OR isnan(CASE WHEN CASE WHEN CASE WHEN (Exterior2nd#765 = VinylSd) THEN isnull(Exterior2nd#765) ELSE false END THEN false ELSE CASE WHEN (Exterior2nd#765 = VinylSd) THEN (Exterior2nd#765 = OTHERS) ELSE true END END THEN 1.0 WHEN CASE WHEN CASE WHEN (Exterior2nd#765 = VinylSd) THEN isnull(Exterior2nd#765) ELSE false END THEN false ELSE CASE WHEN (Exterior2nd#765 = VinylSd) THEN (Exterior2nd#765 = VinylSd) ELSE false END END THEN 0.0 WHEN CASE WHEN CASE WHEN (Exterior2nd#765 = VinylSd) THEN isnull(Exterior2nd#765) ELSE false END THEN true ELSE CASE WHEN (Exterior2nd#765 = VinylSd) THEN (Exterior2nd#765 = MISSING) ELSE false END END THEN 2.0 ELSE CASE WHEN CASE WHEN (Exterior2nd#765 = VinylSd) THEN isnull(Exterior2nd#765) ELSE false END THEN null ELSE CASE WHEN (Exterior2nd#765 = VinylSd) THEN cast(Exterior2nd#765 as double) ELSE null END END END)) THEN 0.0 ELSE CASE WHEN CASE WHEN CASE WHEN (Exterior2nd#765 = VinylSd) THEN isnull(Exterior2nd#765) ELSE false END THEN false ELSE CASE WHEN (Exterior2nd#765 = VinylSd) THEN (Exterior2nd#765 = OTHERS) ELSE true END END THEN 1.0 WHEN CASE WHEN CASE WHEN (Exterior2nd#765 = VinylSd) THEN isnull(Exterior2nd#765) ELSE false END THEN false ELSE CASE WHEN (Exterior2nd#765 = VinylSd) THEN (Exterior2nd#765 = VinylSd) ELSE false END END THEN 0.0 WHEN CASE WHEN CASE WHEN (Exterior2nd#765 = VinylSd) THEN isnull(Exterior2nd#765) ELSE false END THEN true ELSE CASE WHEN (Exterior2nd#765 = VinylSd) THEN (Exterior2nd#765 = MISSING) ELSE false END END THEN 2.0 ELSE CASE WHEN CASE WHEN (Exterior2nd#765 = VinylSd) THEN isnull(Exterior2nd#765) ELSE false END THEN null ELSE CASE WHEN (Exterior2nd#765 = VinylSd) THEN cast(Exterior2nd#765 as double) ELSE null END END END END AS Exterior2nd#18840, ... 65 more fields]\n",
      "      :  +- TakeOrderedAndProject(limit=1022, orderBy=[__index_level_0__#741L ASC NULLS LAST,__natural_order__#1972L ASC NULLS FIRST], output=[__index_level_0__#741L,MSSubClass#742L,MSZoning#743,LotFrontage#744,LotArea#745L,Street#746,Alley#747,LotShape#748,LandContour#749,Utilities#750,LotConfig#751,LandSlope#752,Condition1#754,Condition2#755,BldgType#756,HouseStyle#757,OverallQual#758L,OverallCond#759L,YearBuilt#760L,YearRemodAdd#761L,RoofStyle#762,RoofMatl#763,Exterior1st#764,Exterior2nd#765,... 55 more fields])\n",
      "      :     +- *(6) Project [__index_level_0__#741L, MSSubClass#742L, MSZoning#743, LotFrontage#744, LotArea#745L, Street#746, Alley#747, LotShape#748, LandContour#749, Utilities#750, LotConfig#751, LandSlope#752, Condition1#754, Condition2#755, BldgType#756, HouseStyle#757, OverallQual#758L, OverallCond#759L, YearBuilt#760L, YearRemodAdd#761L, RoofStyle#762, RoofMatl#763, Exterior1st#764, Exterior2nd#765, ... 56 more fields]\n",
      "      :        +- *(6) Project [MSSubClass#742L, MSZoning#743, LotFrontage#744, LotArea#745L, Street#746, Alley#747, LotShape#748, LandContour#749, Utilities#750, LotConfig#751, LandSlope#752, Condition1#754, Condition2#755, BldgType#756, HouseStyle#757, OverallQual#758L, OverallCond#759L, YearBuilt#760L, YearRemodAdd#761L, RoofStyle#762, RoofMatl#763, Exterior1st#764, Exterior2nd#765, MasVnrType#766, ... 56 more fields]\n",
      "      :           +- *(6) BroadcastHashJoin [__index_level_0__#741L], [__right___index_level_0__#1552L], LeftOuter, BuildRight, false\n",
      "      :              :- AQEShuffleRead local\n",
      "      :              :  +- ShuffleQueryStage 0\n",
      "      :              :     +- Exchange hashpartitioning(__index_level_0__#741L, 200), ENSURE_REQUIREMENTS, [id=#35044]\n",
      "      :              :        +- *(1) Project [_2#735L AS __index_level_0__#741L, _1#734.MSSubClass AS MSSubClass#742L, _1#734.MSZoning AS MSZoning#743, _1#734.LotFrontage AS LotFrontage#744, _1#734.LotArea AS LotArea#745L, _1#734.Street AS Street#746, _1#734.Alley AS Alley#747, _1#734.LotShape AS LotShape#748, _1#734.LandContour AS LandContour#749, _1#734.Utilities AS Utilities#750, _1#734.LotConfig AS LotConfig#751, _1#734.LandSlope AS LandSlope#752, _1#734.Condition1 AS Condition1#754, _1#734.Condition2 AS Condition2#755, _1#734.BldgType AS BldgType#756, _1#734.HouseStyle AS HouseStyle#757, _1#734.OverallQual AS OverallQual#758L, _1#734.OverallCond AS OverallCond#759L, _1#734.YearBuilt AS YearBuilt#760L, _1#734.YearRemodAdd AS YearRemodAdd#761L, _1#734.RoofStyle AS RoofStyle#762, _1#734.RoofMatl AS RoofMatl#763, _1#734.Exterior1st AS Exterior1st#764, _1#734.Exterior2nd AS Exterior2nd#765, ... 55 more fields]\n",
      "      :              :           +- *(1) SerializeFromObject [if (isnull(assertnotnull(input[0, scala.Tuple2, true])._1)) null else named_struct(MSSubClass, if (assertnotnull(input[0, scala.Tuple2, true])._1.isNullAt) null else validateexternaltype(getexternalrowfield(assertnotnull(input[0, scala.Tuple2, true])._1, 0, MSSubClass), LongType), MSZoning, if (assertnotnull(input[0, scala.Tuple2, true])._1.isNullAt) null else staticinvoke(class org.apache.spark.unsafe.types.UTF8String, StringType, fromString, validateexternaltype(getexternalrowfield(assertnotnull(input[0, scala.Tuple2, true])._1, 1, MSZoning), StringType), true, false), LotFrontage, if (assertnotnull(input[0, scala.Tuple2, true])._1.isNullAt) null else validateexternaltype(getexternalrowfield(assertnotnull(input[0, scala.Tuple2, true])._1, 2, LotFrontage), DoubleType), LotArea, if (assertnotnull(input[0, scala.Tuple2, true])._1.isNullAt) null else validateexternaltype(getexternalrowfield(assertnotnull(input[0, scala.Tuple2, true])._1, 3, LotArea), LongType), Street, if (assertnotnull(input[0, scala.Tuple2, true])._1.isNullAt) null else staticinvoke(class org.apache.spark.unsafe.types.UTF8String, StringType, fromString, validateexternaltype(getexternalrowfield(assertnotnull(input[0, scala.Tuple2, true])._1, 4, Street), StringType), true, false), Alley, if (assertnotnull(input[0, scala.Tuple2, true])._1.isNullAt) null else staticinvoke(class org.apache.spark.unsafe.types.UTF8String, StringType, fromString, validateexternaltype(getexternalrowfield(assertnotnull(input[0, scala.Tuple2, true])._1, 5, Alley), StringType), true, false), LotShape, if (assertnotnull(input[0, scala.Tuple2, true])._1.isNullAt) null else staticinvoke(class org.apache.spark.unsafe.types.UTF8String, StringType, fromString, validateexternaltype(getexternalrowfield(assertnotnull(input[0, scala.Tuple2, true])._1, 6, LotShape), StringType), true, false), LandContour, if (assertnotnull(input[0, scala.Tuple2, true])._1.isNullAt) null else staticinvoke(class org.apache.spark.unsafe.types.UTF8String, StringType, fromString, validateexternaltype(getexternalrowfield(assertnotnull(input[0, scala.Tuple2, true])._1, 7, LandContour), StringType), true, false), Utilities, if (assertnotnull(input[0, scala.Tuple2, true])._1.isNullAt) null else staticinvoke(class org.apache.spark.unsafe.types.UTF8String, StringType, fromString, validateexternaltype(getexternalrowfield(assertnotnull(input[0, scala.Tuple2, true])._1, 8, Utilities), StringType), true, false), LotConfig, if (assertnotnull(input[0, scala.Tuple2, true])._1.isNullAt) null else staticinvoke(class org.apache.spark.unsafe.types.UTF8String, StringType, fromString, validateexternaltype(getexternalrowfield(assertnotnull(input[0, scala.Tuple2, true])._1, 9, LotConfig), StringType), true, false), LandSlope, if (assertnotnull(input[0, scala.Tuple2, true])._1.isNullAt) null else staticinvoke(class org.apache.spark.unsafe.types.UTF8String, StringType, fromString, validateexternaltype(getexternalrowfield(assertnotnull(input[0, scala.Tuple2, true])._1, 10, LandSlope), StringType), true, false), Condition1, if (assertnotnull(input[0, scala.Tuple2, true])._1.isNullAt) null else staticinvoke(class org.apache.spark.unsafe.types.UTF8String, StringType, fromString, validateexternaltype(getexternalrowfield(assertnotnull(input[0, scala.Tuple2, true])._1, 12, Condition1), StringType), true, false), ... 132 more fields) AS _1#648 AS _1#734, assertnotnull(input[0, scala.Tuple2, true])._2 AS _2#649L AS _2#735L]\n",
      "      :              :              +- Scan[obj#733]\n",
      "      :              +- BroadcastQueryStage 5\n",
      "      :                 +- BroadcastExchange HashedRelationBroadcastMode(List(input[0, bigint, false]),false), [id=#35218]\n",
      "      :                    +- AQEShuffleRead local\n",
      "      :                       +- ShuffleQueryStage 1\n",
      "      :                          +- Exchange hashpartitioning(__right___index_level_0__#1552L, 200), ENSURE_REQUIREMENTS, [id=#35066]\n",
      "      :                             +- *(2) Project [_2#735L AS __right___index_level_0__#1552L]\n",
      "      :                                +- *(2) SerializeFromObject [assertnotnull(input[0, scala.Tuple2, true])._2 AS _2#649L AS _2#735L]\n",
      "      :                                   +- Scan[obj#1559]\n",
      "      +- BroadcastQueryStage 7\n",
      "         +- BroadcastExchange HashedRelationBroadcastMode(List(input[0, bigint, false]),false), [id=#35455]\n",
      "            +- TakeOrderedAndProject(limit=1022, orderBy=[__index_level_0__#741L ASC NULLS LAST,__natural_order__#1972L ASC NULLS FIRST], output=[__right___index_level_0__#19823L,__right_SalePrice#19824])\n",
      "               +- *(5) Project [__index_level_0__#741L, SalePrice#1889, __natural_order__#1972L]\n",
      "                  +- *(5) Project [__right_SalePrice#1553 AS SalePrice#1889, __index_level_0__#741L, monotonically_increasing_id() AS __natural_order__#1972L]\n",
      "                     +- *(5) BroadcastHashJoin [__index_level_0__#741L], [__right___index_level_0__#1552L], LeftOuter, BuildRight, false\n",
      "                        :- AQEShuffleRead local\n",
      "                        :  +- ShuffleQueryStage 3\n",
      "                        :     +- ReusedExchange [__index_level_0__#741L], Exchange hashpartitioning(__right___index_level_0__#1552L, 200), ENSURE_REQUIREMENTS, [id=#35066]\n",
      "                        +- BroadcastQueryStage 6\n",
      "                           +- BroadcastExchange HashedRelationBroadcastMode(List(input[0, bigint, false]),false), [id=#35313]\n",
      "                              +- AQEShuffleRead local\n",
      "                                 +- ShuffleQueryStage 4\n",
      "                                    +- Exchange hashpartitioning(__right___index_level_0__#1552L, 200), ENSURE_REQUIREMENTS, [id=#35130]\n",
      "                                       +- *(4) Project [_2#735L AS __right___index_level_0__#1552L, cast(_1#734.SalePrice as double) AS __right_SalePrice#1553]\n",
      "                                          +- *(4) SerializeFromObject [if (isnull(assertnotnull(input[0, scala.Tuple2, true])._1)) null else named_struct(SalePrice, if (assertnotnull(input[0, scala.Tuple2, true])._1.isNullAt) null else validateexternaltype(getexternalrowfield(assertnotnull(input[0, scala.Tuple2, true])._1, 79, SalePrice), LongType)) AS _1#648 AS _1#734, assertnotnull(input[0, scala.Tuple2, true])._2 AS _2#649L AS _2#735L]\n",
      "                                             +- Scan[obj#19831]\n",
      "\n"
     ]
    },
    {
     "name": "stderr",
     "output_type": "stream",
     "text": [
      "\r",
      "[Stage 819:>                                                        (0 + 1) / 1]\r",
      "\r",
      "                                                                                \r"
     ]
    }
   ],
   "source": [
    "data = ks.read_parquet('data/house_prices.parquet', index_col='Id').reset_index(drop=True)\n",
    "y_ks = data['SalePrice']\n",
    "y_ks = y_ks.astype(float)\n",
    "X_ks = data.drop('SalePrice', axis=1)\n",
    "\n",
    "train_test_split = TrainTestSplit(test_ratio=0.3, strategy='ordered')\n",
    "X_train_ks, X_test_ks, y_train_ks, y_test_ks = \\\n",
    "    train_test_split.transform(X_ks, y_ks)\n",
    "\n",
    "model = RFRSpark(numTrees=50, maxDepth=3, labelCol=y_train.name, seed=0)\n",
    "k = 30\n",
    "\n",
    "offline_steps_ks = [\n",
    "    BinRareCategories(min_ratio=0.2),\n",
    "    ObjectImputer(strategy='constant', value='MISSING'),\n",
    "    OrdinalEncoder(),\n",
    "    NumericsImputer(strategy='constant', value=0),\n",
    "    PolynomialFeatures(\n",
    "        degree=2, \n",
    "        columns=polynomial_columns,\n",
    "        interaction_only=True),\n",
    "    SelectFromModel(model=model,k=k)\n",
    "]\n",
    "offline_pipe_ks = Pipeline(steps=offline_steps_ks)\n",
    "X_train_prepro_ks = offline_pipe_ks.fit_transform(X_train_ks, y_train_ks)\n",
    "features_ks = list(X_train_prepro_ks.columns)"
   ]
  },
  {
   "cell_type": "code",
   "execution_count": 15,
   "metadata": {},
   "outputs": [
    {
     "data": {
      "image/png": "[encoded data removed]",
      "text/plain": [
       "<Figure size 648x648 with 1 Axes>"
      ]
     },
     "metadata": {
      "needs_background": "light"
     },
     "output_type": "display_data"
    }
   ],
   "source": [
    "offline_pipe_ks.get_feature_importances(k=k).iloc[::-1].plot(\n",
    "    kind='barh', \n",
    "    figsize=(9, 9), \n",
    "    title='Feature Importance',\n",
    ");"
   ]
  },
  {
   "cell_type": "markdown",
   "metadata": {},
   "source": [
    "##### Selected features correlation"
   ]
  },
  {
   "cell_type": "code",
   "execution_count": 16,
   "metadata": {},
   "outputs": [
    {
     "data": {
      "text/plain": [
       "'100%'"
      ]
     },
     "execution_count": 16,
     "metadata": {},
     "output_type": "execute_result"
    }
   ],
   "source": [
    "f'{int(100 * np.isin(features_dd, features).mean())}%'"
   ]
  },
  {
   "cell_type": "code",
   "execution_count": 17,
   "metadata": {},
   "outputs": [
    {
     "data": {
      "text/plain": [
       "'66%'"
      ]
     },
     "execution_count": 17,
     "metadata": {},
     "output_type": "execute_result"
    }
   ],
   "source": [
    "f'{int(100 * np.isin(features_ks, features).mean())}%'"
   ]
  },
  {
   "cell_type": "markdown",
   "metadata": {},
   "source": [
    "To compare the results between libraries, the features selected with Pandas will be chosen to build the production pipeline."
   ]
  },
  {
   "cell_type": "markdown",
   "metadata": {},
   "source": [
    "## production pipeline"
   ]
  },
  {
   "cell_type": "markdown",
   "metadata": {},
   "source": [
    "Using the features from the Pandas pipeline to compare the results between the libraries later on.  "
   ]
  },
  {
   "cell_type": "code",
   "execution_count": 18,
   "metadata": {},
   "outputs": [],
   "source": [
    "prod_steps = [\n",
    "    BinRareCategories(min_ratio=0.2),\n",
    "    ObjectImputer(strategy='constant', value='MISSING'),\n",
    "    NumericsImputer(strategy='constant', value=0),\n",
    "    OrdinalEncoder(),\n",
    "    PolynomialFeatures(\n",
    "        degree=2, \n",
    "        columns=polynomial_columns,\n",
    "        interaction_only=True),\n",
    "    KeepColumns(columns_to_keep=features)\n",
    "]"
   ]
  },
  {
   "cell_type": "markdown",
   "metadata": {},
   "source": [
    "### pandas"
   ]
  },
  {
   "cell_type": "code",
   "execution_count": 19,
   "metadata": {},
   "outputs": [],
   "source": [
    "X_train_prod = X_train.copy()\n",
    "X_train_prod_np = X_train_prod.to_numpy()\n",
    "\n",
    "prod_pipe = Pipeline(steps=prod_steps)\n",
    "_ = prod_pipe.fit(X_train_prod, y_train)\n",
    "X_train_prod_prepro = prod_pipe.transform(X_train_prod)\n",
    "X_train_prod_prepro_np = prod_pipe.transform_numpy(\n",
    "    X_train_prod.to_numpy())"
   ]
  },
  {
   "cell_type": "markdown",
   "metadata": {},
   "source": [
    "#### check transform and transform numpy match"
   ]
  },
  {
   "cell_type": "code",
   "execution_count": 20,
   "metadata": {},
   "outputs": [],
   "source": [
    "assert_frame_equal(\n",
    "    pd.DataFrame(X_train_prod_prepro_np),\n",
    "    pd.DataFrame(X_train_prod_prepro.to_numpy())\n",
    ")"
   ]
  },
  {
   "cell_type": "markdown",
   "metadata": {},
   "source": [
    "### dask"
   ]
  },
  {
   "cell_type": "code",
   "execution_count": 21,
   "metadata": {},
   "outputs": [],
   "source": [
    "X_train_prod_dd = X_train_dd.copy()\n",
    "X_train_prod_dd_np = X_train_prod_dd.compute().to_numpy()\n",
    "\n",
    "prod_pipe = Pipeline(steps=prod_steps)\n",
    "_ = prod_pipe.fit(X_train_prod_dd, y_train_dd)\n",
    "X_train_prod_prepro_dd = prod_pipe.transform(X_train_prod_dd)\n",
    "X_train_prod_prepro_dd_np = prod_pipe.transform_numpy(\n",
    "    X_train_prod_dd.compute().to_numpy())"
   ]
  },
  {
   "cell_type": "markdown",
   "metadata": {},
   "source": [
    "#### check transform and transform numpy match"
   ]
  },
  {
   "cell_type": "code",
   "execution_count": 22,
   "metadata": {},
   "outputs": [],
   "source": [
    "assert_frame_equal(\n",
    "    pd.DataFrame(X_train_prod_prepro_dd_np),\n",
    "    pd.DataFrame(X_train_prod_prepro_dd.compute().to_numpy())\n",
    ")"
   ]
  },
  {
   "cell_type": "markdown",
   "metadata": {},
   "source": [
    "### koalas"
   ]
  },
  {
   "cell_type": "code",
   "execution_count": 23,
   "metadata": {},
   "outputs": [
    {
     "name": "stderr",
     "output_type": "stream",
     "text": [
      "21/12/07 18:28:17 ERROR CodeGenerator: failed to compile: org.codehaus.janino.InternalCompilerException: Compiling \"GeneratedClass\" in \"generated.java\": Code of method \"processNext()V\" of class \"org.apache.spark.sql.catalyst.expressions.GeneratedClass$GeneratedIteratorForCodegenStage4\" grows beyond 64 KB\n",
      "org.codehaus.janino.InternalCompilerException: Compiling \"GeneratedClass\" in \"generated.java\": Code of method \"processNext()V\" of class \"org.apache.spark.sql.catalyst.expressions.GeneratedClass$GeneratedIteratorForCodegenStage4\" grows beyond 64 KB\n",
      "\tat org.codehaus.janino.UnitCompiler.compile2(UnitCompiler.java:366)\n",
      "\tat org.codehaus.janino.UnitCompiler.access$000(UnitCompiler.java:226)\n",
      "\tat org.codehaus.janino.UnitCompiler$1.visitCompilationUnit(UnitCompiler.java:336)\n",
      "\tat org.codehaus.janino.UnitCompiler$1.visitCompilationUnit(UnitCompiler.java:333)\n",
      "\tat org.codehaus.janino.Java$CompilationUnit.accept(Java.java:363)\n",
      "\tat org.codehaus.janino.UnitCompiler.compileUnit(UnitCompiler.java:333)\n",
      "\tat org.codehaus.janino.SimpleCompiler.cook(SimpleCompiler.java:235)\n",
      "\tat org.codehaus.janino.SimpleCompiler.compileToClassLoader(SimpleCompiler.java:464)\n",
      "\tat org.codehaus.janino.ClassBodyEvaluator.compileToClass(ClassBodyEvaluator.java:314)\n",
      "\tat org.codehaus.janino.ClassBodyEvaluator.cook(ClassBodyEvaluator.java:237)\n",
      "\tat org.codehaus.janino.SimpleCompiler.cook(SimpleCompiler.java:205)\n",
      "\tat org.codehaus.commons.compiler.Cookable.cook(Cookable.java:80)\n",
      "\tat org.apache.spark.sql.catalyst.expressions.codegen.CodeGenerator$.org$apache$spark$sql$catalyst$expressions$codegen$CodeGenerator$$doCompile(CodeGenerator.scala:1489)\n",
      "\tat org.apache.spark.sql.catalyst.expressions.codegen.CodeGenerator$$anon$1.load(CodeGenerator.scala:1586)\n",
      "\tat org.apache.spark.sql.catalyst.expressions.codegen.CodeGenerator$$anon$1.load(CodeGenerator.scala:1583)\n",
      "\tat org.sparkproject.guava.cache.LocalCache$LoadingValueReference.loadFuture(LocalCache.java:3599)\n",
      "\tat org.sparkproject.guava.cache.LocalCache$Segment.loadSync(LocalCache.java:2379)\n",
      "\tat org.sparkproject.guava.cache.LocalCache$Segment.lockedGetOrLoad(LocalCache.java:2342)\n",
      "\tat org.sparkproject.guava.cache.LocalCache$Segment.get(LocalCache.java:2257)\n",
      "\tat org.sparkproject.guava.cache.LocalCache.get(LocalCache.java:4000)\n",
      "\tat org.sparkproject.guava.cache.LocalCache.getOrLoad(LocalCache.java:4004)\n",
      "\tat org.sparkproject.guava.cache.LocalCache$LocalLoadingCache.get(LocalCache.java:4874)\n",
      "\tat org.apache.spark.sql.catalyst.expressions.codegen.CodeGenerator$.compile(CodeGenerator.scala:1436)\n",
      "\tat org.apache.spark.sql.execution.WholeStageCodegenExec.liftedTree1$1(WholeStageCodegenExec.scala:725)\n",
      "\tat org.apache.spark.sql.execution.WholeStageCodegenExec.doExecute(WholeStageCodegenExec.scala:724)\n",
      "\tat org.apache.spark.sql.execution.SparkPlan.$anonfun$execute$1(SparkPlan.scala:184)\n",
      "\tat org.apache.spark.sql.execution.SparkPlan.$anonfun$executeQuery$1(SparkPlan.scala:222)\n",
      "\tat org.apache.spark.rdd.RDDOperationScope$.withScope(RDDOperationScope.scala:151)\n",
      "\tat org.apache.spark.sql.execution.SparkPlan.executeQuery(SparkPlan.scala:219)\n",
      "\tat org.apache.spark.sql.execution.SparkPlan.execute(SparkPlan.scala:180)\n",
      "\tat org.apache.spark.sql.execution.SparkPlan.getByteArrayRdd(SparkPlan.scala:325)\n",
      "\tat org.apache.spark.sql.execution.SparkPlan.executeCollect(SparkPlan.scala:391)\n",
      "\tat org.apache.spark.sql.execution.adaptive.AdaptiveSparkPlanExec.$anonfun$executeCollect$1(AdaptiveSparkPlanExec.scala:338)\n",
      "\tat org.apache.spark.sql.execution.adaptive.AdaptiveSparkPlanExec.withFinalPlanUpdate(AdaptiveSparkPlanExec.scala:366)\n",
      "\tat org.apache.spark.sql.execution.adaptive.AdaptiveSparkPlanExec.executeCollect(AdaptiveSparkPlanExec.scala:338)\n",
      "\tat org.apache.spark.sql.Dataset.$anonfun$collectToPython$1(Dataset.scala:3538)\n",
      "\tat org.apache.spark.sql.Dataset.$anonfun$withAction$1(Dataset.scala:3706)\n",
      "\tat org.apache.spark.sql.execution.SQLExecution$.$anonfun$withNewExecutionId$5(SQLExecution.scala:103)\n",
      "\tat org.apache.spark.sql.execution.SQLExecution$.withSQLConfPropagated(SQLExecution.scala:163)\n",
      "\tat org.apache.spark.sql.execution.SQLExecution$.$anonfun$withNewExecutionId$1(SQLExecution.scala:90)\n",
      "\tat org.apache.spark.sql.SparkSession.withActive(SparkSession.scala:775)\n",
      "\tat org.apache.spark.sql.execution.SQLExecution$.withNewExecutionId(SQLExecution.scala:64)\n",
      "\tat org.apache.spark.sql.Dataset.withAction(Dataset.scala:3704)\n",
      "\tat org.apache.spark.sql.Dataset.collectToPython(Dataset.scala:3535)\n",
      "\tat jdk.internal.reflect.GeneratedMethodAccessor88.invoke(Unknown Source)\n",
      "\tat java.base/jdk.internal.reflect.DelegatingMethodAccessorImpl.invoke(DelegatingMethodAccessorImpl.java:43)\n",
      "\tat java.base/java.lang.reflect.Method.invoke(Method.java:566)\n",
      "\tat py4j.reflection.MethodInvoker.invoke(MethodInvoker.java:244)\n",
      "\tat py4j.reflection.ReflectionEngine.invoke(ReflectionEngine.java:357)\n",
      "\tat py4j.Gateway.invoke(Gateway.java:282)\n",
      "\tat py4j.commands.AbstractCommand.invokeMethod(AbstractCommand.java:132)\n",
      "\tat py4j.commands.CallCommand.execute(CallCommand.java:79)\n",
      "\tat py4j.ClientServerConnection.waitForCommands(ClientServerConnection.java:182)\n",
      "\tat py4j.ClientServerConnection.run(ClientServerConnection.java:106)\n",
      "\tat java.base/java.lang.Thread.run(Thread.java:834)\n",
      "Caused by: org.codehaus.janino.InternalCompilerException: Code of method \"processNext()V\" of class \"org.apache.spark.sql.catalyst.expressions.GeneratedClass$GeneratedIteratorForCodegenStage4\" grows beyond 64 KB\n",
      "\tat org.codehaus.janino.CodeContext.makeSpace(CodeContext.java:1051)\n",
      "\tat org.codehaus.janino.CodeContext.write(CodeContext.java:932)\n",
      "\tat org.codehaus.janino.UnitCompiler.writeOpcode(UnitCompiler.java:12101)\n",
      "\tat org.codehaus.janino.UnitCompiler.load(UnitCompiler.java:11746)\n",
      "\tat org.codehaus.janino.UnitCompiler.load(UnitCompiler.java:11732)\n",
      "\tat org.codehaus.janino.UnitCompiler.compileGet2(UnitCompiler.java:4528)\n",
      "\tat org.codehaus.janino.UnitCompiler.access$8000(UnitCompiler.java:226)\n",
      "\tat org.codehaus.janino.UnitCompiler$16$1.visitLocalVariableAccess(UnitCompiler.java:4467)\n",
      "\tat org.codehaus.janino.UnitCompiler$16$1.visitLocalVariableAccess(UnitCompiler.java:4459)\n",
      "\tat org.codehaus.janino.Java$LocalVariableAccess.accept(Java.java:4487)\n",
      "\tat org.codehaus.janino.UnitCompiler$16.visitLvalue(UnitCompiler.java:4459)\n",
      "\tat org.codehaus.janino.UnitCompiler$16.visitLvalue(UnitCompiler.java:4455)\n",
      "\tat org.codehaus.janino.Java$Lvalue.accept(Java.java:4353)\n",
      "\tat org.codehaus.janino.UnitCompiler.compileGet(UnitCompiler.java:4455)\n",
      "\tat org.codehaus.janino.UnitCompiler.compileGet2(UnitCompiler.java:4524)\n",
      "\tat org.codehaus.janino.UnitCompiler.access$7500(UnitCompiler.java:226)\n",
      "\tat org.codehaus.janino.UnitCompiler$16$1.visitAmbiguousName(UnitCompiler.java:4462)\n",
      "\tat org.codehaus.janino.UnitCompiler$16$1.visitAmbiguousName(UnitCompiler.java:4459)\n",
      "\tat org.codehaus.janino.Java$AmbiguousName.accept(Java.java:4429)\n",
      "\tat org.codehaus.janino.UnitCompiler$16.visitLvalue(UnitCompiler.java:4459)\n",
      "\tat org.codehaus.janino.UnitCompiler$16.visitLvalue(UnitCompiler.java:4455)\n",
      "\tat org.codehaus.janino.Java$Lvalue.accept(Java.java:4353)\n",
      "\tat org.codehaus.janino.UnitCompiler.compileGet(UnitCompiler.java:4455)\n",
      "\tat org.codehaus.janino.UnitCompiler.compileGetValue(UnitCompiler.java:5683)\n",
      "\tat org.codehaus.janino.UnitCompiler.compileBoolean2(UnitCompiler.java:4043)\n",
      "\tat org.codehaus.janino.UnitCompiler.access$6300(UnitCompiler.java:226)\n",
      "\tat org.codehaus.janino.UnitCompiler$14$1.visitAmbiguousName(UnitCompiler.java:3993)\n",
      "\tat org.codehaus.janino.UnitCompiler$14$1.visitAmbiguousName(UnitCompiler.java:3990)\n",
      "\tat org.codehaus.janino.Java$AmbiguousName.accept(Java.java:4429)\n",
      "\tat org.codehaus.janino.UnitCompiler$14.visitLvalue(UnitCompiler.java:3990)\n",
      "\tat org.codehaus.janino.UnitCompiler$14.visitLvalue(UnitCompiler.java:3986)\n",
      "\tat org.codehaus.janino.Java$Lvalue.accept(Java.java:4353)\n",
      "\tat org.codehaus.janino.UnitCompiler.compileBoolean(UnitCompiler.java:3986)\n",
      "\tat org.codehaus.janino.UnitCompiler.compileBoolean2(UnitCompiler.java:4061)\n",
      "\tat org.codehaus.janino.UnitCompiler.access$6500(UnitCompiler.java:226)\n",
      "\tat org.codehaus.janino.UnitCompiler$14.visitUnaryOperation(UnitCompiler.java:4007)\n",
      "\tat org.codehaus.janino.UnitCompiler$14.visitUnaryOperation(UnitCompiler.java:3986)\n",
      "\tat org.codehaus.janino.Java$UnaryOperation.accept(Java.java:4943)\n",
      "\tat org.codehaus.janino.UnitCompiler.compileBoolean(UnitCompiler.java:3986)\n",
      "\tat org.codehaus.janino.UnitCompiler.compileBoolean2(UnitCompiler.java:4129)\n",
      "\tat org.codehaus.janino.UnitCompiler.access$6600(UnitCompiler.java:226)\n",
      "\tat org.codehaus.janino.UnitCompiler$14.visitBinaryOperation(UnitCompiler.java:4008)\n",
      "\tat org.codehaus.janino.UnitCompiler$14.visitBinaryOperation(UnitCompiler.java:3986)\n",
      "\tat org.codehaus.janino.Java$BinaryOperation.accept(Java.java:5077)\n",
      "\tat org.codehaus.janino.UnitCompiler.compileBoolean(UnitCompiler.java:3986)\n",
      "\tat org.codehaus.janino.UnitCompiler.compile2(UnitCompiler.java:2474)\n",
      "\tat org.codehaus.janino.UnitCompiler.access$1900(UnitCompiler.java:226)\n",
      "\tat org.codehaus.janino.UnitCompiler$6.visitIfStatement(UnitCompiler.java:1498)\n",
      "\tat org.codehaus.janino.UnitCompiler$6.visitIfStatement(UnitCompiler.java:1490)\n",
      "\tat org.codehaus.janino.Java$IfStatement.accept(Java.java:3140)\n",
      "\tat org.codehaus.janino.UnitCompiler.compile(UnitCompiler.java:1490)\n",
      "\tat org.codehaus.janino.UnitCompiler.compileStatements(UnitCompiler.java:1573)\n",
      "\tat org.codehaus.janino.UnitCompiler.compile2(UnitCompiler.java:1559)\n",
      "\tat org.codehaus.janino.UnitCompiler.access$1700(UnitCompiler.java:226)\n",
      "\tat org.codehaus.janino.UnitCompiler$6.visitBlock(UnitCompiler.java:1496)\n",
      "\tat org.codehaus.janino.UnitCompiler$6.visitBlock(UnitCompiler.java:1490)\n",
      "\tat org.codehaus.janino.Java$Block.accept(Java.java:2969)\n",
      "\tat org.codehaus.janino.UnitCompiler.compile(UnitCompiler.java:1490)\n",
      "\tat org.codehaus.janino.UnitCompiler.compile2(UnitCompiler.java:2478)\n",
      "\tat org.codehaus.janino.UnitCompiler.access$1900(UnitCompiler.java:226)\n",
      "\tat org.codehaus.janino.UnitCompiler$6.visitIfStatement(UnitCompiler.java:1498)\n",
      "\tat org.codehaus.janino.UnitCompiler$6.visitIfStatement(UnitCompiler.java:1490)\n",
      "\tat org.codehaus.janino.Java$IfStatement.accept(Java.java:3140)\n",
      "\tat org.codehaus.janino.UnitCompiler.compile(UnitCompiler.java:1490)\n",
      "\tat org.codehaus.janino.UnitCompiler.compileStatements(UnitCompiler.java:1573)\n",
      "\tat org.codehaus.janino.UnitCompiler.compile2(UnitCompiler.java:1559)\n",
      "\tat org.codehaus.janino.UnitCompiler.access$1700(UnitCompiler.java:226)\n",
      "\tat org.codehaus.janino.UnitCompiler$6.visitBlock(UnitCompiler.java:1496)\n",
      "\tat org.codehaus.janino.UnitCompiler$6.visitBlock(UnitCompiler.java:1490)\n",
      "\tat org.codehaus.janino.Java$Block.accept(Java.java:2969)\n",
      "\tat org.codehaus.janino.UnitCompiler.compile(UnitCompiler.java:1490)\n",
      "\tat org.codehaus.janino.UnitCompiler.compile2(UnitCompiler.java:2475)\n",
      "\tat org.codehaus.janino.UnitCompiler.access$1900(UnitCompiler.java:226)\n",
      "\tat org.codehaus.janino.UnitCompiler$6.visitIfStatement(UnitCompiler.java:1498)\n",
      "\tat org.codehaus.janino.UnitCompiler$6.visitIfStatement(UnitCompiler.java:1490)\n",
      "\tat org.codehaus.janino.Java$IfStatement.accept(Java.java:3140)\n",
      "\tat org.codehaus.janino.UnitCompiler.compile(UnitCompiler.java:1490)\n",
      "\tat org.codehaus.janino.UnitCompiler.compileStatements(UnitCompiler.java:1573)\n",
      "\tat org.codehaus.janino.UnitCompiler.compile2(UnitCompiler.java:1559)\n",
      "\tat org.codehaus.janino.UnitCompiler.access$1700(UnitCompiler.java:226)\n",
      "\tat org.codehaus.janino.UnitCompiler$6.visitBlock(UnitCompiler.java:1496)\n",
      "\tat org.codehaus.janino.UnitCompiler$6.visitBlock(UnitCompiler.java:1490)\n",
      "\tat org.codehaus.janino.Java$Block.accept(Java.java:2969)\n",
      "\tat org.codehaus.janino.UnitCompiler.compile(UnitCompiler.java:1490)\n",
      "\tat org.codehaus.janino.UnitCompiler.compile2(UnitCompiler.java:2478)\n",
      "\tat org.codehaus.janino.UnitCompiler.access$1900(UnitCompiler.java:226)\n",
      "\tat org.codehaus.janino.UnitCompiler$6.visitIfStatement(UnitCompiler.java:1498)\n",
      "\tat org.codehaus.janino.UnitCompiler$6.visitIfStatement(UnitCompiler.java:1490)\n",
      "\tat org.codehaus.janino.Java$IfStatement.accept(Java.java:3140)\n",
      "\tat org.codehaus.janino.UnitCompiler.compile(UnitCompiler.java:1490)\n",
      "\tat org.codehaus.janino.UnitCompiler.compileStatements(UnitCompiler.java:1573)\n",
      "\tat org.codehaus.janino.UnitCompiler.compile2(UnitCompiler.java:1559)\n",
      "\tat org.codehaus.janino.UnitCompiler.access$1700(UnitCompiler.java:226)\n",
      "\tat org.codehaus.janino.UnitCompiler$6.visitBlock(UnitCompiler.java:1496)\n",
      "\tat org.codehaus.janino.UnitCompiler$6.visitBlock(UnitCompiler.java:1490)\n",
      "\tat org.codehaus.janino.Java$Block.accept(Java.java:2969)\n",
      "\tat org.codehaus.janino.UnitCompiler.compile(UnitCompiler.java:1490)\n",
      "\tat org.codehaus.janino.UnitCompiler.compile2(UnitCompiler.java:1848)\n",
      "\tat org.codehaus.janino.UnitCompiler.access$2200(UnitCompiler.java:226)\n",
      "\tat org.codehaus.janino.UnitCompiler$6.visitWhileStatement(UnitCompiler.java:1501)\n",
      "\tat org.codehaus.janino.UnitCompiler$6.visitWhileStatement(UnitCompiler.java:1490)\n",
      "\tat org.codehaus.janino.Java$WhileStatement.accept(Java.java:3245)\n",
      "\tat org.codehaus.janino.UnitCompiler.compile(UnitCompiler.java:1490)\n",
      "\tat org.codehaus.janino.UnitCompiler.compileStatements(UnitCompiler.java:1573)\n",
      "\tat org.codehaus.janino.UnitCompiler.compile(UnitCompiler.java:3420)\n",
      "\tat org.codehaus.janino.UnitCompiler.compileDeclaredMethods(UnitCompiler.java:1362)\n",
      "\tat org.codehaus.janino.UnitCompiler.compileDeclaredMethods(UnitCompiler.java:1335)\n",
      "\tat org.codehaus.janino.UnitCompiler.compile2(UnitCompiler.java:807)\n",
      "\tat org.codehaus.janino.UnitCompiler.compile2(UnitCompiler.java:975)\n",
      "\tat org.codehaus.janino.UnitCompiler.access$700(UnitCompiler.java:226)\n",
      "\tat org.codehaus.janino.UnitCompiler$2.visitMemberClassDeclaration(UnitCompiler.java:392)\n",
      "\tat org.codehaus.janino.UnitCompiler$2.visitMemberClassDeclaration(UnitCompiler.java:384)\n",
      "\tat org.codehaus.janino.Java$MemberClassDeclaration.accept(Java.java:1445)\n",
      "\tat org.codehaus.janino.UnitCompiler.compile(UnitCompiler.java:384)\n",
      "\tat org.codehaus.janino.UnitCompiler.compileDeclaredMemberTypes(UnitCompiler.java:1312)\n",
      "\tat org.codehaus.janino.UnitCompiler.compile2(UnitCompiler.java:833)\n",
      "\tat org.codehaus.janino.UnitCompiler.compile2(UnitCompiler.java:410)\n",
      "\tat org.codehaus.janino.UnitCompiler.access$400(UnitCompiler.java:226)\n",
      "\tat org.codehaus.janino.UnitCompiler$2.visitPackageMemberClassDeclaration(UnitCompiler.java:389)\n",
      "\tat org.codehaus.janino.UnitCompiler$2.visitPackageMemberClassDeclaration(UnitCompiler.java:384)\n",
      "\tat org.codehaus.janino.Java$PackageMemberClassDeclaration.accept(Java.java:1594)\n",
      "\tat org.codehaus.janino.UnitCompiler.compile(UnitCompiler.java:384)\n",
      "\tat org.codehaus.janino.UnitCompiler.compile2(UnitCompiler.java:362)\n",
      "\t... 54 more\n",
      "21/12/07 18:28:17 WARN WholeStageCodegenExec: Whole-stage codegen disabled for plan (id=4):\n",
      " *(4) Project [__index_level_0__#741L, MSSubClass#742L, CASE WHEN CASE WHEN CASE WHEN CASE WHEN CASE WHEN CASE WHEN (MSZoning#743 = RL) THEN isnull(MSZoning#743) ELSE false END THEN MISSING ELSE CASE WHEN (MSZoning#743 = RL) THEN MSZoning#743 ELSE OTHERS END END IN (OTHERS,RL) THEN CASE WHEN CASE WHEN (MSZoning#743 = RL) THEN isnull(MSZoning#743) ELSE false END THEN false ELSE CASE WHEN (MSZoning#743 = RL) THEN isnull(MSZoning#743) ELSE false END END ELSE false END THEN MISSING ELSE CASE WHEN CASE WHEN CASE WHEN (MSZoning#743 = RL) THEN isnull(MSZoning#743) ELSE false END THEN MISSING ELSE CASE WHEN (MSZoning#743 = RL) THEN MSZoning#743 ELSE OTHERS END END IN (OTHERS,RL) THEN CASE WHEN CASE WHEN (MSZoning#743 = RL) THEN isnull(MSZoning#743) ELSE false END THEN MISSING ELSE CASE WHEN (MSZoning#743 = RL) THEN MSZoning#743 ELSE OTHERS END END ELSE OTHERS END END IN (OTHERS,RL) THEN CASE WHEN CASE WHEN CASE WHEN CASE WHEN (MSZoning#743 = RL) THEN isnull(MSZoning#743) ELSE false END THEN MISSING ELSE CASE WHEN (MSZoning#743 = RL) THEN MSZoning#743 ELSE OTHERS END END IN (OTHERS,RL) THEN CASE WHEN CASE WHEN (MSZoning#743 = RL) THEN isnull(MSZoning#743) ELSE false END THEN false ELSE CASE WHEN (MSZoning#743 = RL) THEN isnull(MSZoning#743) ELSE false END END ELSE false END THEN false ELSE CASE WHEN CASE WHEN CASE WHEN (MSZoning#743 = RL) THEN isnull(MSZoning#743) ELSE false END THEN MISSING ELSE CASE WHEN (MSZoning#743 = RL) THEN MSZoning#743 ELSE OTHERS END END IN (OTHERS,RL) THEN CASE WHEN CASE WHEN (MSZoning#743 = RL) THEN isnull(MSZoning#743) ELSE false END THEN false ELSE CASE WHEN (MSZoning#743 = RL) THEN isnull(MSZoning#743) ELSE false END END ELSE false END END ELSE false END THEN MISSING ELSE CASE WHEN CASE WHEN CASE WHEN CASE WHEN CASE WHEN (MSZoning#743 = RL) THEN isnull(MSZoning#743) ELSE false END THEN MISSING ELSE CASE WHEN (MSZoning#743 = RL) THEN MSZoning#743 ELSE OTHERS END END IN (OTHERS,RL) THEN CASE WHEN CASE WHEN (MSZoning#743 = RL) THEN isnull(MSZoning#743) ELSE false END THEN false ELSE CASE WHEN (MSZoning#743 = RL) THEN isnull(MSZoning#743) ELSE false END END ELSE false END THEN MISSING ELSE CASE WHEN CASE WHEN CASE WHEN (MSZoning#743 = RL) THEN isnull(MSZoning#743) ELSE false END THEN MISSING ELSE CASE WHEN (MSZoning#743 = RL) THEN MSZoning#743 ELSE OTHERS END END IN (OTHERS,RL) THEN CASE WHEN CASE WHEN (MSZoning#743 = RL) THEN isnull(MSZoning#743) ELSE false END THEN MISSING ELSE CASE WHEN (MSZoning#743 = RL) THEN MSZoning#743 ELSE OTHERS END END ELSE OTHERS END END IN (OTHERS,RL) THEN CASE WHEN CASE WHEN CASE WHEN CASE WHEN (MSZoning#743 = RL) THEN isnull(MSZoning#743) ELSE false END THEN MISSING ELSE CASE WHEN (MSZoning#743 = RL) THEN MSZoning#743 ELSE OTHERS END END IN (OTHERS,RL) THEN CASE WHEN CASE WHEN (MSZoning#743 = RL) THEN isnull(MSZoning#743) ELSE false END THEN false ELSE CASE WHEN (MSZoning#743 = RL) THEN isnull(MSZoning#743) ELSE false END END ELSE false END THEN MISSING ELSE CASE WHEN CASE WHEN CASE WHEN (MSZoning#743 = RL) THEN isnull(MSZoning#743) ELSE false END THEN MISSING ELSE CASE WHEN (MSZoning#743 = RL) THEN MSZoning#743 ELSE OTHERS END END IN (OTHERS,RL) THEN CASE WHEN CASE WHEN (MSZoning#743 = RL) THEN isnull(MSZoning#743) ELSE false END THEN MISSING ELSE CASE WHEN (MSZoning#743 = RL) THEN MSZoning#743 ELSE OTHERS END END ELSE OTHERS END END ELSE OTHERS END END AS MSZoning#40978, CASE WHEN (CASE WHEN (isnull(LotFrontage#744) OR isnan(LotFrontage#744)) THEN false ELSE isnull(LotFrontage#744) END OR isnan(CASE WHEN (isnull(LotFrontage#744) OR isnan(LotFrontage#744)) THEN 0.0 ELSE LotFrontage#744 END)) THEN 0.0 ELSE CASE WHEN (isnull(LotFrontage#744) OR isnan(LotFrontage#744)) THEN 0.0 ELSE LotFrontage#744 END END AS LotFrontage#47204, LotArea#745L, CASE WHEN CASE WHEN CASE WHEN CASE WHEN CASE WHEN CASE WHEN (Street#746 = Pave) THEN isnull(Street#746) ELSE false END THEN false ELSE CASE WHEN (Street#746 = Pave) THEN (Street#746 = Pave) ELSE false END END THEN CASE WHEN CASE WHEN (Street#746 = Pave) THEN isnull(Street#746) ELSE false END THEN false ELSE CASE WHEN (Street#746 = Pave) THEN isnull(Street#746) ELSE false END END ELSE false END THEN false ELSE CASE WHEN CASE WHEN CASE WHEN (Street#746 = Pave) THEN isnull(Street#746) ELSE false END THEN false ELSE CASE WHEN (Street#746 = Pave) THEN (Street#746 = Pave) ELSE false END END THEN CASE WHEN CASE WHEN (Street#746 = Pave) THEN isnull(Street#746) ELSE false END THEN false ELSE CASE WHEN (Street#746 = Pave) THEN (Street#746 = Pave) ELSE false END END ELSE false END END THEN CASE WHEN CASE WHEN CASE WHEN CASE WHEN (Street#746 = Pave) THEN isnull(Street#746) ELSE false END THEN false ELSE CASE WHEN (Street#746 = Pave) THEN (Street#746 = Pave) ELSE false END END THEN CASE WHEN CASE WHEN (Street#746 = Pave) THEN isnull(Street#746) ELSE false END THEN false ELSE CASE WHEN (Street#746 = Pave) THEN isnull(Street#746) ELSE false END END ELSE false END THEN false ELSE CASE WHEN CASE WHEN CASE WHEN (Street#746 = Pave) THEN isnull(Street#746) ELSE false END THEN false ELSE CASE WHEN (Street#746 = Pave) THEN (Street#746 = Pave) ELSE false END END THEN CASE WHEN CASE WHEN (Street#746 = Pave) THEN isnull(Street#746) ELSE false END THEN false ELSE CASE WHEN (Street#746 = Pave) THEN isnull(Street#746) ELSE false END END ELSE false END END ELSE false END THEN MISSING ELSE CASE WHEN CASE WHEN CASE WHEN CASE WHEN CASE WHEN (Street#746 = Pave) THEN isnull(Street#746) ELSE false END THEN false ELSE CASE WHEN (Street#746 = Pave) THEN (Street#746 = Pave) ELSE false END END THEN CASE WHEN CASE WHEN (Street#746 = Pave) THEN isnull(Street#746) ELSE false END THEN false ELSE CASE WHEN (Street#746 = Pave) THEN isnull(Street#746) ELSE false END END ELSE false END THEN false ELSE CASE WHEN CASE WHEN CASE WHEN (Street#746 = Pave) THEN isnull(Street#746) ELSE false END THEN false ELSE CASE WHEN (Street#746 = Pave) THEN (Street#746 = Pave) ELSE false END END THEN CASE WHEN CASE WHEN (Street#746 = Pave) THEN isnull(Street#746) ELSE false END THEN false ELSE CASE WHEN (Street#746 = Pave) THEN (Street#746 = Pave) ELSE false END END ELSE false END END THEN CASE WHEN CASE WHEN CASE WHEN CASE WHEN (Street#746 = Pave) THEN isnull(Street#746) ELSE false END THEN false ELSE CASE WHEN (Street#746 = Pave) THEN (Street#746 = Pave) ELSE false END END THEN CASE WHEN CASE WHEN (Street#746 = Pave) THEN isnull(Street#746) ELSE false END THEN false ELSE CASE WHEN (Street#746 = Pave) THEN isnull(Street#746) ELSE false END END ELSE false END THEN MISSING ELSE CASE WHEN CASE WHEN CASE WHEN (Street#746 = Pave) THEN isnull(Street#746) ELSE false END THEN false ELSE CASE WHEN (Street#746 = Pave) THEN (Street#746 = Pave) ELSE false END END THEN CASE WHEN CASE WHEN (Street#746 = Pave) THEN isnull(Street#746) ELSE false END THEN MISSING ELSE CASE WHEN (Street#746 = Pave) THEN Street#746 ELSE OTHERS END END ELSE OTHERS END END ELSE OTHERS END END AS Street#41123, CASE WHEN CASE WHEN CASE WHEN CASE WHEN CASE WHEN CASE WHEN Alley#747 IN (Pave,Grvl) THEN isnull(Alley#747) ELSE false END THEN false ELSE CASE WHEN Alley#747 IN (Pave,Grvl) THEN (Alley#747 = OTHERS) ELSE true END END THEN CASE WHEN CASE WHEN Alley#747 IN (Pave,Grvl) THEN isnull(Alley#747) ELSE false END THEN false ELSE CASE WHEN Alley#747 IN (Pave,Grvl) THEN isnull(Alley#747) ELSE false END END ELSE false END THEN false ELSE CASE WHEN CASE WHEN CASE WHEN Alley#747 IN (Pave,Grvl) THEN isnull(Alley#747) ELSE false END THEN false ELSE CASE WHEN Alley#747 IN (Pave,Grvl) THEN (Alley#747 = OTHERS) ELSE true END END THEN CASE WHEN CASE WHEN Alley#747 IN (Pave,Grvl) THEN isnull(Alley#747) ELSE false END THEN false ELSE CASE WHEN Alley#747 IN (Pave,Grvl) THEN (Alley#747 = OTHERS) ELSE true END END ELSE true END END THEN CASE WHEN CASE WHEN CASE WHEN CASE WHEN Alley#747 IN (Pave,Grvl) THEN isnull(Alley#747) ELSE false END THEN false ELSE CASE WHEN Alley#747 IN (Pave,Grvl) THEN (Alley#747 = OTHERS) ELSE true END END THEN CASE WHEN CASE WHEN Alley#747 IN (Pave,Grvl) THEN isnull(Alley#747) ELSE false END THEN false ELSE CASE WHEN Alley#747 IN (Pave,Grvl) THEN isnull(Alley#747) ELSE false END END ELSE false END THEN false ELSE CASE WHEN CASE WHEN CASE WHEN Alley#747 IN (Pave,Grvl) THEN isnull(Alley#747) ELSE false END THEN false ELSE CASE WHEN Alley#747 IN (Pave,Grvl) THEN (Alley#747 = OTHERS) ELSE true END END THEN CASE WHEN CASE WHEN Alley#747 IN (Pave,Grvl) THEN isnull(Alley#747) ELSE false END THEN false ELSE CASE WHEN Alley#747 IN (Pave,Grvl) THEN isnull(Alley#747) ELSE false END END ELSE false END END ELSE false END THEN MISSING ELSE CASE WHEN CASE WHEN CASE WHEN CASE WHEN CASE WHEN Alley#747 IN (Pave,Grvl) THEN isnull(Alley#747) ELSE false END THEN false ELSE CASE WHEN Alley#747 IN (Pave,Grvl) THEN (Alley#747 = OTHERS) ELSE true END END THEN CASE WHEN CASE WHEN Alley#747 IN (Pave,Grvl) THEN isnull(Alley#747) ELSE false END THEN false ELSE CASE WHEN Alley#747 IN (Pave,Grvl) THEN isnull(Alley#747) ELSE false END END ELSE false END THEN false ELSE CASE WHEN CASE WHEN CASE WHEN Alley#747 IN (Pave,Grvl) THEN isnull(Alley#747) ELSE false END THEN false ELSE CASE WHEN Alley#747 IN (Pave,Grvl) THEN (Alley#747 = OTHERS) ELSE true END END THEN CASE WHEN CASE WHEN Alley#747 IN (Pave,Grvl) THEN isnull(Alley#747) ELSE false END THEN false ELSE CASE WHEN Alley#747 IN (Pave,Grvl) THEN (Alley#747 = OTHERS) ELSE true END END ELSE true END END THEN CASE WHEN CASE WHEN CASE WHEN CASE WHEN Alley#747 IN (Pave,Grvl) THEN isnull(Alley#747) ELSE false END THEN false ELSE CASE WHEN Alley#747 IN (Pave,Grvl) THEN (Alley#747 = OTHERS) ELSE true END END THEN CASE WHEN CASE WHEN Alley#747 IN (Pave,Grvl) THEN isnull(Alley#747) ELSE false END THEN false ELSE CASE WHEN Alley#747 IN (Pave,Grvl) THEN isnull(Alley#747) ELSE false END END ELSE false END THEN MISSING ELSE CASE WHEN CASE WHEN CASE WHEN Alley#747 IN (Pave,Grvl) THEN isnull(Alley#747) ELSE false END THEN false ELSE CASE WHEN Alley#747 IN (Pave,Grvl) THEN (Alley#747 = OTHERS) ELSE true END END THEN CASE WHEN CASE WHEN Alley#747 IN (Pave,Grvl) THEN isnull(Alley#747) ELSE false END THEN MISSING ELSE CASE WHEN Alley#747 IN (Pave,Grvl) THEN Alley#747 ELSE OTHERS END END ELSE OTHERS END END ELSE OTHERS END END AS Alley#41268, CASE WHEN CASE WHEN CASE WHEN CASE WHEN CASE WHEN CASE WHEN LotShape#748 IN (IR1,Reg) THEN isnull(LotShape#748) ELSE false END THEN MISSING ELSE CASE WHEN LotShape#748 IN (IR1,Reg) THEN LotShape#748 ELSE OTHERS END END IN (IR1,Reg) THEN CASE WHEN CASE WHEN LotShape#748 IN (IR1,Reg) THEN isnull(LotShape#748) ELSE false END THEN false ELSE CASE WHEN LotShape#748 IN (IR1,Reg) THEN isnull(LotShape#748) ELSE false END END ELSE false END THEN MISSING ELSE CASE WHEN CASE WHEN CASE WHEN LotShape#748 IN (IR1,Reg) THEN isnull(LotShape#748) ELSE false END THEN MISSING ELSE CASE WHEN LotShape#748 IN (IR1,Reg) THEN LotShape#748 ELSE OTHERS END END IN (IR1,Reg) THEN CASE WHEN CASE WHEN LotShape#748 IN (IR1,Reg) THEN isnull(LotShape#748) ELSE false END THEN MISSING ELSE CASE WHEN LotShape#748 IN (IR1,Reg) THEN LotShape#748 ELSE OTHERS END END ELSE OTHERS END END IN (IR1,Reg) THEN CASE WHEN CASE WHEN CASE WHEN CASE WHEN LotShape#748 IN (IR1,Reg) THEN isnull(LotShape#748) ELSE false END THEN MISSING ELSE CASE WHEN LotShape#748 IN (IR1,Reg) THEN LotShape#748 ELSE OTHERS END END IN (IR1,Reg) THEN CASE WHEN CASE WHEN LotShape#748 IN (IR1,Reg) THEN isnull(LotShape#748) ELSE false END THEN false ELSE CASE WHEN LotShape#748 IN (IR1,Reg) THEN isnull(LotShape#748) ELSE false END END ELSE false END THEN false ELSE CASE WHEN CASE WHEN CASE WHEN LotShape#748 IN (IR1,Reg) THEN isnull(LotShape#748) ELSE false END THEN MISSING ELSE CASE WHEN LotShape#748 IN (IR1,Reg) THEN LotShape#748 ELSE OTHERS END END IN (IR1,Reg) THEN CASE WHEN CASE WHEN LotShape#748 IN (IR1,Reg) THEN isnull(LotShape#748) ELSE false END THEN false ELSE CASE WHEN LotShape#748 IN (IR1,Reg) THEN isnull(LotShape#748) ELSE false END END ELSE false END END ELSE false END THEN MISSING ELSE CASE WHEN CASE WHEN CASE WHEN CASE WHEN CASE WHEN LotShape#748 IN (IR1,Reg) THEN isnull(LotShape#748) ELSE false END THEN MISSING ELSE CASE WHEN LotShape#748 IN (IR1,Reg) THEN LotShape#748 ELSE OTHERS END END IN (IR1,Reg) THEN CASE WHEN CASE WHEN LotShape#748 IN (IR1,Reg) THEN isnull(LotShape#748) ELSE false END THEN false ELSE CASE WHEN LotShape#748 IN (IR1,Reg) THEN isnull(LotShape#748) ELSE false END END ELSE false END THEN MISSING ELSE CASE WHEN CASE WHEN CASE WHEN LotShape#748 IN (IR1,Reg) THEN isnull(LotShape#748) ELSE false END THEN MISSING ELSE CASE WHEN LotShape#748 IN (IR1,Reg) THEN LotShape#748 ELSE OTHERS END END IN (IR1,Reg) THEN CASE WHEN CASE WHEN LotShape#748 IN (IR1,Reg) THEN isnull(LotShape#748) ELSE false END THEN MISSING ELSE CASE WHEN LotShape#748 IN (IR1,Reg) THEN LotShape#748 ELSE OTHERS END END ELSE OTHERS END END IN (IR1,Reg) THEN CASE WHEN CASE WHEN CASE WHEN CASE WHEN LotShape#748 IN (IR1,Reg) THEN isnull(LotShape#748) ELSE false END THEN MISSING ELSE CASE WHEN LotShape#748 IN (IR1,Reg) THEN LotShape#748 ELSE OTHERS END END IN (IR1,Reg) THEN CASE WHEN CASE WHEN LotShape#748 IN (IR1,Reg) THEN isnull(LotShape#748) ELSE false END THEN false ELSE CASE WHEN LotShape#748 IN (IR1,Reg) THEN isnull(LotShape#748) ELSE false END END ELSE false END THEN MISSING ELSE CASE WHEN CASE WHEN CASE WHEN LotShape#748 IN (IR1,Reg) THEN isnull(LotShape#748) ELSE false END THEN MISSING ELSE CASE WHEN LotShape#748 IN (IR1,Reg) THEN LotShape#748 ELSE OTHERS END END IN (IR1,Reg) THEN CASE WHEN CASE WHEN LotShape#748 IN (IR1,Reg) THEN isnull(LotShape#748) ELSE false END THEN MISSING ELSE CASE WHEN LotShape#748 IN (IR1,Reg) THEN LotShape#748 ELSE OTHERS END END ELSE OTHERS END END ELSE OTHERS END END AS LotShape#41413, CASE WHEN CASE WHEN CASE WHEN CASE WHEN CASE WHEN CASE WHEN (LandContour#749 = Lvl) THEN isnull(LandContour#749) ELSE false END THEN false ELSE CASE WHEN (LandContour#749 = Lvl) THEN (LandContour#749 = Lvl) ELSE false END END THEN CASE WHEN CASE WHEN (LandContour#749 = Lvl) THEN isnull(LandContour#749) ELSE false END THEN false ELSE CASE WHEN (LandContour#749 = Lvl) THEN isnull(LandContour#749) ELSE false END END ELSE false END THEN false ELSE CASE WHEN CASE WHEN CASE WHEN (LandContour#749 = Lvl) THEN isnull(LandContour#749) ELSE false END THEN false ELSE CASE WHEN (LandContour#749 = Lvl) THEN (LandContour#749 = Lvl) ELSE false END END THEN CASE WHEN CASE WHEN (LandContour#749 = Lvl) THEN isnull(LandContour#749) ELSE false END THEN false ELSE CASE WHEN (LandContour#749 = Lvl) THEN (LandContour#749 = Lvl) ELSE false END END ELSE false END END THEN CASE WHEN CASE WHEN CASE WHEN CASE WHEN (LandContour#749 = Lvl) THEN isnull(LandContour#749) ELSE false END THEN false ELSE CASE WHEN (LandContour#749 = Lvl) THEN (LandContour#749 = Lvl) ELSE false END END THEN CASE WHEN CASE WHEN (LandContour#749 = Lvl) THEN isnull(LandContour#749) ELSE false END THEN false ELSE CASE WHEN (LandContour#749 = Lvl) THEN isnull(LandContour#749) ELSE false END END ELSE false END THEN false ELSE CASE WHEN CASE WHEN CASE WHEN (LandContour#749 = Lvl) THEN isnull(LandContour#749) ELSE false END THEN false ELSE CASE WHEN (LandContour#749 = Lvl) THEN (LandContour#749 = Lvl) ELSE false END END THEN CASE WHEN CASE WHEN (LandContour#749 = Lvl) THEN isnull(LandContour#749) ELSE false END THEN false ELSE CASE WHEN (LandContour#749 = Lvl) THEN isnull(LandContour#749) ELSE false END END ELSE false END END ELSE false END THEN MISSING ELSE CASE WHEN CASE WHEN CASE WHEN CASE WHEN CASE WHEN (LandContour#749 = Lvl) THEN isnull(LandContour#749) ELSE false END THEN false ELSE CASE WHEN (LandContour#749 = Lvl) THEN (LandContour#749 = Lvl) ELSE false END END THEN CASE WHEN CASE WHEN (LandContour#749 = Lvl) THEN isnull(LandContour#749) ELSE false END THEN false ELSE CASE WHEN (LandContour#749 = Lvl) THEN isnull(LandContour#749) ELSE false END END ELSE false END THEN false ELSE CASE WHEN CASE WHEN CASE WHEN (LandContour#749 = Lvl) THEN isnull(LandContour#749) ELSE false END THEN false ELSE CASE WHEN (LandContour#749 = Lvl) THEN (LandContour#749 = Lvl) ELSE false END END THEN CASE WHEN CASE WHEN (LandContour#749 = Lvl) THEN isnull(LandContour#749) ELSE false END THEN false ELSE CASE WHEN (LandContour#749 = Lvl) THEN (LandContour#749 = Lvl) ELSE false END END ELSE false END END THEN CASE WHEN CASE WHEN CASE WHEN CASE WHEN (LandContour#749 = Lvl) THEN isnull(LandContour#749) ELSE false END THEN false ELSE CASE WHEN (LandContour#749 = Lvl) THEN (LandContour#749 = Lvl) ELSE false END END THEN CASE WHEN CASE WHEN (LandContour#749 = Lvl) THEN isnull(LandContour#749) ELSE false END THEN false ELSE CASE WHEN (LandContour#749 = Lvl) THEN isnull(LandContour#749) ELSE false END END ELSE false END THEN MISSING ELSE CASE WHEN CASE WHEN CASE WHEN (LandContour#749 = Lvl) THEN isnull(LandContour#749) ELSE false END THEN false ELSE CASE WHEN (LandContour#749 = Lvl) THEN (LandContour#749 = Lvl) ELSE false END END THEN CASE WHEN CASE WHEN (LandContour#749 = Lvl) THEN isnull(LandContour#749) ELSE false END THEN MISSING ELSE CASE WHEN (LandContour#749 = Lvl) THEN LandContour#749 ELSE OTHERS END END ELSE OTHERS END END ELSE OTHERS END END AS LandContour#41558, CASE WHEN CASE WHEN CASE WHEN CASE WHEN CASE WHEN CASE WHEN (Utilities#750 = AllPub) THEN isnull(Utilities#750) ELSE false END THEN false ELSE CASE WHEN (Utilities#750 = AllPub) THEN (Utilities#750 = AllPub) ELSE false END END THEN CASE WHEN CASE WHEN (Utilities#750 = AllPub) THEN isnull(Utilities#750) ELSE false END THEN false ELSE CASE WHEN (Utilities#750 = AllPub) THEN isnull(Utilities#750) ELSE false END END ELSE false END THEN false ELSE CASE WHEN CASE WHEN CASE WHEN (Utilities#750 = AllPub) THEN isnull(Utilities#750) ELSE false END THEN false ELSE CASE WHEN (Utilities#750 = AllPub) THEN (Utilities#750 = AllPub) ELSE false END END THEN CASE WHEN CASE WHEN (Utilities#750 = AllPub) THEN isnull(Utilities#750) ELSE false END THEN false ELSE CASE WHEN (Utilities#750 = AllPub) THEN (Utilities#750 = AllPub) ELSE false END END ELSE false END END THEN CASE WHEN CASE WHEN CASE WHEN CASE WHEN (Utilities#750 = AllPub) THEN isnull(Utilities#750) ELSE false END THEN false ELSE CASE WHEN (Utilities#750 = AllPub) THEN (Utilities#750 = AllPub) ELSE false END END THEN CASE WHEN CASE WHEN (Utilities#750 = AllPub) THEN isnull(Utilities#750) ELSE false END THEN false ELSE CASE WHEN (Utilities#750 = AllPub) THEN isnull(Utilities#750) ELSE false END END ELSE false END THEN false ELSE CASE WHEN CASE WHEN CASE WHEN (Utilities#750 = AllPub) THEN isnull(Utilities#750) ELSE false END THEN false ELSE CASE WHEN (Utilities#750 = AllPub) THEN (Utilities#750 = AllPub) ELSE false END END THEN CASE WHEN CASE WHEN (Utilities#750 = AllPub) THEN isnull(Utilities#750) ELSE false END THEN false ELSE CASE WHEN (Utilities#750 = AllPub) THEN isnull(Utilities#750) ELSE false END END ELSE false END END ELSE false END THEN MISSING ELSE CASE WHEN CASE WHEN CASE WHEN CASE WHEN CASE WHEN (Utilities#750 = AllPub) THEN isnull(Utilities#750) ELSE false END THEN false ELSE CASE WHEN (Utilities#750 = AllPub) THEN (Utilities#750 = AllPub) ELSE false END END THEN CASE WHEN CASE WHEN (Utilities#750 = AllPub) THEN isnull(Utilities#750) ELSE false END THEN false ELSE CASE WHEN (Utilities#750 = AllPub) THEN isnull(Utilities#750) ELSE false END END ELSE false END THEN false ELSE CASE WHEN CASE WHEN CASE WHEN (Utilities#750 = AllPub) THEN isnull(Utilities#750) ELSE false END THEN false ELSE CASE WHEN (Utilities#750 = AllPub) THEN (Utilities#750 = AllPub) ELSE false END END THEN CASE WHEN CASE WHEN (Utilities#750 = AllPub) THEN isnull(Utilities#750) ELSE false END THEN false ELSE CASE WHEN (Utilities#750 = AllPub) THEN (Utilities#750 = AllPub) ELSE false END END ELSE false END END THEN CASE WHEN CASE WHEN CASE WHEN CASE WHEN (Utilities#750 = AllPub) THEN isnull(Utilities#750) ELSE false END THEN false ELSE CASE WHEN (Utilities#750 = AllPub) THEN (Utilities#750 = AllPub) ELSE false END END THEN CASE WHEN CASE WHEN (Utilities#750 = AllPub) THEN isnull(Utilities#750) ELSE false END THEN false ELSE CASE WHEN (Utilities#750 = AllPub) THEN isnull(Utilities#750) ELSE false END END ELSE false END THEN MISSING ELSE CASE WHEN CASE WHEN CASE WHEN (Utilities#750 = AllPub) THEN isnull(Utilities#750) ELSE false END THEN false ELSE CASE WHEN (Utilities#750 = AllPub) THEN (Utilities#750 = AllPub) ELSE false END END THEN CASE WHEN CASE WHEN (Utilities#750 = AllPub) THEN isnull(Utilities#750) ELSE false END THEN MISSING ELSE CASE WHEN (Utilities#750 = AllPub) THEN Utilities#750 ELSE OTHERS END END ELSE OTHERS END END ELSE OTHERS END END AS Utilities#41703, CASE WHEN CASE WHEN CASE WHEN CASE WHEN CASE WHEN CASE WHEN (LotConfig#751 = Inside) THEN isnull(LotConfig#751) ELSE false END THEN MISSING ELSE CASE WHEN (LotConfig#751 = Inside) THEN LotConfig#751 ELSE OTHERS END END IN (OTHERS,Inside) THEN CASE WHEN CASE WHEN (LotConfig#751 = Inside) THEN isnull(LotConfig#751) ELSE false END THEN false ELSE CASE WHEN (LotConfig#751 = Inside) THEN isnull(LotConfig#751) ELSE false END END ELSE false END THEN MISSING ELSE CASE WHEN CASE WHEN CASE WHEN (LotConfig#751 = Inside) THEN isnull(LotConfig#751) ELSE false END THEN MISSING ELSE CASE WHEN (LotConfig#751 = Inside) THEN LotConfig#751 ELSE OTHERS END END IN (OTHERS,Inside) THEN CASE WHEN CASE WHEN (LotConfig#751 = Inside) THEN isnull(LotConfig#751) ELSE false END THEN MISSING ELSE CASE WHEN (LotConfig#751 = Inside) THEN LotConfig#751 ELSE OTHERS END END ELSE OTHERS END END IN (OTHERS,Inside) THEN CASE WHEN CASE WHEN CASE WHEN CASE WHEN (LotConfig#751 = Inside) THEN isnull(LotConfig#751) ELSE false END THEN MISSING ELSE CASE WHEN (LotConfig#751 = Inside) THEN LotConfig#751 ELSE OTHERS END END IN (OTHERS,Inside) THEN CASE WHEN CASE WHEN (LotConfig#751 = Inside) THEN isnull(LotConfig#751) ELSE false END THEN false ELSE CASE WHEN (LotConfig#751 = Inside) THEN isnull(LotConfig#751) ELSE false END END ELSE false END THEN false ELSE CASE WHEN CASE WHEN CASE WHEN (LotConfig#751 = Inside) THEN isnull(LotConfig#751) ELSE false END THEN MISSING ELSE CASE WHEN (LotConfig#751 = Inside) THEN LotConfig#751 ELSE OTHERS END END IN (OTHERS,Inside) THEN CASE WHEN CASE WHEN (LotConfig#751 = Inside) THEN isnull(LotConfig#751) ELSE false END THEN false ELSE CASE WHEN (LotConfig#751 = Inside) THEN isnull(LotConfig#751) ELSE false END END ELSE false END END ELSE false END THEN MISSING ELSE CASE WHEN CASE WHEN CASE WHEN CASE WHEN CASE WHEN (LotConfig#751 = Inside) THEN isnull(LotConfig#751) ELSE false END THEN MISSING ELSE CASE WHEN (LotConfig#751 = Inside) THEN LotConfig#751 ELSE OTHERS END END IN (OTHERS,Inside) THEN CASE WHEN CASE WHEN (LotConfig#751 = Inside) THEN isnull(LotConfig#751) ELSE false END THEN false ELSE CASE WHEN (LotConfig#751 = Inside) THEN isnull(LotConfig#751) ELSE false END END ELSE false END THEN MISSING ELSE CASE WHEN CASE WHEN CASE WHEN (LotConfig#751 = Inside) THEN isnull(LotConfig#751) ELSE false END THEN MISSING ELSE CASE WHEN (LotConfig#751 = Inside) THEN LotConfig#751 ELSE OTHERS END END IN (OTHERS,Inside) THEN CASE WHEN CASE WHEN (LotConfig#751 = Inside) THEN isnull(LotConfig#751) ELSE false END THEN MISSING ELSE CASE WHEN (LotConfig#751 = Inside) THEN LotConfig#751 ELSE OTHERS END END ELSE OTHERS END END IN (OTHERS,Inside) THEN CASE WHEN CASE WHEN CASE WHEN CASE WHEN (LotConfig#751 = Inside) THEN isnull(LotConfig#751) ELSE false END THEN MISSING ELSE CASE WHEN (LotConfig#751 = Inside) THEN LotConfig#751 ELSE OTHERS END END IN (OTHERS,Inside) THEN CASE WHEN CASE WHEN (LotConfig#751 = Inside) THEN isnull(LotConfig#751) ELSE false END THEN false ELSE CASE WHEN (LotConfig#751 = Inside) THEN isnull(LotConfig#751) ELSE false END END ELSE false END THEN MISSING ELSE CASE WHEN CASE WHEN CASE WHEN (LotConfig#751 = Inside) THEN isnull(LotConfig#751) ELSE false END THEN MISSING ELSE CASE WHEN (LotConfig#751 = Inside) THEN LotConfig#751 ELSE OTHERS END END IN (OTHERS,Inside) THEN CASE WHEN CASE WHEN (LotConfig#751 = Inside) THEN isnull(LotConfig#751) ELSE false END THEN MISSING ELSE CASE WHEN (LotConfig#751 = Inside) THEN LotConfig#751 ELSE OTHERS END END ELSE OTHERS END END ELSE OTHERS END END AS LotConfig#41848, CASE WHEN CASE WHEN CASE WHEN CASE WHEN CASE WHEN CASE WHEN (LandSlope#752 = Gtl) THEN isnull(LandSlope#752) ELSE false END THEN false ELSE CASE WHEN (LandSlope#752 = Gtl) THEN (LandSlope#752 = Gtl) ELSE false END END THEN CASE WHEN CASE WHEN (LandSlope#752 = Gtl) THEN isnull(LandSlope#752) ELSE false END THEN false ELSE CASE WHEN (LandSlope#752 = Gtl) THEN isnull(LandSlope#752) ELSE false END END ELSE false END THEN false ELSE CASE WHEN CASE WHEN CASE WHEN (LandSlope#752 = Gtl) THEN isnull(LandSlope#752) ELSE false END THEN false ELSE CASE WHEN (LandSlope#752 = Gtl) THEN (LandSlope#752 = Gtl) ELSE false END END THEN CASE WHEN CASE WHEN (LandSlope#752 = Gtl) THEN isnull(LandSlope#752) ELSE false END THEN false ELSE CASE WHEN (LandSlope#752 = Gtl) THEN (LandSlope#752 = Gtl) ELSE false END END ELSE false END END THEN CASE WHEN CASE WHEN CASE WHEN CASE WHEN (LandSlope#752 = Gtl) THEN isnull(LandSlope#752) ELSE false END THEN false ELSE CASE WHEN (LandSlope#752 = Gtl) THEN (LandSlope#752 = Gtl) ELSE false END END THEN CASE WHEN CASE WHEN (LandSlope#752 = Gtl) THEN isnull(LandSlope#752) ELSE false END THEN false ELSE CASE WHEN (LandSlope#752 = Gtl) THEN isnull(LandSlope#752) ELSE false END END ELSE false END THEN false ELSE CASE WHEN CASE WHEN CASE WHEN (LandSlope#752 = Gtl) THEN isnull(LandSlope#752) ELSE false END THEN false ELSE CASE WHEN (LandSlope#752 = Gtl) THEN (LandSlope#752 = Gtl) ELSE false END END THEN CASE WHEN CASE WHEN (LandSlope#752 = Gtl) THEN isnull(LandSlope#752) ELSE false END THEN false ELSE CASE WHEN (LandSlope#752 = Gtl) THEN isnull(LandSlope#752) ELSE false END END ELSE false END END ELSE false END THEN MISSING ELSE CASE WHEN CASE WHEN CASE WHEN CASE WHEN CASE WHEN (LandSlope#752 = Gtl) THEN isnull(LandSlope#752) ELSE false END THEN false ELSE CASE WHEN (LandSlope#752 = Gtl) THEN (LandSlope#752 = Gtl) ELSE false END END THEN CASE WHEN CASE WHEN (LandSlope#752 = Gtl) THEN isnull(LandSlope#752) ELSE false END THEN false ELSE CASE WHEN (LandSlope#752 = Gtl) THEN isnull(LandSlope#752) ELSE false END END ELSE false END THEN false ELSE CASE WHEN CASE WHEN CASE WHEN (LandSlope#752 = Gtl) THEN isnull(LandSlope#752) ELSE false END THEN false ELSE CASE WHEN (LandSlope#752 = Gtl) THEN (LandSlope#752 = Gtl) ELSE false END END THEN CASE WHEN CASE WHEN (LandSlope#752 = Gtl) THEN isnull(LandSlope#752) ELSE false END THEN false ELSE CASE WHEN (LandSlope#752 = Gtl) THEN (LandSlope#752 = Gtl) ELSE false END END ELSE false END END THEN CASE WHEN CASE WHEN CASE WHEN CASE WHEN (LandSlope#752 = Gtl) THEN isnull(LandSlope#752) ELSE false END THEN false ELSE CASE WHEN (LandSlope#752 = Gtl) THEN (LandSlope#752 = Gtl) ELSE false END END THEN CASE WHEN CASE WHEN (LandSlope#752 = Gtl) THEN isnull(LandSlope#752) ELSE false END THEN false ELSE CASE WHEN (LandSlope#752 = Gtl) THEN isnull(LandSlope#752) ELSE false END END ELSE false END THEN MISSING ELSE CASE WHEN CASE WHEN CASE WHEN (LandSlope#752 = Gtl) THEN isnull(LandSlope#752) ELSE false END THEN false ELSE CASE WHEN (LandSlope#752 = Gtl) THEN (LandSlope#752 = Gtl) ELSE false END END THEN CASE WHEN CASE WHEN (LandSlope#752 = Gtl) THEN isnull(LandSlope#752) ELSE false END THEN MISSING ELSE CASE WHEN (LandSlope#752 = Gtl) THEN LandSlope#752 ELSE OTHERS END END ELSE OTHERS END END ELSE OTHERS END END AS LandSlope#41993, OTHERS AS Neighborhood#42138, CASE WHEN CASE WHEN CASE WHEN CASE WHEN CASE WHEN CASE WHEN (Condition1#754 = Norm) THEN isnull(Condition1#754) ELSE false END THEN false ELSE CASE WHEN (Condition1#754 = Norm) THEN (Condition1#754 = Norm) ELSE false END END THEN CASE WHEN CASE WHEN (Condition1#754 = Norm) THEN isnull(Condition1#754) ELSE false END THEN false ELSE CASE WHEN (Condition1#754 = Norm) THEN isnull(Condition1#754) ELSE false END END ELSE false END THEN false ELSE CASE WHEN CASE WHEN CASE WHEN (Condition1#754 = Norm) THEN isnull(Condition1#754) ELSE false END THEN false ELSE CASE WHEN (Condition1#754 = Norm) THEN (Condition1#754 = Norm) ELSE false END END THEN CASE WHEN CASE WHEN (Condition1#754 = Norm) THEN isnull(Condition1#754) ELSE false END THEN false ELSE CASE WHEN (Condition1#754 = Norm) THEN (Condition1#754 = Norm) ELSE false END END ELSE false END END THEN CASE WHEN CASE WHEN CASE WHEN CASE WHEN (Condition1#754 = Norm) THEN isnull(Condition1#754) ELSE false END THEN false ELSE CASE WHEN (Condition1#754 = Norm) THEN (Condition1#754 = Norm) ELSE false END END THEN CASE WHEN CASE WHEN (Condition1#754 = Norm) THEN isnull(Condition1#754) ELSE false END THEN false ELSE CASE WHEN (Condition1#754 = Norm) THEN isnull(Condition1#754) ELSE false END END ELSE false END THEN false ELSE CASE WHEN CASE WHEN CASE WHEN (Condition1#754 = Norm) THEN isnull(Condition1#754) ELSE false END THEN false ELSE CASE WHEN (Condition1#754 = Norm) THEN (Condition1#754 = Norm) ELSE false END END THEN CASE WHEN CASE WHEN (Condition1#754 = Norm) THEN isnull(Condition1#754) ELSE false END THEN false ELSE CASE WHEN (Condition1#754 = Norm) THEN isnull(Condition1#754) ELSE false END END ELSE false END END ELSE false END THEN MISSING ELSE CASE WHEN CASE WHEN CASE WHEN CASE WHEN CASE WHEN (Condition1#754 = Norm) THEN isnull(Condition1#754) ELSE false END THEN false ELSE CASE WHEN (Condition1#754 = Norm) THEN (Condition1#754 = Norm) ELSE false END END THEN CASE WHEN CASE WHEN (Condition1#754 = Norm) THEN isnull(Condition1#754) ELSE false END THEN false ELSE CASE WHEN (Condition1#754 = Norm) THEN isnull(Condition1#754) ELSE false END END ELSE false END THEN false ELSE CASE WHEN CASE WHEN CASE WHEN (Condition1#754 = Norm) THEN isnull(Condition1#754) ELSE false END THEN false ELSE CASE WHEN (Condition1#754 = Norm) THEN (Condition1#754 = Norm) ELSE false END END THEN CASE WHEN CASE WHEN (Condition1#754 = Norm) THEN isnull(Condition1#754) ELSE false END THEN false ELSE CASE WHEN (Condition1#754 = Norm) THEN (Condition1#754 = Norm) ELSE false END END ELSE false END END THEN CASE WHEN CASE WHEN CASE WHEN CASE WHEN (Condition1#754 = Norm) THEN isnull(Condition1#754) ELSE false END THEN false ELSE CASE WHEN (Condition1#754 = Norm) THEN (Condition1#754 = Norm) ELSE false END END THEN CASE WHEN CASE WHEN (Condition1#754 = Norm) THEN isnull(Condition1#754) ELSE false END THEN false ELSE CASE WHEN (Condition1#754 = Norm) THEN isnull(Condition1#754) ELSE false END END ELSE false END THEN MISSING ELSE CASE WHEN CASE WHEN CASE WHEN (Condition1#754 = Norm) THEN isnull(Condition1#754) ELSE false END THEN false ELSE CASE WHEN (Condition1#754 = Norm) THEN (Condition1#754 = Norm) ELSE false END END THEN CASE WHEN CASE WHEN (Condition1#754 = Norm) THEN isnull(Condition1#754) ELSE false END THEN MISSING ELSE CASE WHEN (Condition1#754 = Norm) THEN Condition1#754 ELSE OTHERS END END ELSE OTHERS END END ELSE OTHERS END END AS Condition1#42283, CASE WHEN CASE WHEN CASE WHEN CASE WHEN CASE WHEN CASE WHEN (Condition2#755 = Norm) THEN isnull(Condition2#755) ELSE false END THEN false ELSE CASE WHEN (Condition2#755 = Norm) THEN (Condition2#755 = Norm) ELSE false END END THEN CASE WHEN CASE WHEN (Condition2#755 = Norm) THEN isnull(Condition2#755) ELSE false END THEN false ELSE CASE WHEN (Condition2#755 = Norm) THEN isnull(Condition2#755) ELSE false END END ELSE false END THEN false ELSE CASE WHEN CASE WHEN CASE WHEN (Condition2#755 = Norm) THEN isnull(Condition2#755) ELSE false END THEN false ELSE CASE WHEN (Condition2#755 = Norm) THEN (Condition2#755 = Norm) ELSE false END END THEN CASE WHEN CASE WHEN (Condition2#755 = Norm) THEN isnull(Condition2#755) ELSE false END THEN false ELSE CASE WHEN (Condition2#755 = Norm) THEN (Condition2#755 = Norm) ELSE false END END ELSE false END END THEN CASE WHEN CASE WHEN CASE WHEN CASE WHEN (Condition2#755 = Norm) THEN isnull(Condition2#755) ELSE false END THEN false ELSE CASE WHEN (Condition2#755 = Norm) THEN (Condition2#755 = Norm) ELSE false END END THEN CASE WHEN CASE WHEN (Condition2#755 = Norm) THEN isnull(Condition2#755) ELSE false END THEN false ELSE CASE WHEN (Condition2#755 = Norm) THEN isnull(Condition2#755) ELSE false END END ELSE false END THEN false ELSE CASE WHEN CASE WHEN CASE WHEN (Condition2#755 = Norm) THEN isnull(Condition2#755) ELSE false END THEN false ELSE CASE WHEN (Condition2#755 = Norm) THEN (Condition2#755 = Norm) ELSE false END END THEN CASE WHEN CASE WHEN (Condition2#755 = Norm) THEN isnull(Condition2#755) ELSE false END THEN false ELSE CASE WHEN (Condition2#755 = Norm) THEN isnull(Condition2#755) ELSE false END END ELSE false END END ELSE false END THEN MISSING ELSE CASE WHEN CASE WHEN CASE WHEN CASE WHEN CASE WHEN (Condition2#755 = Norm) THEN isnull(Condition2#755) ELSE false END THEN false ELSE CASE WHEN (Condition2#755 = Norm) THEN (Condition2#755 = Norm) ELSE false END END THEN CASE WHEN CASE WHEN (Condition2#755 = Norm) THEN isnull(Condition2#755) ELSE false END THEN false ELSE CASE WHEN (Condition2#755 = Norm) THEN isnull(Condition2#755) ELSE false END END ELSE false END THEN false ELSE CASE WHEN CASE WHEN CASE WHEN (Condition2#755 = Norm) THEN isnull(Condition2#755) ELSE false END THEN false ELSE CASE WHEN (Condition2#755 = Norm) THEN (Condition2#755 = Norm) ELSE false END END THEN CASE WHEN CASE WHEN (Condition2#755 = Norm) THEN isnull(Condition2#755) ELSE false END THEN false ELSE CASE WHEN (Condition2#755 = Norm) THEN (Condition2#755 = Norm) ELSE false END END ELSE false END END THEN CASE WHEN CASE WHEN CASE WHEN CASE WHEN (Condition2#755 = Norm) THEN isnull(Condition2#755) ELSE false END THEN false ELSE CASE WHEN (Condition2#755 = Norm) THEN (Condition2#755 = Norm) ELSE false END END THEN CASE WHEN CASE WHEN (Condition2#755 = Norm) THEN isnull(Condition2#755) ELSE false END THEN false ELSE CASE WHEN (Condition2#755 = Norm) THEN isnull(Condition2#755) ELSE false END END ELSE false END THEN MISSING ELSE CASE WHEN CASE WHEN CASE WHEN (Condition2#755 = Norm) THEN isnull(Condition2#755) ELSE false END THEN false ELSE CASE WHEN (Condition2#755 = Norm) THEN (Condition2#755 = Norm) ELSE false END END THEN CASE WHEN CASE WHEN (Condition2#755 = Norm) THEN isnull(Condition2#755) ELSE false END THEN MISSING ELSE CASE WHEN (Condition2#755 = Norm) THEN Condition2#755 ELSE OTHERS END END ELSE OTHERS END END ELSE OTHERS END END AS Condition2#42428, CASE WHEN CASE WHEN CASE WHEN CASE WHEN CASE WHEN CASE WHEN (BldgType#756 = 1Fam) THEN isnull(BldgType#756) ELSE false END THEN false ELSE CASE WHEN (BldgType#756 = 1Fam) THEN (BldgType#756 = 1Fam) ELSE false END END THEN CASE WHEN CASE WHEN (BldgType#756 = 1Fam) THEN isnull(BldgType#756) ELSE false END THEN false ELSE CASE WHEN (BldgType#756 = 1Fam) THEN isnull(BldgType#756) ELSE false END END ELSE false END THEN false ELSE CASE WHEN CASE WHEN CASE WHEN (BldgType#756 = 1Fam) THEN isnull(BldgType#756) ELSE false END THEN false ELSE CASE WHEN (BldgType#756 = 1Fam) THEN (BldgType#756 = 1Fam) ELSE false END END THEN CASE WHEN CASE WHEN (BldgType#756 = 1Fam) THEN isnull(BldgType#756) ELSE false END THEN false ELSE CASE WHEN (BldgType#756 = 1Fam) THEN (BldgType#756 = 1Fam) ELSE false END END ELSE false END END THEN CASE WHEN CASE WHEN CASE WHEN CASE WHEN (BldgType#756 = 1Fam) THEN isnull(BldgType#756) ELSE false END THEN false ELSE CASE WHEN (BldgType#756 = 1Fam) THEN (BldgType#756 = 1Fam) ELSE false END END THEN CASE WHEN CASE WHEN (BldgType#756 = 1Fam) THEN isnull(BldgType#756) ELSE false END THEN false ELSE CASE WHEN (BldgType#756 = 1Fam) THEN isnull(BldgType#756) ELSE false END END ELSE false END THEN false ELSE CASE WHEN CASE WHEN CASE WHEN (BldgType#756 = 1Fam) THEN isnull(BldgType#756) ELSE false END THEN false ELSE CASE WHEN (BldgType#756 = 1Fam) THEN (BldgType#756 = 1Fam) ELSE false END END THEN CASE WHEN CASE WHEN (BldgType#756 = 1Fam) THEN isnull(BldgType#756) ELSE false END THEN false ELSE CASE WHEN (BldgType#756 = 1Fam) THEN isnull(BldgType#756) ELSE false END END ELSE false END END ELSE false END THEN MISSING ELSE CASE WHEN CASE WHEN CASE WHEN CASE WHEN CASE WHEN (BldgType#756 = 1Fam) THEN isnull(BldgType#756) ELSE false END THEN false ELSE CASE WHEN (BldgType#756 = 1Fam) THEN (BldgType#756 = 1Fam) ELSE false END END THEN CASE WHEN CASE WHEN (BldgType#756 = 1Fam) THEN isnull(BldgType#756) ELSE false END THEN false ELSE CASE WHEN (BldgType#756 = 1Fam) THEN isnull(BldgType#756) ELSE false END END ELSE false END THEN false ELSE CASE WHEN CASE WHEN CASE WHEN (BldgType#756 = 1Fam) THEN isnull(BldgType#756) ELSE false END THEN false ELSE CASE WHEN (BldgType#756 = 1Fam) THEN (BldgType#756 = 1Fam) ELSE false END END THEN CASE WHEN CASE WHEN (BldgType#756 = 1Fam) THEN isnull(BldgType#756) ELSE false END THEN false ELSE CASE WHEN (BldgType#756 = 1Fam) THEN (BldgType#756 = 1Fam) ELSE false END END ELSE false END END THEN CASE WHEN CASE WHEN CASE WHEN CASE WHEN (BldgType#756 = 1Fam) THEN isnull(BldgType#756) ELSE false END THEN false ELSE CASE WHEN (BldgType#756 = 1Fam) THEN (BldgType#756 = 1Fam) ELSE false END END THEN CASE WHEN CASE WHEN (BldgType#756 = 1Fam) THEN isnull(BldgType#756) ELSE false END THEN false ELSE CASE WHEN (BldgType#756 = 1Fam) THEN isnull(BldgType#756) ELSE false END END ELSE false END THEN MISSING ELSE CASE WHEN CASE WHEN CASE WHEN (BldgType#756 = 1Fam) THEN isnull(BldgType#756) ELSE false END THEN false ELSE CASE WHEN (BldgType#756 = 1Fam) THEN (BldgType#756 = 1Fam) ELSE false END END THEN CASE WHEN CASE WHEN (BldgType#756 = 1Fam) THEN isnull(BldgType#756) ELSE false END THEN MISSING ELSE CASE WHEN (BldgType#756 = 1Fam) THEN BldgType#756 ELSE OTHERS END END ELSE OTHERS END END ELSE OTHERS END END AS BldgType#42573, CASE WHEN CASE WHEN CASE WHEN CASE WHEN CASE WHEN CASE WHEN HouseStyle#757 IN (2Story,1Story) THEN isnull(HouseStyle#757) ELSE false END THEN MISSING ELSE CASE WHEN HouseStyle#757 IN (2Story,1Story) THEN HouseStyle#757 ELSE OTHERS END END IN (2Story,1Story) THEN CASE WHEN CASE WHEN HouseStyle#757 IN (2Story,1Story) THEN isnull(HouseStyle#757) ELSE false END THEN false ELSE CASE WHEN HouseStyle#757 IN (2Story,1Story) THEN isnull(HouseStyle#757) ELSE false END END ELSE false END THEN MISSING ELSE CASE WHEN CASE WHEN CASE WHEN HouseStyle#757 IN (2Story,1Story) THEN isnull(HouseStyle#757) ELSE false END THEN MISSING ELSE CASE WHEN HouseStyle#757 IN (2Story,1Story) THEN HouseStyle#757 ELSE OTHERS END END IN (2Story,1Story) THEN CASE WHEN CASE WHEN HouseStyle#757 IN (2Story,1Story) THEN isnull(HouseStyle#757) ELSE false END THEN MISSING ELSE CASE WHEN HouseStyle#757 IN (2Story,1Story) THEN HouseStyle#757 ELSE OTHERS END END ELSE OTHERS END END IN (2Story,1Story) THEN CASE WHEN CASE WHEN CASE WHEN CASE WHEN HouseStyle#757 IN (2Story,1Story) THEN isnull(HouseStyle#757) ELSE false END THEN MISSING ELSE CASE WHEN HouseStyle#757 IN (2Story,1Story) THEN HouseStyle#757 ELSE OTHERS END END IN (2Story,1Story) THEN CASE WHEN CASE WHEN HouseStyle#757 IN (2Story,1Story) THEN isnull(HouseStyle#757) ELSE false END THEN false ELSE CASE WHEN HouseStyle#757 IN (2Story,1Story) THEN isnull(HouseStyle#757) ELSE false END END ELSE false END THEN false ELSE CASE WHEN CASE WHEN CASE WHEN HouseStyle#757 IN (2Story,1Story) THEN isnull(HouseStyle#757) ELSE false END THEN MISSING ELSE CASE WHEN HouseStyle#757 IN (2Story,1Story) THEN HouseStyle#757 ELSE OTHERS END END IN (2Story,1Story) THEN CASE WHEN CASE WHEN HouseStyle#757 IN (2Story,1Story) THEN isnull(HouseStyle#757) ELSE false END THEN false ELSE CASE WHEN HouseStyle#757 IN (2Story,1Story) THEN isnull(HouseStyle#757) ELSE false END END ELSE false END END ELSE false END THEN MISSING ELSE CASE WHEN CASE WHEN CASE WHEN CASE WHEN CASE WHEN HouseStyle#757 IN (2Story,1Story) THEN isnull(HouseStyle#757) ELSE false END THEN MISSING ELSE CASE WHEN HouseStyle#757 IN (2Story,1Story) THEN HouseStyle#757 ELSE OTHERS END END IN (2Story,1Story) THEN CASE WHEN CASE WHEN HouseStyle#757 IN (2Story,1Story) THEN isnull(HouseStyle#757) ELSE false END THEN false ELSE CASE WHEN HouseStyle#757 IN (2Story,1Story) THEN isnull(HouseStyle#757) ELSE false END END ELSE false END THEN MISSING ELSE CASE WHEN CASE WHEN CASE WHEN HouseStyle#757 IN (2Story,1Story) THEN isnull(HouseStyle#757) ELSE false END THEN MISSING ELSE CASE WHEN HouseStyle#757 IN (2Story,1Story) THEN HouseStyle#757 ELSE OTHERS END END IN (2Story,1Story) THEN CASE WHEN CASE WHEN HouseStyle#757 IN (2Story,1Story) THEN isnull(HouseStyle#757) ELSE false END THEN MISSING ELSE CASE WHEN HouseStyle#757 IN (2Story,1Story) THEN HouseStyle#757 ELSE OTHERS END END ELSE OTHERS END END IN (2Story,1Story) THEN CASE WHEN CASE WHEN CASE WHEN CASE WHEN HouseStyle#757 IN (2Story,1Story) THEN isnull(HouseStyle#757) ELSE false END THEN MISSING ELSE CASE WHEN HouseStyle#757 IN (2Story,1Story) THEN HouseStyle#757 ELSE OTHERS END END IN (2Story,1Story) THEN CASE WHEN CASE WHEN HouseStyle#757 IN (2Story,1Story) THEN isnull(HouseStyle#757) ELSE false END THEN false ELSE CASE WHEN HouseStyle#757 IN (2Story,1Story) THEN isnull(HouseStyle#757) ELSE false END END ELSE false END THEN MISSING ELSE CASE WHEN CASE WHEN CASE WHEN HouseStyle#757 IN (2Story,1Story) THEN isnull(HouseStyle#757) ELSE false END THEN MISSING ELSE CASE WHEN HouseStyle#757 IN (2Story,1Story) THEN HouseStyle#757 ELSE OTHERS END END IN (2Story,1Story) THEN CASE WHEN CASE WHEN HouseStyle#757 IN (2Story,1Story) THEN isnull(HouseStyle#757) ELSE false END THEN MISSING ELSE CASE WHEN HouseStyle#757 IN (2Story,1Story) THEN HouseStyle#757 ELSE OTHERS END END ELSE OTHERS END END ELSE OTHERS END END AS HouseStyle#42718, OverallQual#758L, OverallCond#759L, YearBuilt#760L, YearRemodAdd#761L, CASE WHEN CASE WHEN CASE WHEN CASE WHEN CASE WHEN CASE WHEN (RoofStyle#762 = Gable) THEN isnull(RoofStyle#762) ELSE false END THEN MISSING ELSE CASE WHEN (RoofStyle#762 = Gable) THEN RoofStyle#762 ELSE OTHERS END END IN (OTHERS,Gable) THEN CASE WHEN CASE WHEN (RoofStyle#762 = Gable) THEN isnull(RoofStyle#762) ELSE false END THEN false ELSE CASE WHEN (RoofStyle#762 = Gable) THEN isnull(RoofStyle#762) ELSE false END END ELSE false END THEN MISSING ELSE CASE WHEN CASE WHEN CASE WHEN (RoofStyle#762 = Gable) THEN isnull(RoofStyle#762) ELSE false END THEN MISSING ELSE CASE WHEN (RoofStyle#762 = Gable) THEN RoofStyle#762 ELSE OTHERS END END IN (OTHERS,Gable) THEN CASE WHEN CASE WHEN (RoofStyle#762 = Gable) THEN isnull(RoofStyle#762) ELSE false END THEN MISSING ELSE CASE WHEN (RoofStyle#762 = Gable) THEN RoofStyle#762 ELSE OTHERS END END ELSE OTHERS END END IN (OTHERS,Gable) THEN CASE WHEN CASE WHEN CASE WHEN CASE WHEN (RoofStyle#762 = Gable) THEN isnull(RoofStyle#762) ELSE false END THEN MISSING ELSE CASE WHEN (RoofStyle#762 = Gable) THEN RoofStyle#762 ELSE OTHERS END END IN (OTHERS,Gable) THEN CASE WHEN CASE WHEN (RoofStyle#762 = Gable) THEN isnull(RoofStyle#762) ELSE false END THEN false ELSE CASE WHEN (RoofStyle#762 = Gable) THEN isnull(RoofStyle#762) ELSE false END END ELSE false END THEN false ELSE CASE WHEN CASE WHEN CASE WHEN (RoofStyle#762 = Gable) THEN isnull(RoofStyle#762) ELSE false END THEN MISSING ELSE CASE WHEN (RoofStyle#762 = Gable) THEN RoofStyle#762 ELSE OTHERS END END IN (OTHERS,Gable) THEN CASE WHEN CASE WHEN (RoofStyle#762 = Gable) THEN isnull(RoofStyle#762) ELSE false END THEN false ELSE CASE WHEN (RoofStyle#762 = Gable) THEN isnull(RoofStyle#762) ELSE false END END ELSE false END END ELSE false END THEN MISSING ELSE CASE WHEN CASE WHEN CASE WHEN CASE WHEN CASE WHEN (RoofStyle#762 = Gable) THEN isnull(RoofStyle#762) ELSE false END THEN MISSING ELSE CASE WHEN (RoofStyle#762 = Gable) THEN RoofStyle#762 ELSE OTHERS END END IN (OTHERS,Gable) THEN CASE WHEN CASE WHEN (RoofStyle#762 = Gable) THEN isnull(RoofStyle#762) ELSE false END THEN false ELSE CASE WHEN (RoofStyle#762 = Gable) THEN isnull(RoofStyle#762) ELSE false END END ELSE false END THEN MISSING ELSE CASE WHEN CASE WHEN CASE WHEN (RoofStyle#762 = Gable) THEN isnull(RoofStyle#762) ELSE false END THEN MISSING ELSE CASE WHEN (RoofStyle#762 = Gable) THEN RoofStyle#762 ELSE OTHERS END END IN (OTHERS,Gable) THEN CASE WHEN CASE WHEN (RoofStyle#762 = Gable) THEN isnull(RoofStyle#762) ELSE false END THEN MISSING ELSE CASE WHEN (RoofStyle#762 = Gable) THEN RoofStyle#762 ELSE OTHERS END END ELSE OTHERS END END IN (OTHERS,Gable) THEN CASE WHEN CASE WHEN CASE WHEN CASE WHEN (RoofStyle#762 = Gable) THEN isnull(RoofStyle#762) ELSE false END THEN MISSING ELSE CASE WHEN (RoofStyle#762 = Gable) THEN RoofStyle#762 ELSE OTHERS END END IN (OTHERS,Gable) THEN CASE WHEN CASE WHEN (RoofStyle#762 = Gable) THEN isnull(RoofStyle#762) ELSE false END THEN false ELSE CASE WHEN (RoofStyle#762 = Gable) THEN isnull(RoofStyle#762) ELSE false END END ELSE false END THEN MISSING ELSE CASE WHEN CASE WHEN CASE WHEN (RoofStyle#762 = Gable) THEN isnull(RoofStyle#762) ELSE false END THEN MISSING ELSE CASE WHEN (RoofStyle#762 = Gable) THEN RoofStyle#762 ELSE OTHERS END END IN (OTHERS,Gable) THEN CASE WHEN CASE WHEN (RoofStyle#762 = Gable) THEN isnull(RoofStyle#762) ELSE false END THEN MISSING ELSE CASE WHEN (RoofStyle#762 = Gable) THEN RoofStyle#762 ELSE OTHERS END END ELSE OTHERS END END ELSE OTHERS END END AS RoofStyle#42863, CASE WHEN CASE WHEN CASE WHEN CASE WHEN CASE WHEN CASE WHEN (RoofMatl#763 = CompShg) THEN isnull(RoofMatl#763) ELSE false END THEN false ELSE CASE WHEN (RoofMatl#763 = CompShg) THEN (RoofMatl#763 = CompShg) ELSE false END END THEN CASE WHEN CASE WHEN (RoofMatl#763 = CompShg) THEN isnull(RoofMatl#763) ELSE false END THEN false ELSE CASE WHEN (RoofMatl#763 = CompShg) THEN isnull(RoofMatl#763) ELSE false END END ELSE false END THEN false ELSE CASE WHEN CASE WHEN CASE WHEN (RoofMatl#763 = CompShg) THEN isnull(RoofMatl#763) ELSE false END THEN false ELSE CASE WHEN (RoofMatl#763 = CompShg) THEN (RoofMatl#763 = CompShg) ELSE false END END THEN CASE WHEN CASE WHEN (RoofMatl#763 = CompShg) THEN isnull(RoofMatl#763) ELSE false END THEN false ELSE CASE WHEN (RoofMatl#763 = CompShg) THEN (RoofMatl#763 = CompShg) ELSE false END END ELSE false END END THEN CASE WHEN CASE WHEN CASE WHEN CASE WHEN (RoofMatl#763 = CompShg) THEN isnull(RoofMatl#763) ELSE false END THEN false ELSE CASE WHEN (RoofMatl#763 = CompShg) THEN (RoofMatl#763 = CompShg) ELSE false END END THEN CASE WHEN CASE WHEN (RoofMatl#763 = CompShg) THEN isnull(RoofMatl#763) ELSE false END THEN false ELSE CASE WHEN (RoofMatl#763 = CompShg) THEN isnull(RoofMatl#763) ELSE false END END ELSE false END THEN false ELSE CASE WHEN CASE WHEN CASE WHEN (RoofMatl#763 = CompShg) THEN isnull(RoofMatl#763) ELSE false END THEN false ELSE CASE WHEN (RoofMatl#763 = CompShg) THEN (RoofMatl#763 = CompShg) ELSE false END END THEN CASE WHEN CASE WHEN (RoofMatl#763 = CompShg) THEN isnull(RoofMatl#763) ELSE false END THEN false ELSE CASE WHEN (RoofMatl#763 = CompShg) THEN isnull(RoofMatl#763) ELSE false END END ELSE false END END ELSE false END THEN MISSING ELSE CASE WHEN CASE WHEN CASE WHEN CASE WHEN CASE WHEN (RoofMatl#763 = CompShg) THEN isnull(RoofMatl#763) ELSE false END THEN false ELSE CASE WHEN (RoofMatl#763 = CompShg) THEN (RoofMatl#763 = CompShg) ELSE false END END THEN CASE WHEN CASE WHEN (RoofMatl#763 = CompShg) THEN isnull(RoofMatl#763) ELSE false END THEN false ELSE CASE WHEN (RoofMatl#763 = CompShg) THEN isnull(RoofMatl#763) ELSE false END END ELSE false END THEN false ELSE CASE WHEN CASE WHEN CASE WHEN (RoofMatl#763 = CompShg) THEN isnull(RoofMatl#763) ELSE false END THEN false ELSE CASE WHEN (RoofMatl#763 = CompShg) THEN (RoofMatl#763 = CompShg) ELSE false END END THEN CASE WHEN CASE WHEN (RoofMatl#763 = CompShg) THEN isnull(RoofMatl#763) ELSE false END THEN false ELSE CASE WHEN (RoofMatl#763 = CompShg) THEN (RoofMatl#763 = CompShg) ELSE false END END ELSE false END END THEN CASE WHEN CASE WHEN CASE WHEN CASE WHEN (RoofMatl#763 = CompShg) THEN isnull(RoofMatl#763) ELSE false END THEN false ELSE CASE WHEN (RoofMatl#763 = CompShg) THEN (RoofMatl#763 = CompShg) ELSE false END END THEN CASE WHEN CASE WHEN (RoofMatl#763 = CompShg) THEN isnull(RoofMatl#763) ELSE false END THEN false ELSE CASE WHEN (RoofMatl#763 = CompShg) THEN isnull(RoofMatl#763) ELSE false END END ELSE false END THEN MISSING ELSE CASE WHEN CASE WHEN CASE WHEN (RoofMatl#763 = CompShg) THEN isnull(RoofMatl#763) ELSE false END THEN false ELSE CASE WHEN (RoofMatl#763 = CompShg) THEN (RoofMatl#763 = CompShg) ELSE false END END THEN CASE WHEN CASE WHEN (RoofMatl#763 = CompShg) THEN isnull(RoofMatl#763) ELSE false END THEN MISSING ELSE CASE WHEN (RoofMatl#763 = CompShg) THEN RoofMatl#763 ELSE OTHERS END END ELSE OTHERS END END ELSE OTHERS END END AS RoofMatl#43008, CASE WHEN CASE WHEN CASE WHEN CASE WHEN CASE WHEN CASE WHEN (Exterior1st#764 = VinylSd) THEN isnull(Exterior1st#764) ELSE false END THEN MISSING ELSE CASE WHEN (Exterior1st#764 = VinylSd) THEN Exterior1st#764 ELSE OTHERS END END IN (VinylSd,OTHERS) THEN CASE WHEN CASE WHEN (Exterior1st#764 = VinylSd) THEN isnull(Exterior1st#764) ELSE false END THEN false ELSE CASE WHEN (Exterior1st#764 = VinylSd) THEN isnull(Exterior1st#764) ELSE false END END ELSE false END THEN MISSING ELSE CASE WHEN CASE WHEN CASE WHEN (Exterior1st#764 = VinylSd) THEN isnull(Exterior1st#764) ELSE false END THEN MISSING ELSE CASE WHEN (Exterior1st#764 = VinylSd) THEN Exterior1st#764 ELSE OTHERS END END IN (VinylSd,OTHERS) THEN CASE WHEN CASE WHEN (Exterior1st#764 = VinylSd) THEN isnull(Exterior1st#764) ELSE false END THEN MISSING ELSE CASE WHEN (Exterior1st#764 = VinylSd) THEN Exterior1st#764 ELSE OTHERS END END ELSE OTHERS END END IN (VinylSd,OTHERS) THEN CASE WHEN CASE WHEN CASE WHEN CASE WHEN (Exterior1st#764 = VinylSd) THEN isnull(Exterior1st#764) ELSE false END THEN MISSING ELSE CASE WHEN (Exterior1st#764 = VinylSd) THEN Exterior1st#764 ELSE OTHERS END END IN (VinylSd,OTHERS) THEN CASE WHEN CASE WHEN (Exterior1st#764 = VinylSd) THEN isnull(Exterior1st#764) ELSE false END THEN false ELSE CASE WHEN (Exterior1st#764 = VinylSd) THEN isnull(Exterior1st#764) ELSE false END END ELSE false END THEN false ELSE CASE WHEN CASE WHEN CASE WHEN (Exterior1st#764 = VinylSd) THEN isnull(Exterior1st#764) ELSE false END THEN MISSING ELSE CASE WHEN (Exterior1st#764 = VinylSd) THEN Exterior1st#764 ELSE OTHERS END END IN (VinylSd,OTHERS) THEN CASE WHEN CASE WHEN (Exterior1st#764 = VinylSd) THEN isnull(Exterior1st#764) ELSE false END THEN false ELSE CASE WHEN (Exterior1st#764 = VinylSd) THEN isnull(Exterior1st#764) ELSE false END END ELSE false END END ELSE false END THEN MISSING ELSE CASE WHEN CASE WHEN CASE WHEN CASE WHEN CASE WHEN (Exterior1st#764 = VinylSd) THEN isnull(Exterior1st#764) ELSE false END THEN MISSING ELSE CASE WHEN (Exterior1st#764 = VinylSd) THEN Exterior1st#764 ELSE OTHERS END END IN (VinylSd,OTHERS) THEN CASE WHEN CASE WHEN (Exterior1st#764 = VinylSd) THEN isnull(Exterior1st#764) ELSE false END THEN false ELSE CASE WHEN (Exterior1st#764 = VinylSd) THEN isnull(Exterior1st#764) ELSE false END END ELSE false END THEN MISSING ELSE CASE WHEN CASE WHEN CASE WHEN (Exterior1st#764 = VinylSd) THEN isnull(Exterior1st#764) ELSE false END THEN MISSING ELSE CASE WHEN (Exterior1st#764 = VinylSd) THEN Exterior1st#764 ELSE OTHERS END END IN (VinylSd,OTHERS) THEN CASE WHEN CASE WHEN (Exterior1st#764 = VinylSd) THEN isnull(Exterior1st#764) ELSE false END THEN MISSING ELSE CASE WHEN (Exterior1st#764 = VinylSd) THEN Exterior1st#764 ELSE OTHERS END END ELSE OTHERS END END IN (VinylSd,OTHERS) THEN CASE WHEN CASE WHEN CASE WHEN CASE WHEN (Exterior1st#764 = VinylSd) THEN isnull(Exterior1st#764) ELSE false END THEN MISSING ELSE CASE WHEN (Exterior1st#764 = VinylSd) THEN Exterior1st#764 ELSE OTHERS END END IN (VinylSd,OTHERS) THEN CASE WHEN CASE WHEN (Exterior1st#764 = VinylSd) THEN isnull(Exterior1st#764) ELSE false END THEN false ELSE CASE WHEN (Exterior1st#764 = VinylSd) THEN isnull(Exterior1st#764) ELSE false END END ELSE false END THEN MISSING ELSE CASE WHEN CASE WHEN CASE WHEN (Exterior1st#764 = VinylSd) THEN isnull(Exterior1st#764) ELSE false END THEN MISSING ELSE CASE WHEN (Exterior1st#764 = VinylSd) THEN Exterior1st#764 ELSE OTHERS END END IN (VinylSd,OTHERS) THEN CASE WHEN CASE WHEN (Exterior1st#764 = VinylSd) THEN isnull(Exterior1st#764) ELSE false END THEN MISSING ELSE CASE WHEN (Exterior1st#764 = VinylSd) THEN Exterior1st#764 ELSE OTHERS END END ELSE OTHERS END END ELSE OTHERS END END AS Exterior1st#43153, ... 56 more fields]\n",
      "+- TakeOrderedAndProject(limit=1022, orderBy=[__index_level_0__#741L ASC NULLS LAST,__natural_order__#1972L ASC NULLS FIRST], output=[__index_level_0__#741L,MSSubClass#742L,MSZoning#743,LotFrontage#744,LotArea#745L,Street#746,Alley#747,LotShape#748,LandContour#749,Utilities#750,LotConfig#751,LandSlope#752,Condition1#754,Condition2#755,BldgType#756,HouseStyle#757,OverallQual#758L,OverallCond#759L,YearBuilt#760L,YearRemodAdd#761L,RoofStyle#762,RoofMatl#763,Exterior1st#764,Exterior2nd#765,... 55 more fields])\n",
      "   +- *(3) Project [__index_level_0__#741L, MSSubClass#742L, MSZoning#743, LotFrontage#744, LotArea#745L, Street#746, Alley#747, LotShape#748, LandContour#749, Utilities#750, LotConfig#751, LandSlope#752, Condition1#754, Condition2#755, BldgType#756, HouseStyle#757, OverallQual#758L, OverallCond#759L, YearBuilt#760L, YearRemodAdd#761L, RoofStyle#762, RoofMatl#763, Exterior1st#764, Exterior2nd#765, ... 56 more fields]\n",
      "      +- *(3) Project [MSSubClass#742L, MSZoning#743, LotFrontage#744, LotArea#745L, Street#746, Alley#747, LotShape#748, LandContour#749, Utilities#750, LotConfig#751, LandSlope#752, Condition1#754, Condition2#755, BldgType#756, HouseStyle#757, OverallQual#758L, OverallCond#759L, YearBuilt#760L, YearRemodAdd#761L, RoofStyle#762, RoofMatl#763, Exterior1st#764, Exterior2nd#765, MasVnrType#766, ... 56 more fields]\n",
      "         +- *(3) BroadcastHashJoin [__index_level_0__#741L], [__right___index_level_0__#1552L], LeftOuter, BuildRight, false\n",
      "            :- AQEShuffleRead local\n",
      "            :  +- ShuffleQueryStage 0\n",
      "            :     +- Exchange hashpartitioning(__index_level_0__#741L, 200), ENSURE_REQUIREMENTS, [id=#70723]\n",
      "            :        +- *(1) Project [_2#735L AS __index_level_0__#741L, _1#734.MSSubClass AS MSSubClass#742L, _1#734.MSZoning AS MSZoning#743, _1#734.LotFrontage AS LotFrontage#744, _1#734.LotArea AS LotArea#745L, _1#734.Street AS Street#746, _1#734.Alley AS Alley#747, _1#734.LotShape AS LotShape#748, _1#734.LandContour AS LandContour#749, _1#734.Utilities AS Utilities#750, _1#734.LotConfig AS LotConfig#751, _1#734.LandSlope AS LandSlope#752, _1#734.Condition1 AS Condition1#754, _1#734.Condition2 AS Condition2#755, _1#734.BldgType AS BldgType#756, _1#734.HouseStyle AS HouseStyle#757, _1#734.OverallQual AS OverallQual#758L, _1#734.OverallCond AS OverallCond#759L, _1#734.YearBuilt AS YearBuilt#760L, _1#734.YearRemodAdd AS YearRemodAdd#761L, _1#734.RoofStyle AS RoofStyle#762, _1#734.RoofMatl AS RoofMatl#763, _1#734.Exterior1st AS Exterior1st#764, _1#734.Exterior2nd AS Exterior2nd#765, ... 55 more fields]\n",
      "            :           +- *(1) SerializeFromObject [if (isnull(assertnotnull(input[0, scala.Tuple2, true])._1)) null else named_struct(MSSubClass, if (assertnotnull(input[0, scala.Tuple2, true])._1.isNullAt) null else validateexternaltype(getexternalrowfield(assertnotnull(input[0, scala.Tuple2, true])._1, 0, MSSubClass), LongType), MSZoning, if (assertnotnull(input[0, scala.Tuple2, true])._1.isNullAt) null else staticinvoke(class org.apache.spark.unsafe.types.UTF8String, StringType, fromString, validateexternaltype(getexternalrowfield(assertnotnull(input[0, scala.Tuple2, true])._1, 1, MSZoning), StringType), true, false), LotFrontage, if (assertnotnull(input[0, scala.Tuple2, true])._1.isNullAt) null else validateexternaltype(getexternalrowfield(assertnotnull(input[0, scala.Tuple2, true])._1, 2, LotFrontage), DoubleType), LotArea, if (assertnotnull(input[0, scala.Tuple2, true])._1.isNullAt) null else validateexternaltype(getexternalrowfield(assertnotnull(input[0, scala.Tuple2, true])._1, 3, LotArea), LongType), Street, if (assertnotnull(input[0, scala.Tuple2, true])._1.isNullAt) null else staticinvoke(class org.apache.spark.unsafe.types.UTF8String, StringType, fromString, validateexternaltype(getexternalrowfield(assertnotnull(input[0, scala.Tuple2, true])._1, 4, Street), StringType), true, false), Alley, if (assertnotnull(input[0, scala.Tuple2, true])._1.isNullAt) null else staticinvoke(class org.apache.spark.unsafe.types.UTF8String, StringType, fromString, validateexternaltype(getexternalrowfield(assertnotnull(input[0, scala.Tuple2, true])._1, 5, Alley), StringType), true, false), LotShape, if (assertnotnull(input[0, scala.Tuple2, true])._1.isNullAt) null else staticinvoke(class org.apache.spark.unsafe.types.UTF8String, StringType, fromString, validateexternaltype(getexternalrowfield(assertnotnull(input[0, scala.Tuple2, true])._1, 6, LotShape), StringType), true, false), LandContour, if (assertnotnull(input[0, scala.Tuple2, true])._1.isNullAt) null else staticinvoke(class org.apache.spark.unsafe.types.UTF8String, StringType, fromString, validateexternaltype(getexternalrowfield(assertnotnull(input[0, scala.Tuple2, true])._1, 7, LandContour), StringType), true, false), Utilities, if (assertnotnull(input[0, scala.Tuple2, true])._1.isNullAt) null else staticinvoke(class org.apache.spark.unsafe.types.UTF8String, StringType, fromString, validateexternaltype(getexternalrowfield(assertnotnull(input[0, scala.Tuple2, true])._1, 8, Utilities), StringType), true, false), LotConfig, if (assertnotnull(input[0, scala.Tuple2, true])._1.isNullAt) null else staticinvoke(class org.apache.spark.unsafe.types.UTF8String, StringType, fromString, validateexternaltype(getexternalrowfield(assertnotnull(input[0, scala.Tuple2, true])._1, 9, LotConfig), StringType), true, false), LandSlope, if (assertnotnull(input[0, scala.Tuple2, true])._1.isNullAt) null else staticinvoke(class org.apache.spark.unsafe.types.UTF8String, StringType, fromString, validateexternaltype(getexternalrowfield(assertnotnull(input[0, scala.Tuple2, true])._1, 10, LandSlope), StringType), true, false), Condition1, if (assertnotnull(input[0, scala.Tuple2, true])._1.isNullAt) null else staticinvoke(class org.apache.spark.unsafe.types.UTF8String, StringType, fromString, validateexternaltype(getexternalrowfield(assertnotnull(input[0, scala.Tuple2, true])._1, 12, Condition1), StringType), true, false), ... 132 more fields) AS _1#648 AS _1#734, assertnotnull(input[0, scala.Tuple2, true])._2 AS _2#649L AS _2#735L]\n",
      "            :              +- Scan[obj#733]\n",
      "            +- BroadcastQueryStage 2\n",
      "               +- BroadcastExchange HashedRelationBroadcastMode(List(input[0, bigint, false]),false), [id=#70788]\n",
      "                  +- AQEShuffleRead local\n",
      "                     +- ShuffleQueryStage 1\n",
      "                        +- Exchange hashpartitioning(__right___index_level_0__#1552L, 200), ENSURE_REQUIREMENTS, [id=#70745]\n",
      "                           +- *(2) Project [_2#735L AS __right___index_level_0__#1552L]\n",
      "                              +- *(2) SerializeFromObject [assertnotnull(input[0, scala.Tuple2, true])._2 AS _2#649L AS _2#735L]\n",
      "                                 +- Scan[obj#1559]\n",
      "\n"
     ]
    },
    {
     "name": "stderr",
     "output_type": "stream",
     "text": [
      "                                                                                \r"
     ]
    }
   ],
   "source": [
    "X_train_prod_ks = X_train_ks.copy()\n",
    "X_train_prod_ks_np = X_train_prod.to_numpy()\n",
    "\n",
    "prod_pipe = Pipeline(steps=prod_steps)\n",
    "_ = prod_pipe.fit(X_train_prod_ks, y_train_ks)\n",
    "X_train_prod_prepro_ks = prod_pipe.transform(X_train_prod_ks)\n",
    "X_train_prod_prepro_ks_np = prod_pipe.transform_numpy(\n",
    "    X_train_prod_ks.to_numpy())"
   ]
  },
  {
   "cell_type": "markdown",
   "metadata": {},
   "source": [
    "#### check transform and transform numpy match"
   ]
  },
  {
   "cell_type": "code",
   "execution_count": 24,
   "metadata": {},
   "outputs": [],
   "source": [
    "assert_frame_equal(\n",
    "    pd.DataFrame(X_train_prod_prepro_ks_np),\n",
    "    pd.DataFrame(X_train_prod_prepro_ks.to_pandas().to_numpy())\n",
    ")"
   ]
  },
  {
   "cell_type": "markdown",
   "metadata": {},
   "source": [
    "#### check pandas, dask, and koalas results match - production pipeline"
   ]
  },
  {
   "cell_type": "code",
   "execution_count": 25,
   "metadata": {},
   "outputs": [],
   "source": [
    "assert np.allclose(\n",
    "    X_train_prod_prepro_np,\n",
    "    X_train_prod_prepro_dd_np)\n",
    "assert np.allclose(\n",
    "    X_train_prod_prepro_np,\n",
    "    X_train_prod_prepro_ks_np)"
   ]
  },
  {
   "cell_type": "markdown",
   "metadata": {},
   "source": [
    "## model building"
   ]
  },
  {
   "cell_type": "markdown",
   "metadata": {},
   "source": [
    "### numpy"
   ]
  },
  {
   "cell_type": "code",
   "execution_count": 26,
   "metadata": {},
   "outputs": [
    {
     "name": "stdout",
     "output_type": "stream",
     "text": [
      "100%|████████| 25/25 [00:15<00:00,  1.65trial/s, best loss: -0.8665538512292406]\n"
     ]
    }
   ],
   "source": [
    "n_splits = 10\n",
    "max_evals = 25\n",
    "kfold = KFold(n_splits=n_splits)\n",
    "space = {\n",
    "    'max_depth': hp.quniform('max_depth', 2, 5, 1),\n",
    "    'learning_rate': hp.loguniform('learning_rate', -3, 0),\n",
    "    'subsample': hp.uniform('subsample', 0.2, 1),\n",
    "    'colsample_bytree': hp.uniform('colsample_bytree', 0.2, 1),\n",
    " }\n",
    "\n",
    "model = LGBMRegressor(\n",
    "    n_estimators=200,\n",
    "    random_state=0,\n",
    ")\n",
    "hyper = HyperOpt(\n",
    "    model=model,\n",
    "    algo=tpe.suggest,\n",
    "    scoring='r2',\n",
    "    space=space,\n",
    "    max_evals=max_evals, \n",
    "    kfold=kfold,\n",
    "    features=features,\n",
    "    )\n",
    "_ = hyper.fit(X_train_prod_prepro_np, y_train.to_numpy())"
   ]
  },
  {
   "cell_type": "code",
   "execution_count": 27,
   "metadata": {},
   "outputs": [
    {
     "data": {
      "image/png": "[encoded data removed]",
      "text/plain": [
       "<Figure size 648x648 with 1 Axes>"
      ]
     },
     "metadata": {
      "needs_background": "light"
     },
     "output_type": "display_data"
    }
   ],
   "source": [
    "hyper.get_feature_importances().iloc[::-1].plot(\n",
    "    kind='barh', \n",
    "    figsize=(9, 9), \n",
    "    title='Most important features',\n",
    ");"
   ]
  },
  {
   "cell_type": "code",
   "execution_count": 28,
   "metadata": {},
   "outputs": [
    {
     "data": {
      "text/html": [
       "<div>\n",
       "<style scoped>\n",
       "    .dataframe tbody tr th:only-of-type {\n",
       "        vertical-align: middle;\n",
       "    }\n",
       "\n",
       "    .dataframe tbody tr th {\n",
       "        vertical-align: top;\n",
       "    }\n",
       "\n",
       "    .dataframe thead th {\n",
       "        text-align: right;\n",
       "    }\n",
       "</style>\n",
       "<table border=\"1\" class=\"dataframe\">\n",
       "  <thead>\n",
       "    <tr style=\"text-align: right;\">\n",
       "      <th></th>\n",
       "      <th>colsample_bytree</th>\n",
       "      <th>learning_rate</th>\n",
       "      <th>max_depth</th>\n",
       "      <th>subsample</th>\n",
       "      <th>loss</th>\n",
       "      <th>status</th>\n",
       "      <th>id</th>\n",
       "    </tr>\n",
       "  </thead>\n",
       "  <tbody>\n",
       "    <tr>\n",
       "      <th>23</th>\n",
       "      <td>0.279262</td>\n",
       "      <td>0.054401</td>\n",
       "      <td>3.0</td>\n",
       "      <td>0.880239</td>\n",
       "      <td>-0.866554</td>\n",
       "      <td>ok</td>\n",
       "      <td>23</td>\n",
       "    </tr>\n",
       "    <tr>\n",
       "      <th>22</th>\n",
       "      <td>0.260153</td>\n",
       "      <td>0.049922</td>\n",
       "      <td>3.0</td>\n",
       "      <td>0.908710</td>\n",
       "      <td>-0.865356</td>\n",
       "      <td>ok</td>\n",
       "      <td>22</td>\n",
       "    </tr>\n",
       "    <tr>\n",
       "      <th>16</th>\n",
       "      <td>0.222584</td>\n",
       "      <td>0.051712</td>\n",
       "      <td>4.0</td>\n",
       "      <td>0.998679</td>\n",
       "      <td>-0.864773</td>\n",
       "      <td>ok</td>\n",
       "      <td>16</td>\n",
       "    </tr>\n",
       "    <tr>\n",
       "      <th>20</th>\n",
       "      <td>0.215272</td>\n",
       "      <td>0.049877</td>\n",
       "      <td>3.0</td>\n",
       "      <td>0.990948</td>\n",
       "      <td>-0.864378</td>\n",
       "      <td>ok</td>\n",
       "      <td>20</td>\n",
       "    </tr>\n",
       "    <tr>\n",
       "      <th>18</th>\n",
       "      <td>0.870962</td>\n",
       "      <td>0.086478</td>\n",
       "      <td>2.0</td>\n",
       "      <td>0.443880</td>\n",
       "      <td>-0.863502</td>\n",
       "      <td>ok</td>\n",
       "      <td>18</td>\n",
       "    </tr>\n",
       "  </tbody>\n",
       "</table>\n",
       "</div>"
      ],
      "text/plain": [
       "    colsample_bytree  learning_rate  max_depth  subsample      loss status  id\n",
       "23          0.279262       0.054401        3.0   0.880239 -0.866554     ok  23\n",
       "22          0.260153       0.049922        3.0   0.908710 -0.865356     ok  22\n",
       "16          0.222584       0.051712        4.0   0.998679 -0.864773     ok  16\n",
       "20          0.215272       0.049877        3.0   0.990948 -0.864378     ok  20\n",
       "18          0.870962       0.086478        2.0   0.443880 -0.863502     ok  18"
      ]
     },
     "execution_count": 28,
     "metadata": {},
     "output_type": "execute_result"
    }
   ],
   "source": [
    "hyper.history.sort_values('loss').head()"
   ]
  },
  {
   "cell_type": "code",
   "execution_count": 29,
   "metadata": {},
   "outputs": [],
   "source": [
    "model_np = copy.copy(hyper.model)\n",
    "model_path = 'models/model_lgbm_house.dill'\n",
    "with open(model_path, 'wb') as file:\n",
    "    dill.dump(model_np, file)"
   ]
  },
  {
   "cell_type": "markdown",
   "metadata": {},
   "source": [
    "### pandas"
   ]
  },
  {
   "cell_type": "code",
   "execution_count": 30,
   "metadata": {},
   "outputs": [],
   "source": [
    "model_pd = copy.copy(model_np)\n",
    "_ = model_pd.fit(X_train_prod_prepro, y_train)"
   ]
  },
  {
   "cell_type": "markdown",
   "metadata": {},
   "source": [
    "### treelite"
   ]
  },
  {
   "cell_type": "code",
   "execution_count": 31,
   "metadata": {},
   "outputs": [
    {
     "name": "stdout",
     "output_type": "stream",
     "text": [
      "[18:28:36] /Users/travis/build/dmlc/treelite/src/compiler/ast/split.cc:29: Parallel compilation enabled; member trees will be divided into 4 translation units.\n",
      "[18:28:38] /Users/travis/build/dmlc/treelite/src/compiler/ast_native.cc:703: Using ASTNativeCompiler\n",
      "[18:28:38] /Users/travis/build/dmlc/treelite/src/compiler/ast/split.cc:29: Parallel compilation enabled; member trees will be divided into 4 translation units.\n",
      "[18:28:38] /Users/travis/build/dmlc/treelite/src/c_api/c_api.cc:92: Code generation finished. Writing code to files...\n",
      "[18:28:38] /Users/travis/build/dmlc/treelite/src/c_api/c_api.cc:97: Writing file recipe.json...\n",
      "[18:28:38] /Users/travis/build/dmlc/treelite/src/c_api/c_api.cc:97: Writing file tu3.c...\n",
      "[18:28:38] /Users/travis/build/dmlc/treelite/src/c_api/c_api.cc:97: Writing file tu2.c...\n",
      "[18:28:38] /Users/travis/build/dmlc/treelite/src/c_api/c_api.cc:97: Writing file tu1.c...\n",
      "[18:28:38] /Users/travis/build/dmlc/treelite/src/c_api/c_api.cc:97: Writing file tu0.c...\n",
      "[18:28:38] /Users/travis/build/dmlc/treelite/src/c_api/c_api.cc:97: Writing file header.h...\n",
      "[18:28:38] /Users/travis/build/dmlc/treelite/src/c_api/c_api.cc:97: Writing file main.c...\n"
     ]
    }
   ],
   "source": [
    "LGBMTreeliteDumper().dump(\n",
    "    model=model_np, \n",
    "    toolchain='gcc',\n",
    "    parallel_comp=4,\n",
    "    model_path='./models/', \n",
    "    model_name='treelite_lgbm_house')"
   ]
  },
  {
   "cell_type": "code",
   "execution_count": 32,
   "metadata": {},
   "outputs": [],
   "source": [
    "import treelite_runtime\n",
    "model_tl = treelite_runtime.Predictor(\n",
    "    './models/treelite_lgbm_house.so', verbose=False)"
   ]
  },
  {
   "cell_type": "markdown",
   "metadata": {},
   "source": [
    "#### check the models prediction match"
   ]
  },
  {
   "cell_type": "code",
   "execution_count": 33,
   "metadata": {},
   "outputs": [],
   "source": [
    "X_test_np = X_test.to_numpy()\n",
    "y_pred_pd = model_pd.predict(\n",
    "    prod_pipe.transform(X_train_prod))\n",
    "y_pred_np = model.predict(\n",
    "    prod_pipe.transform_numpy(X_train_prod_np.copy()))\n",
    "y_pred_tl = model_tl.predict(\n",
    "    treelite_runtime.DMatrix(\n",
    "        prod_pipe.transform_numpy(\n",
    "            X_train_prod_np.copy()\n",
    "        )\n",
    "    )\n",
    ")\n",
    "assert np.allclose(y_pred_np, y_pred_pd)\n",
    "assert np.allclose(y_pred_np, y_pred_tl)"
   ]
  },
  {
   "cell_type": "markdown",
   "metadata": {},
   "source": [
    "## model evaluation"
   ]
  },
  {
   "cell_type": "code",
   "execution_count": 34,
   "metadata": {},
   "outputs": [
    {
     "data": {
      "text/plain": [
       "'R2 score: 0.86'"
      ]
     },
     "execution_count": 34,
     "metadata": {},
     "output_type": "execute_result"
    }
   ],
   "source": [
    "X_test_prod = X_test.copy()\n",
    "X_test_prod_np = X_test_prod.to_numpy()\n",
    "X_test_prod_prepro_np = prod_pipe.transform(X_test_prod).to_numpy()\n",
    "y_test_pred = model_np.predict(X_test_prod_prepro_np)\n",
    "f'R2 score: {r2_score(y_test, y_test_pred):.2f}'"
   ]
  },
  {
   "cell_type": "markdown",
   "metadata": {},
   "source": [
    "## per-sample bechmarking"
   ]
  },
  {
   "cell_type": "markdown",
   "metadata": {},
   "source": [
    "### pipeline only"
   ]
  },
  {
   "cell_type": "code",
   "execution_count": 35,
   "metadata": {},
   "outputs": [
    {
     "name": "stdout",
     "output_type": "stream",
     "text": [
      "62.7 ms ± 7.55 ms per loop (mean ± std. dev. of 7 runs, 10 loops each)\n",
      "36.9 µs ± 3.87 µs per loop (mean ± std. dev. of 7 runs, 10000 loops each)\n"
     ]
    }
   ],
   "source": [
    "x = X_test_prod.iloc[[1]]\n",
    "xnp = x.to_numpy()\n",
    "stats_pd = %timeit -o prod_pipe.transform(x)\n",
    "stats_np = %timeit -o prod_pipe.transform_numpy(xnp.copy())"
   ]
  },
  {
   "cell_type": "code",
   "execution_count": 36,
   "metadata": {},
   "outputs": [
    {
     "data": {
      "text/plain": [
       "'Speed-up Pandas VS Numpy x1699'"
      ]
     },
     "execution_count": 36,
     "metadata": {},
     "output_type": "execute_result"
    }
   ],
   "source": [
    "speedup = 1e3 * float(str(stats_pd).split(' ')[0]) / float(str(stats_np).split(' ')[0])\n",
    "f'Speed-up Pandas VS Numpy x{round(speedup)}'"
   ]
  },
  {
   "cell_type": "markdown",
   "metadata": {},
   "source": [
    "### pipeline & model"
   ]
  },
  {
   "cell_type": "code",
   "execution_count": 37,
   "metadata": {},
   "outputs": [
    {
     "name": "stdout",
     "output_type": "stream",
     "text": [
      "91 ms ± 5.64 ms per loop (mean ± std. dev. of 7 runs, 10 loops each)\n",
      "269 µs ± 6.78 µs per loop (mean ± std. dev. of 7 runs, 1000 loops each)\n",
      "85.8 µs ± 2.2 µs per loop (mean ± std. dev. of 7 runs, 10000 loops each)\n"
     ]
    }
   ],
   "source": [
    "stats_pd = %timeit -o model_pd.predict(prod_pipe.transform(x))[0]\n",
    "stats_np = %timeit -o model.predict(prod_pipe.transform_numpy(xnp.copy()))[0]\n",
    "stats_tl = %timeit -o  model_tl.predict(treelite_runtime.DMatrix(prod_pipe.transform_numpy(xnp.copy())))"
   ]
  },
  {
   "cell_type": "code",
   "execution_count": 38,
   "metadata": {},
   "outputs": [
    {
     "data": {
      "text/plain": [
       "'Speed-up Pandas VS Numpy x338'"
      ]
     },
     "execution_count": 38,
     "metadata": {},
     "output_type": "execute_result"
    }
   ],
   "source": [
    "speedup = 1e3 * float(str(stats_pd).split(' ')[0]) / float(str(stats_np).split(' ')[0])\n",
    "f'Speed-up Pandas VS Numpy x{round(speedup)}'"
   ]
  },
  {
   "cell_type": "code",
   "execution_count": 39,
   "metadata": {},
   "outputs": [
    {
     "data": {
      "text/plain": [
       "'Speed-up Pandas VS Numpy&Treelite x1061'"
      ]
     },
     "execution_count": 39,
     "metadata": {},
     "output_type": "execute_result"
    }
   ],
   "source": [
    "speedup = 1e3 * float(str(stats_pd).split(' ')[0]) / float(str(stats_tl).split(' ')[0])\n",
    "f'Speed-up Pandas VS Numpy&Treelite x{round(speedup)}'"
   ]
  },
  {
   "cell_type": "code",
   "execution_count": null,
   "metadata": {},
   "outputs": [],
   "source": []
  }
 ],
 "metadata": {
  "kernelspec": {
   "display_name": "gators38",
   "language": "python",
   "name": "gators38"
  },
  "language_info": {
   "codemirror_mode": {
    "name": "ipython",
    "version": 3
   },
   "file_extension": ".py",
   "mimetype": "text/x-python",
   "name": "python",
   "nbconvert_exporter": "python",
   "pygments_lexer": "ipython3",
   "version": "3.8.10"
  }
 },
 "nbformat": 4,
 "nbformat_minor": 2
}
